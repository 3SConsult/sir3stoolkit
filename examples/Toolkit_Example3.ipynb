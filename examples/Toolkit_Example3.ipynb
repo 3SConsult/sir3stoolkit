{
 "cells": [
  {
   "cell_type": "markdown",
   "id": "1f7a8949",
   "metadata": {},
   "source": [
    "# Example 3: Pandapipes"
   ]
  },
  {
   "cell_type": "markdown",
   "id": "1325c585",
   "metadata": {},
   "source": [
    "This Example demonstrates how to generate a pandapipes network based on a SIR 3S model. When working with SIR 3S, pandapipes used to offer some freedom in creating simple DH models via Python, but with the introduction of the SIR 3S Toolkit, pandapipes is no longer necessary for this. Therefore the main benefit of pandapipes for SIR 3S users is for comparing calculations to SIR 3S results. "
   ]
  },
  {
   "cell_type": "markdown",
   "id": "d215554d",
   "metadata": {},
   "source": [
    "Note that the SIR 3S model we are using in this Example is quite simple."
   ]
  },
  {
   "cell_type": "markdown",
   "id": "cc993b56",
   "metadata": {},
   "source": [
    "In this Example we will first generate the pandapipes network manually by obtaining element dataframes for pipes and nodes via SIR 3S Toolkit. Then we will perform the same steps but built into one single Toolkit function."
   ]
  },
  {
   "cell_type": "markdown",
   "id": "b8637c9f",
   "metadata": {},
   "source": [
    "# Toolkit Release"
   ]
  },
  {
   "cell_type": "code",
   "execution_count": 43,
   "id": "8b73c793",
   "metadata": {},
   "outputs": [],
   "source": [
    "#pip install "
   ]
  },
  {
   "cell_type": "markdown",
   "id": "6a7ede6c",
   "metadata": {},
   "source": [
    "# Imports"
   ]
  },
  {
   "cell_type": "markdown",
   "id": "26c294cd",
   "metadata": {},
   "source": [
    "## SIR 3S Toolkit"
   ]
  },
  {
   "cell_type": "markdown",
   "id": "83217915",
   "metadata": {},
   "source": [
    "### Regular Import/Init"
   ]
  },
  {
   "cell_type": "code",
   "execution_count": 44,
   "id": "a9d5d77c",
   "metadata": {},
   "outputs": [],
   "source": [
    "SIR3S_SIRGRAF_DIR = r\"C:\\3S\\SIR 3S Entwicklung\\SirGraf-90-15-00-16_Quebec_x64\" #change to local path"
   ]
  },
  {
   "cell_type": "code",
   "execution_count": 45,
   "id": "b42a91b2",
   "metadata": {},
   "outputs": [],
   "source": [
    "import sir3stoolkit"
   ]
  },
  {
   "cell_type": "code",
   "execution_count": 46,
   "id": "43ee1f6e",
   "metadata": {},
   "outputs": [],
   "source": [
    "from sir3stoolkit.core import wrapper"
   ]
  },
  {
   "cell_type": "code",
   "execution_count": 47,
   "id": "c2dad02e",
   "metadata": {},
   "outputs": [
    {
     "data": {
      "text/plain": [
       "<module 'sir3stoolkit' from 'C:\\\\Users\\\\aUsername\\\\3S\\\\sir3stoolkit\\\\src\\\\sir3stoolkit\\\\__init__.py'>"
      ]
     },
     "execution_count": 47,
     "metadata": {},
     "output_type": "execute_result"
    }
   ],
   "source": [
    "sir3stoolkit"
   ]
  },
  {
   "cell_type": "code",
   "execution_count": 48,
   "id": "d46cfd1c",
   "metadata": {},
   "outputs": [],
   "source": [
    "wrapper.Initialize_Toolkit(SIR3S_SIRGRAF_DIR)"
   ]
  },
  {
   "cell_type": "markdown",
   "id": "6d0045f5",
   "metadata": {},
   "source": [
    "### Additional Import/Init for Alternative_Models class"
   ]
  },
  {
   "cell_type": "code",
   "execution_count": 49,
   "id": "03ebacd6",
   "metadata": {},
   "outputs": [],
   "source": [
    "from sir3stoolkit.mantle import alternative_models"
   ]
  },
  {
   "cell_type": "code",
   "execution_count": 50,
   "id": "1f485cff",
   "metadata": {},
   "outputs": [
    {
     "name": "stdout",
     "output_type": "stream",
     "text": [
      "Initialization complete\n"
     ]
    }
   ],
   "source": [
    "s3s = alternative_models.Alternative_Models_SIR3S_Model()"
   ]
  },
  {
   "cell_type": "markdown",
   "id": "c0730ad9",
   "metadata": {},
   "source": [
    "## Additional"
   ]
  },
  {
   "cell_type": "code",
   "execution_count": 51,
   "id": "65935b99",
   "metadata": {},
   "outputs": [],
   "source": [
    "import pandas as pd"
   ]
  },
  {
   "cell_type": "code",
   "execution_count": 52,
   "id": "b89e2fc9",
   "metadata": {},
   "outputs": [],
   "source": [
    "import pandapipes as pp"
   ]
  },
  {
   "cell_type": "code",
   "execution_count": 53,
   "id": "7482c0bb",
   "metadata": {},
   "outputs": [],
   "source": [
    "from shapely import wkt"
   ]
  },
  {
   "cell_type": "code",
   "execution_count": 54,
   "id": "2dfbb32d",
   "metadata": {},
   "outputs": [],
   "source": [
    "import pandapipes.plotting as pp_plot"
   ]
  },
  {
   "cell_type": "markdown",
   "id": "917947a8",
   "metadata": {},
   "source": [
    "# Open SIR 3S Model"
   ]
  },
  {
   "cell_type": "code",
   "execution_count": 55,
   "id": "9920e451",
   "metadata": {},
   "outputs": [
    {
     "name": "stdout",
     "output_type": "stream",
     "text": [
      "Model is open for further operation\n"
     ]
    }
   ],
   "source": [
    "s3s.OpenModel(dbName=r\"C:\\Users\\aUsername\\3S\\PT3S\\PT3S\\Examples\\Example9_2.db3\",\n",
    "              providerType=s3s.ProviderTypes.SQLite,\n",
    "              Mid=\"M-1-0-1\",\n",
    "              saveCurrentlyOpenModel=False,\n",
    "              namedInstance=\"\",\n",
    "              userID=\"\",\n",
    "              password=\"\")"
   ]
  },
  {
   "cell_type": "markdown",
   "id": "25f2cdce",
   "metadata": {},
   "source": [
    "# Generate Pandapipes network manually"
   ]
  },
  {
   "cell_type": "markdown",
   "id": "d1a7f06d",
   "metadata": {},
   "source": [
    "## Create pandapipes network"
   ]
  },
  {
   "cell_type": "markdown",
   "id": "d7adf9b5",
   "metadata": {},
   "source": [
    "### Nodes"
   ]
  },
  {
   "cell_type": "code",
   "execution_count": 56,
   "id": "c7d4cfc2",
   "metadata": {},
   "outputs": [],
   "source": [
    "net = pp.create_empty_network(fluid=\"water\")"
   ]
  },
  {
   "cell_type": "code",
   "execution_count": 57,
   "id": "7c1b1e36",
   "metadata": {},
   "outputs": [
    {
     "name": "stderr",
     "output_type": "stream",
     "text": [
      "[2025-10-07 13:27:29,772] INFO in sir3stoolkit.mantle.dataframes: [metadata] Generating metadata dataframe for element type: ObjectTypes.Node\n",
      "[2025-10-07 13:27:29,773] INFO in sir3stoolkit.mantle.dataframes: [metadata] Retrieved 9 element(s) of element type ObjectTypes.Node.\n",
      "[2025-10-07 13:27:29,776] DEBUG in sir3stoolkit.mantle.dataframes: [Resolving Metadata Properties] Using 5 metadata properties.\n",
      "[2025-10-07 13:27:29,777] INFO in sir3stoolkit.mantle.dataframes: [metadata] Retrieving metadata properties ['Name', 'QmEin', 'bz.PhEin', 'Zkor', 'Ktyp'], geometry...\n",
      "[2025-10-07 13:27:29,777] INFO in sir3stoolkit.mantle.dataframes: [metadata] 0 non-empty end node columns were created)\n",
      "[2025-10-07 13:27:29,783] INFO in sir3stoolkit.mantle.dataframes: [metadata] Done. Shape: (9, 7)\n"
     ]
    }
   ],
   "source": [
    "df_nodes_metadata = s3s.generate_element_metadata_dataframe(s3s.ObjectTypes.Node, ['Name', 'QmEin', 'bz.PhEin', 'Zkor', 'Ktyp'], geometry=True)"
   ]
  },
  {
   "cell_type": "code",
   "execution_count": 58,
   "id": "1d394cb2",
   "metadata": {},
   "outputs": [
    {
     "name": "stderr",
     "output_type": "stream",
     "text": [
      "[2025-10-07 13:27:29,803] INFO in sir3stoolkit.mantle.dataframes: [results] Generating results dataframe for element type: ObjectTypes.Node\n",
      "[2025-10-07 13:27:29,812] INFO in sir3stoolkit.mantle.dataframes: [Resolving Timestamps] Only static timestamp 2025-06-05 15:27:46.000 +02:00 is available\n",
      "[2025-10-07 13:27:29,813] INFO in sir3stoolkit.mantle.dataframes: [results] Retrieved 9 tks.\n",
      "[2025-10-07 13:27:29,816] INFO in sir3stoolkit.mantle.dataframes: [results] Using 3 result properties.\n",
      "[2025-10-07 13:27:29,816] INFO in sir3stoolkit.mantle.dataframes: [results] Retrieving result properties...\n",
      "[2025-10-07 13:27:29,820] INFO in sir3stoolkit.mantle.dataframes: [results] Done. Shape: (9, 5)\n"
     ]
    }
   ],
   "source": [
    "df_nodes_results = s3s.generate_element_results_dataframe(s3s.ObjectTypes.Node, ['PH', 'T', 'QM'], s3s.GetTimeStamps()[0])"
   ]
  },
  {
   "cell_type": "code",
   "execution_count": 59,
   "id": "3c4b0954",
   "metadata": {},
   "outputs": [],
   "source": [
    "df_nodes = pd.merge(df_nodes_metadata, df_nodes_results, on='tk', how='inner')"
   ]
  },
  {
   "cell_type": "code",
   "execution_count": 60,
   "id": "4ca02538",
   "metadata": {},
   "outputs": [
    {
     "data": {
      "text/html": [
       "<div>\n",
       "<style scoped>\n",
       "    .dataframe tbody tr th:only-of-type {\n",
       "        vertical-align: middle;\n",
       "    }\n",
       "\n",
       "    .dataframe tbody tr th {\n",
       "        vertical-align: top;\n",
       "    }\n",
       "\n",
       "    .dataframe thead th {\n",
       "        text-align: right;\n",
       "    }\n",
       "</style>\n",
       "<table border=\"1\" class=\"dataframe\">\n",
       "  <thead>\n",
       "    <tr style=\"text-align: right;\">\n",
       "      <th></th>\n",
       "      <th>tk</th>\n",
       "      <th>Name</th>\n",
       "      <th>QmEin</th>\n",
       "      <th>bz.PhEin</th>\n",
       "      <th>Zkor</th>\n",
       "      <th>Ktyp</th>\n",
       "      <th>geometry</th>\n",
       "      <th>timestamp</th>\n",
       "      <th>PH</th>\n",
       "      <th>T</th>\n",
       "      <th>QM</th>\n",
       "    </tr>\n",
       "  </thead>\n",
       "  <tbody>\n",
       "    <tr>\n",
       "      <th>0</th>\n",
       "      <td>5136506604482101815</td>\n",
       "      <td>K0000</td>\n",
       "      <td>0</td>\n",
       "      <td>100</td>\n",
       "      <td>10</td>\n",
       "      <td>PKON</td>\n",
       "      <td>POINT (149.99985694885254 500.00011920928955)</td>\n",
       "      <td>2025-06-05 15:27:46.000 +02:00</td>\n",
       "      <td>100</td>\n",
       "      <td>0</td>\n",
       "      <td>400</td>\n",
       "    </tr>\n",
       "    <tr>\n",
       "      <th>1</th>\n",
       "      <td>5174640379525019821</td>\n",
       "      <td>K0001</td>\n",
       "      <td>0</td>\n",
       "      <td>0</td>\n",
       "      <td>10</td>\n",
       "      <td>QKON</td>\n",
       "      <td>POINT (349.99996423721313 600.00002384185791)</td>\n",
       "      <td>2025-06-05 15:27:46.000 +02:00</td>\n",
       "      <td>99.99306</td>\n",
       "      <td>0</td>\n",
       "      <td>0</td>\n",
       "    </tr>\n",
       "    <tr>\n",
       "      <th>2</th>\n",
       "      <td>5665004361761998834</td>\n",
       "      <td>K0002</td>\n",
       "      <td>0</td>\n",
       "      <td>0</td>\n",
       "      <td>10</td>\n",
       "      <td>QKON</td>\n",
       "      <td>POINT (550.00007152557373 600.00002384185791)</td>\n",
       "      <td>2025-06-05 15:27:46.000 +02:00</td>\n",
       "      <td>99.86531</td>\n",
       "      <td>0</td>\n",
       "      <td>0</td>\n",
       "    </tr>\n",
       "  </tbody>\n",
       "</table>\n",
       "</div>"
      ],
      "text/plain": [
       "                    tk   Name QmEin bz.PhEin Zkor  Ktyp  \\\n",
       "0  5136506604482101815  K0000     0      100   10  PKON   \n",
       "1  5174640379525019821  K0001     0        0   10  QKON   \n",
       "2  5665004361761998834  K0002     0        0   10  QKON   \n",
       "\n",
       "                                        geometry  \\\n",
       "0  POINT (149.99985694885254 500.00011920928955)   \n",
       "1  POINT (349.99996423721313 600.00002384185791)   \n",
       "2  POINT (550.00007152557373 600.00002384185791)   \n",
       "\n",
       "                        timestamp        PH  T   QM  \n",
       "0  2025-06-05 15:27:46.000 +02:00       100  0  400  \n",
       "1  2025-06-05 15:27:46.000 +02:00  99.99306  0    0  \n",
       "2  2025-06-05 15:27:46.000 +02:00  99.86531  0    0  "
      ]
     },
     "execution_count": 60,
     "metadata": {},
     "output_type": "execute_result"
    }
   ],
   "source": [
    "df_nodes.head(3)"
   ]
  },
  {
   "cell_type": "code",
   "execution_count": 61,
   "id": "2eb58471",
   "metadata": {},
   "outputs": [],
   "source": [
    "js = {}\n",
    "\n",
    "for idx, row in df_nodes.iterrows():\n",
    "    geom = wkt.loads(row[\"geometry\"])\n",
    "    x, y = geom.x, geom.y\n",
    "\n",
    "    j = pp.create_junction(\n",
    "        net,\n",
    "        pn_bar=1 + float(row['PH']),\n",
    "        tfluid_k=273.15 + float(row['T']),\n",
    "        height_m=float(row['Zkor']),\n",
    "        name=f\"{row['Name']}~{row['tk']}\"\n",
    "    )\n",
    "\n",
    "    # Assign geodata to junction_geodata table\n",
    "    net.junction_geodata.at[j, \"x\"] = x\n",
    "    net.junction_geodata.at[j, \"y\"] = y\n",
    "\n",
    "    js[row['tk']] = j"
   ]
  },
  {
   "cell_type": "code",
   "execution_count": 62,
   "id": "e9b757ab",
   "metadata": {},
   "outputs": [
    {
     "data": {
      "text/html": [
       "<div>\n",
       "<style scoped>\n",
       "    .dataframe tbody tr th:only-of-type {\n",
       "        vertical-align: middle;\n",
       "    }\n",
       "\n",
       "    .dataframe tbody tr th {\n",
       "        vertical-align: top;\n",
       "    }\n",
       "\n",
       "    .dataframe thead th {\n",
       "        text-align: right;\n",
       "    }\n",
       "</style>\n",
       "<table border=\"1\" class=\"dataframe\">\n",
       "  <thead>\n",
       "    <tr style=\"text-align: right;\">\n",
       "      <th></th>\n",
       "      <th>name</th>\n",
       "      <th>pn_bar</th>\n",
       "      <th>tfluid_k</th>\n",
       "      <th>height_m</th>\n",
       "      <th>in_service</th>\n",
       "      <th>type</th>\n",
       "    </tr>\n",
       "  </thead>\n",
       "  <tbody>\n",
       "    <tr>\n",
       "      <th>0</th>\n",
       "      <td>K0000~5136506604482101815</td>\n",
       "      <td>101.00000</td>\n",
       "      <td>273.15</td>\n",
       "      <td>10.0</td>\n",
       "      <td>True</td>\n",
       "      <td>junction</td>\n",
       "    </tr>\n",
       "    <tr>\n",
       "      <th>1</th>\n",
       "      <td>K0001~5174640379525019821</td>\n",
       "      <td>100.99306</td>\n",
       "      <td>273.15</td>\n",
       "      <td>10.0</td>\n",
       "      <td>True</td>\n",
       "      <td>junction</td>\n",
       "    </tr>\n",
       "    <tr>\n",
       "      <th>2</th>\n",
       "      <td>K0002~5665004361761998834</td>\n",
       "      <td>100.86531</td>\n",
       "      <td>273.15</td>\n",
       "      <td>10.0</td>\n",
       "      <td>True</td>\n",
       "      <td>junction</td>\n",
       "    </tr>\n",
       "    <tr>\n",
       "      <th>3</th>\n",
       "      <td>K0003~5185493728872360834</td>\n",
       "      <td>100.72040</td>\n",
       "      <td>273.15</td>\n",
       "      <td>10.0</td>\n",
       "      <td>True</td>\n",
       "      <td>junction</td>\n",
       "    </tr>\n",
       "    <tr>\n",
       "      <th>4</th>\n",
       "      <td>K0004~4776931467066465913</td>\n",
       "      <td>100.72040</td>\n",
       "      <td>273.15</td>\n",
       "      <td>10.0</td>\n",
       "      <td>True</td>\n",
       "      <td>junction</td>\n",
       "    </tr>\n",
       "    <tr>\n",
       "      <th>5</th>\n",
       "      <td>K0005~5229509832448527475</td>\n",
       "      <td>100.93705</td>\n",
       "      <td>273.15</td>\n",
       "      <td>10.0</td>\n",
       "      <td>True</td>\n",
       "      <td>junction</td>\n",
       "    </tr>\n",
       "    <tr>\n",
       "      <th>6</th>\n",
       "      <td>K0006~5073490478136313655</td>\n",
       "      <td>100.87409</td>\n",
       "      <td>273.15</td>\n",
       "      <td>10.0</td>\n",
       "      <td>True</td>\n",
       "      <td>junction</td>\n",
       "    </tr>\n",
       "    <tr>\n",
       "      <th>7</th>\n",
       "      <td>K0007~5417314986988666587</td>\n",
       "      <td>100.86626</td>\n",
       "      <td>273.15</td>\n",
       "      <td>10.0</td>\n",
       "      <td>True</td>\n",
       "      <td>junction</td>\n",
       "    </tr>\n",
       "    <tr>\n",
       "      <th>8</th>\n",
       "      <td>K0008~5366461594623940805</td>\n",
       "      <td>100.86626</td>\n",
       "      <td>273.15</td>\n",
       "      <td>10.0</td>\n",
       "      <td>True</td>\n",
       "      <td>junction</td>\n",
       "    </tr>\n",
       "  </tbody>\n",
       "</table>\n",
       "</div>"
      ],
      "text/plain": [
       "                        name     pn_bar  tfluid_k  height_m  in_service  \\\n",
       "0  K0000~5136506604482101815  101.00000    273.15      10.0        True   \n",
       "1  K0001~5174640379525019821  100.99306    273.15      10.0        True   \n",
       "2  K0002~5665004361761998834  100.86531    273.15      10.0        True   \n",
       "3  K0003~5185493728872360834  100.72040    273.15      10.0        True   \n",
       "4  K0004~4776931467066465913  100.72040    273.15      10.0        True   \n",
       "5  K0005~5229509832448527475  100.93705    273.15      10.0        True   \n",
       "6  K0006~5073490478136313655  100.87409    273.15      10.0        True   \n",
       "7  K0007~5417314986988666587  100.86626    273.15      10.0        True   \n",
       "8  K0008~5366461594623940805  100.86626    273.15      10.0        True   \n",
       "\n",
       "       type  \n",
       "0  junction  \n",
       "1  junction  \n",
       "2  junction  \n",
       "3  junction  \n",
       "4  junction  \n",
       "5  junction  \n",
       "6  junction  \n",
       "7  junction  \n",
       "8  junction  "
      ]
     },
     "execution_count": 62,
     "metadata": {},
     "output_type": "execute_result"
    }
   ],
   "source": [
    "net.junction"
   ]
  },
  {
   "cell_type": "markdown",
   "id": "bfe88f29",
   "metadata": {},
   "source": [
    "### pipes"
   ]
  },
  {
   "cell_type": "code",
   "execution_count": 63,
   "id": "b7fa4c24",
   "metadata": {},
   "outputs": [
    {
     "name": "stderr",
     "output_type": "stream",
     "text": [
      "[2025-10-07 13:27:29,918] INFO in sir3stoolkit.mantle.dataframes: [metadata] Generating metadata dataframe for element type: ObjectTypes.Pipe\n",
      "[2025-10-07 13:27:29,919] INFO in sir3stoolkit.mantle.dataframes: [metadata] Retrieved 9 element(s) of element type ObjectTypes.Pipe.\n",
      "[2025-10-07 13:27:29,921] DEBUG in sir3stoolkit.mantle.dataframes: [Resolving Metadata Properties] Using 4 metadata properties.\n",
      "[2025-10-07 13:27:29,922] INFO in sir3stoolkit.mantle.dataframes: [metadata] Retrieving metadata properties ['L', 'Di', 'Rau', 'Name'], geometry, end nodes...\n",
      "[2025-10-07 13:27:29,927] INFO in sir3stoolkit.mantle.dataframes: [metadata] 2 non-empty end node columns were created)\n",
      "[2025-10-07 13:27:29,927] INFO in sir3stoolkit.mantle.dataframes: [metadata] Done. Shape: (9, 8)\n"
     ]
    }
   ],
   "source": [
    "df_pipes_metadata = s3s.generate_element_metadata_dataframe(s3s.ObjectTypes.Pipe, ['L', 'Di', 'Rau', 'Name'], end_nodes=True, geometry=True)"
   ]
  },
  {
   "cell_type": "code",
   "execution_count": 64,
   "id": "12eb3dd7",
   "metadata": {},
   "outputs": [],
   "source": [
    "for idx,row in df_pipes_metadata.iterrows():\n",
    "    raw_value = row[\"Rau\"]\n",
    "    row[\"Rau\"] = float(str(raw_value).replace(\",\", \".\"))"
   ]
  },
  {
   "cell_type": "code",
   "execution_count": 65,
   "id": "c394549a",
   "metadata": {},
   "outputs": [
    {
     "data": {
      "text/html": [
       "<div>\n",
       "<style scoped>\n",
       "    .dataframe tbody tr th:only-of-type {\n",
       "        vertical-align: middle;\n",
       "    }\n",
       "\n",
       "    .dataframe tbody tr th {\n",
       "        vertical-align: top;\n",
       "    }\n",
       "\n",
       "    .dataframe thead th {\n",
       "        text-align: right;\n",
       "    }\n",
       "</style>\n",
       "<table border=\"1\" class=\"dataframe\">\n",
       "  <thead>\n",
       "    <tr style=\"text-align: right;\">\n",
       "      <th></th>\n",
       "      <th>tk</th>\n",
       "      <th>L</th>\n",
       "      <th>Di</th>\n",
       "      <th>Rau</th>\n",
       "      <th>Name</th>\n",
       "      <th>geometry</th>\n",
       "      <th>fkKI</th>\n",
       "      <th>fkKK</th>\n",
       "    </tr>\n",
       "  </thead>\n",
       "  <tbody>\n",
       "    <tr>\n",
       "      <th>0</th>\n",
       "      <td>4762947358005495341</td>\n",
       "      <td>1000</td>\n",
       "      <td>450</td>\n",
       "      <td>0.25</td>\n",
       "      <td>Rohr K0000 K0001</td>\n",
       "      <td>LINESTRING (149.99985694885254 500.00011920928...</td>\n",
       "      <td>5136506604482101815</td>\n",
       "      <td>5174640379525019821</td>\n",
       "    </tr>\n",
       "    <tr>\n",
       "      <th>1</th>\n",
       "      <td>5479123649362439650</td>\n",
       "      <td>1000</td>\n",
       "      <td>250</td>\n",
       "      <td>0.25</td>\n",
       "      <td>Rohr K0002 K0003</td>\n",
       "      <td>LINESTRING (550.00007152557373 600.00002384185...</td>\n",
       "      <td>5665004361761998834</td>\n",
       "      <td>5185493728872360834</td>\n",
       "    </tr>\n",
       "    <tr>\n",
       "      <th>2</th>\n",
       "      <td>5367303884852200682</td>\n",
       "      <td>1000</td>\n",
       "      <td>250</td>\n",
       "      <td>0.25</td>\n",
       "      <td>Rohr K0002 K0004</td>\n",
       "      <td>LINESTRING (550.00007152557373 600.00002384185...</td>\n",
       "      <td>5665004361761998834</td>\n",
       "      <td>4776931467066465913</td>\n",
       "    </tr>\n",
       "  </tbody>\n",
       "</table>\n",
       "</div>"
      ],
      "text/plain": [
       "                    tk     L   Di   Rau              Name  \\\n",
       "0  4762947358005495341  1000  450  0.25  Rohr K0000 K0001   \n",
       "1  5479123649362439650  1000  250  0.25  Rohr K0002 K0003   \n",
       "2  5367303884852200682  1000  250  0.25  Rohr K0002 K0004   \n",
       "\n",
       "                                            geometry                 fkKI  \\\n",
       "0  LINESTRING (149.99985694885254 500.00011920928...  5136506604482101815   \n",
       "1  LINESTRING (550.00007152557373 600.00002384185...  5665004361761998834   \n",
       "2  LINESTRING (550.00007152557373 600.00002384185...  5665004361761998834   \n",
       "\n",
       "                  fkKK  \n",
       "0  5174640379525019821  \n",
       "1  5185493728872360834  \n",
       "2  4776931467066465913  "
      ]
     },
     "execution_count": 65,
     "metadata": {},
     "output_type": "execute_result"
    }
   ],
   "source": [
    "df_pipes_metadata.head(3)"
   ]
  },
  {
   "cell_type": "code",
   "execution_count": 66,
   "id": "21c5f0bc",
   "metadata": {},
   "outputs": [],
   "source": [
    "ps = {}\n",
    "\n",
    "for idx, row in df_pipes_metadata.iterrows():\n",
    "    geom = wkt.loads(row[\"geometry\"])  \n",
    "    coords = list(geom.coords)        \n",
    "\n",
    "    # Create pipe\n",
    "    p = pp.create_pipe_from_parameters(\n",
    "        net,\n",
    "        from_junction=js[row['fkKI']],\n",
    "        to_junction=js[row['fkKK']],\n",
    "        length_km=float(row['L']) / 1000.,\n",
    "        diameter_m=float(row['Di']) / 1000.,\n",
    "        k_mm=float(row['Rau']),\n",
    "        name=f\"{row['Name']}~{row['tk']}\"\n",
    "    )\n",
    "    ps[row['tk']] = p\n",
    "\n",
    "    net.pipe_geodata.at[p, \"coords\"] = coords"
   ]
  },
  {
   "cell_type": "code",
   "execution_count": 67,
   "id": "f946ad6e",
   "metadata": {},
   "outputs": [
    {
     "data": {
      "text/html": [
       "<div>\n",
       "<style scoped>\n",
       "    .dataframe tbody tr th:only-of-type {\n",
       "        vertical-align: middle;\n",
       "    }\n",
       "\n",
       "    .dataframe tbody tr th {\n",
       "        vertical-align: top;\n",
       "    }\n",
       "\n",
       "    .dataframe thead th {\n",
       "        text-align: right;\n",
       "    }\n",
       "</style>\n",
       "<table border=\"1\" class=\"dataframe\">\n",
       "  <thead>\n",
       "    <tr style=\"text-align: right;\">\n",
       "      <th></th>\n",
       "      <th>name</th>\n",
       "      <th>from_junction</th>\n",
       "      <th>to_junction</th>\n",
       "      <th>std_type</th>\n",
       "      <th>length_km</th>\n",
       "      <th>diameter_m</th>\n",
       "      <th>k_mm</th>\n",
       "      <th>loss_coefficient</th>\n",
       "      <th>u_w_per_m2k</th>\n",
       "      <th>text_k</th>\n",
       "      <th>qext_w</th>\n",
       "      <th>sections</th>\n",
       "      <th>in_service</th>\n",
       "      <th>type</th>\n",
       "    </tr>\n",
       "  </thead>\n",
       "  <tbody>\n",
       "    <tr>\n",
       "      <th>0</th>\n",
       "      <td>Rohr K0000 K0001~4762947358005495341</td>\n",
       "      <td>0</td>\n",
       "      <td>1</td>\n",
       "      <td>None</td>\n",
       "      <td>1.0</td>\n",
       "      <td>0.45</td>\n",
       "      <td>0.25</td>\n",
       "      <td>0.0</td>\n",
       "      <td>0.0</td>\n",
       "      <td>NaN</td>\n",
       "      <td>0.0</td>\n",
       "      <td>1</td>\n",
       "      <td>True</td>\n",
       "      <td>pipe</td>\n",
       "    </tr>\n",
       "    <tr>\n",
       "      <th>1</th>\n",
       "      <td>Rohr K0002 K0003~5479123649362439650</td>\n",
       "      <td>2</td>\n",
       "      <td>3</td>\n",
       "      <td>None</td>\n",
       "      <td>1.0</td>\n",
       "      <td>0.25</td>\n",
       "      <td>0.25</td>\n",
       "      <td>0.0</td>\n",
       "      <td>0.0</td>\n",
       "      <td>NaN</td>\n",
       "      <td>0.0</td>\n",
       "      <td>1</td>\n",
       "      <td>True</td>\n",
       "      <td>pipe</td>\n",
       "    </tr>\n",
       "    <tr>\n",
       "      <th>2</th>\n",
       "      <td>Rohr K0002 K0004~5367303884852200682</td>\n",
       "      <td>2</td>\n",
       "      <td>4</td>\n",
       "      <td>None</td>\n",
       "      <td>1.0</td>\n",
       "      <td>0.25</td>\n",
       "      <td>0.25</td>\n",
       "      <td>0.0</td>\n",
       "      <td>0.0</td>\n",
       "      <td>NaN</td>\n",
       "      <td>0.0</td>\n",
       "      <td>1</td>\n",
       "      <td>True</td>\n",
       "      <td>pipe</td>\n",
       "    </tr>\n",
       "  </tbody>\n",
       "</table>\n",
       "</div>"
      ],
      "text/plain": [
       "                                   name  from_junction  to_junction std_type  \\\n",
       "0  Rohr K0000 K0001~4762947358005495341              0            1     None   \n",
       "1  Rohr K0002 K0003~5479123649362439650              2            3     None   \n",
       "2  Rohr K0002 K0004~5367303884852200682              2            4     None   \n",
       "\n",
       "   length_km  diameter_m  k_mm  loss_coefficient  u_w_per_m2k  text_k  qext_w  \\\n",
       "0        1.0        0.45  0.25               0.0          0.0     NaN     0.0   \n",
       "1        1.0        0.25  0.25               0.0          0.0     NaN     0.0   \n",
       "2        1.0        0.25  0.25               0.0          0.0     NaN     0.0   \n",
       "\n",
       "   sections  in_service  type  \n",
       "0         1        True  pipe  \n",
       "1         1        True  pipe  \n",
       "2         1        True  pipe  "
      ]
     },
     "execution_count": 67,
     "metadata": {},
     "output_type": "execute_result"
    }
   ],
   "source": [
    "net.pipe.head(3)"
   ]
  },
  {
   "cell_type": "markdown",
   "id": "1c772f21",
   "metadata": {},
   "source": [
    "### sources/sinks"
   ]
  },
  {
   "cell_type": "code",
   "execution_count": 68,
   "id": "7fa2168a",
   "metadata": {},
   "outputs": [],
   "source": [
    "for idx, row in df_nodes.iterrows():\n",
    "    ktyp = (row.get(\"Ktyp\"))\n",
    "    tk = row.get(\"tk\")\n",
    "\n",
    "    # Create source if Ktyp is PKON and PH > 0\n",
    "    if ktyp == \"PKON\" and float(row.get(\"PH\", 0)) > 0:\n",
    "        pp.create_ext_grid(\n",
    "            net,\n",
    "            junction=js[tk],\n",
    "            p_bar=1 + float(row[\"PH\"]),\n",
    "            t_k=273.15 + float(row[\"T\"]),\n",
    "            name=f\"Src: {row['Name']}~{tk}\"\n",
    "        )\n",
    "\n",
    "    # Create sink if Ktyp is QKON and QM < 0\n",
    "    elif ktyp == \"QKON\" and float(row.get(\"QM\", 0)) < 0:\n",
    "        pp.create_sink(\n",
    "            net,\n",
    "            junction=js[tk],\n",
    "            mdot_kg_per_s=abs(float(row[\"QM\"])),\n",
    "            name=f\"Snk: {row['Name']}~{tk}\"\n",
    "        )"
   ]
  },
  {
   "cell_type": "code",
   "execution_count": 69,
   "id": "2aa47c56",
   "metadata": {},
   "outputs": [
    {
     "data": {
      "text/html": [
       "<div>\n",
       "<style scoped>\n",
       "    .dataframe tbody tr th:only-of-type {\n",
       "        vertical-align: middle;\n",
       "    }\n",
       "\n",
       "    .dataframe tbody tr th {\n",
       "        vertical-align: top;\n",
       "    }\n",
       "\n",
       "    .dataframe thead th {\n",
       "        text-align: right;\n",
       "    }\n",
       "</style>\n",
       "<table border=\"1\" class=\"dataframe\">\n",
       "  <thead>\n",
       "    <tr style=\"text-align: right;\">\n",
       "      <th></th>\n",
       "      <th>name</th>\n",
       "      <th>junction</th>\n",
       "      <th>p_bar</th>\n",
       "      <th>t_k</th>\n",
       "      <th>in_service</th>\n",
       "      <th>type</th>\n",
       "    </tr>\n",
       "  </thead>\n",
       "  <tbody>\n",
       "    <tr>\n",
       "      <th>0</th>\n",
       "      <td>Src: K0000~5136506604482101815</td>\n",
       "      <td>0</td>\n",
       "      <td>101.0</td>\n",
       "      <td>273.15</td>\n",
       "      <td>True</td>\n",
       "      <td>pt</td>\n",
       "    </tr>\n",
       "  </tbody>\n",
       "</table>\n",
       "</div>"
      ],
      "text/plain": [
       "                             name  junction  p_bar     t_k  in_service type\n",
       "0  Src: K0000~5136506604482101815         0  101.0  273.15        True   pt"
      ]
     },
     "execution_count": 69,
     "metadata": {},
     "output_type": "execute_result"
    }
   ],
   "source": [
    "net.ext_grid"
   ]
  },
  {
   "cell_type": "code",
   "execution_count": 70,
   "id": "4081d2f2",
   "metadata": {},
   "outputs": [
    {
     "data": {
      "text/html": [
       "<div>\n",
       "<style scoped>\n",
       "    .dataframe tbody tr th:only-of-type {\n",
       "        vertical-align: middle;\n",
       "    }\n",
       "\n",
       "    .dataframe tbody tr th {\n",
       "        vertical-align: top;\n",
       "    }\n",
       "\n",
       "    .dataframe thead th {\n",
       "        text-align: right;\n",
       "    }\n",
       "</style>\n",
       "<table border=\"1\" class=\"dataframe\">\n",
       "  <thead>\n",
       "    <tr style=\"text-align: right;\">\n",
       "      <th></th>\n",
       "      <th>name</th>\n",
       "      <th>junction</th>\n",
       "      <th>mdot_kg_per_s</th>\n",
       "      <th>scaling</th>\n",
       "      <th>in_service</th>\n",
       "      <th>type</th>\n",
       "    </tr>\n",
       "  </thead>\n",
       "  <tbody>\n",
       "    <tr>\n",
       "      <th>0</th>\n",
       "      <td>Snk: K0003~5185493728872360834</td>\n",
       "      <td>3</td>\n",
       "      <td>100.0</td>\n",
       "      <td>1.0</td>\n",
       "      <td>True</td>\n",
       "      <td>sink</td>\n",
       "    </tr>\n",
       "    <tr>\n",
       "      <th>1</th>\n",
       "      <td>Snk: K0004~4776931467066465913</td>\n",
       "      <td>4</td>\n",
       "      <td>100.0</td>\n",
       "      <td>1.0</td>\n",
       "      <td>True</td>\n",
       "      <td>sink</td>\n",
       "    </tr>\n",
       "    <tr>\n",
       "      <th>2</th>\n",
       "      <td>Snk: K0007~5417314986988666587</td>\n",
       "      <td>7</td>\n",
       "      <td>100.0</td>\n",
       "      <td>1.0</td>\n",
       "      <td>True</td>\n",
       "      <td>sink</td>\n",
       "    </tr>\n",
       "    <tr>\n",
       "      <th>3</th>\n",
       "      <td>Snk: K0008~5366461594623940805</td>\n",
       "      <td>8</td>\n",
       "      <td>100.0</td>\n",
       "      <td>1.0</td>\n",
       "      <td>True</td>\n",
       "      <td>sink</td>\n",
       "    </tr>\n",
       "  </tbody>\n",
       "</table>\n",
       "</div>"
      ],
      "text/plain": [
       "                             name  junction  mdot_kg_per_s  scaling  \\\n",
       "0  Snk: K0003~5185493728872360834         3          100.0      1.0   \n",
       "1  Snk: K0004~4776931467066465913         4          100.0      1.0   \n",
       "2  Snk: K0007~5417314986988666587         7          100.0      1.0   \n",
       "3  Snk: K0008~5366461594623940805         8          100.0      1.0   \n",
       "\n",
       "   in_service  type  \n",
       "0        True  sink  \n",
       "1        True  sink  \n",
       "2        True  sink  \n",
       "3        True  sink  "
      ]
     },
     "execution_count": 70,
     "metadata": {},
     "output_type": "execute_result"
    }
   ],
   "source": [
    "net.sink"
   ]
  },
  {
   "cell_type": "markdown",
   "id": "b5f6bff3",
   "metadata": {},
   "source": [
    "## Calculate"
   ]
  },
  {
   "cell_type": "code",
   "execution_count": 71,
   "id": "73ef9a8b",
   "metadata": {},
   "outputs": [],
   "source": [
    "pp.pipeflow(net)"
   ]
  },
  {
   "cell_type": "markdown",
   "id": "5534d1c4",
   "metadata": {},
   "source": [
    "### View Results"
   ]
  },
  {
   "cell_type": "code",
   "execution_count": 72,
   "id": "80ae2f42",
   "metadata": {},
   "outputs": [
    {
     "data": {
      "text/html": [
       "<div>\n",
       "<style scoped>\n",
       "    .dataframe tbody tr th:only-of-type {\n",
       "        vertical-align: middle;\n",
       "    }\n",
       "\n",
       "    .dataframe tbody tr th {\n",
       "        vertical-align: top;\n",
       "    }\n",
       "\n",
       "    .dataframe thead th {\n",
       "        text-align: right;\n",
       "    }\n",
       "</style>\n",
       "<table border=\"1\" class=\"dataframe\">\n",
       "  <thead>\n",
       "    <tr style=\"text-align: right;\">\n",
       "      <th></th>\n",
       "      <th>p_bar</th>\n",
       "      <th>t_k</th>\n",
       "    </tr>\n",
       "  </thead>\n",
       "  <tbody>\n",
       "    <tr>\n",
       "      <th>0</th>\n",
       "      <td>101.000000</td>\n",
       "      <td>273.15</td>\n",
       "    </tr>\n",
       "    <tr>\n",
       "      <th>1</th>\n",
       "      <td>100.932708</td>\n",
       "      <td>273.15</td>\n",
       "    </tr>\n",
       "    <tr>\n",
       "      <th>2</th>\n",
       "      <td>99.491364</td>\n",
       "      <td>273.15</td>\n",
       "    </tr>\n",
       "    <tr>\n",
       "      <th>3</th>\n",
       "      <td>97.843832</td>\n",
       "      <td>273.15</td>\n",
       "    </tr>\n",
       "    <tr>\n",
       "      <th>4</th>\n",
       "      <td>97.843832</td>\n",
       "      <td>273.15</td>\n",
       "    </tr>\n",
       "    <tr>\n",
       "      <th>5</th>\n",
       "      <td>100.289209</td>\n",
       "      <td>273.15</td>\n",
       "    </tr>\n",
       "    <tr>\n",
       "      <th>6</th>\n",
       "      <td>99.578419</td>\n",
       "      <td>273.15</td>\n",
       "    </tr>\n",
       "    <tr>\n",
       "      <th>7</th>\n",
       "      <td>99.501563</td>\n",
       "      <td>273.15</td>\n",
       "    </tr>\n",
       "    <tr>\n",
       "      <th>8</th>\n",
       "      <td>99.501563</td>\n",
       "      <td>273.15</td>\n",
       "    </tr>\n",
       "  </tbody>\n",
       "</table>\n",
       "</div>"
      ],
      "text/plain": [
       "        p_bar     t_k\n",
       "0  101.000000  273.15\n",
       "1  100.932708  273.15\n",
       "2   99.491364  273.15\n",
       "3   97.843832  273.15\n",
       "4   97.843832  273.15\n",
       "5  100.289209  273.15\n",
       "6   99.578419  273.15\n",
       "7   99.501563  273.15\n",
       "8   99.501563  273.15"
      ]
     },
     "execution_count": 72,
     "metadata": {},
     "output_type": "execute_result"
    }
   ],
   "source": [
    "net.res_junction"
   ]
  },
  {
   "cell_type": "code",
   "execution_count": 73,
   "id": "7d5ef546",
   "metadata": {},
   "outputs": [
    {
     "data": {
      "text/html": [
       "<div>\n",
       "<style scoped>\n",
       "    .dataframe tbody tr th:only-of-type {\n",
       "        vertical-align: middle;\n",
       "    }\n",
       "\n",
       "    .dataframe tbody tr th {\n",
       "        vertical-align: top;\n",
       "    }\n",
       "\n",
       "    .dataframe thead th {\n",
       "        text-align: right;\n",
       "    }\n",
       "</style>\n",
       "<table border=\"1\" class=\"dataframe\">\n",
       "  <thead>\n",
       "    <tr style=\"text-align: right;\">\n",
       "      <th></th>\n",
       "      <th>v_mean_m_per_s</th>\n",
       "      <th>p_from_bar</th>\n",
       "      <th>p_to_bar</th>\n",
       "      <th>t_from_k</th>\n",
       "      <th>t_to_k</th>\n",
       "      <th>t_outlet_k</th>\n",
       "      <th>mdot_from_kg_per_s</th>\n",
       "      <th>mdot_to_kg_per_s</th>\n",
       "      <th>vdot_m3_per_s</th>\n",
       "      <th>reynolds</th>\n",
       "      <th>lambda</th>\n",
       "    </tr>\n",
       "  </thead>\n",
       "  <tbody>\n",
       "    <tr>\n",
       "      <th>0</th>\n",
       "      <td>0.587940</td>\n",
       "      <td>101.000000</td>\n",
       "      <td>100.932708</td>\n",
       "      <td>273.15</td>\n",
       "      <td>273.15</td>\n",
       "      <td>273.15</td>\n",
       "      <td>93.496673</td>\n",
       "      <td>-93.496673</td>\n",
       "      <td>0.093508</td>\n",
       "      <td>148220.775254</td>\n",
       "      <td>0.017522</td>\n",
       "    </tr>\n",
       "    <tr>\n",
       "      <th>1</th>\n",
       "      <td>2.037427</td>\n",
       "      <td>99.491364</td>\n",
       "      <td>97.843832</td>\n",
       "      <td>273.15</td>\n",
       "      <td>273.15</td>\n",
       "      <td>273.15</td>\n",
       "      <td>100.000000</td>\n",
       "      <td>-100.000000</td>\n",
       "      <td>0.100012</td>\n",
       "      <td>285354.955734</td>\n",
       "      <td>0.019847</td>\n",
       "    </tr>\n",
       "    <tr>\n",
       "      <th>2</th>\n",
       "      <td>2.037427</td>\n",
       "      <td>99.491364</td>\n",
       "      <td>97.843832</td>\n",
       "      <td>273.15</td>\n",
       "      <td>273.15</td>\n",
       "      <td>273.15</td>\n",
       "      <td>100.000000</td>\n",
       "      <td>-100.000000</td>\n",
       "      <td>0.100012</td>\n",
       "      <td>285354.955734</td>\n",
       "      <td>0.019847</td>\n",
       "    </tr>\n",
       "    <tr>\n",
       "      <th>3</th>\n",
       "      <td>1.927402</td>\n",
       "      <td>101.000000</td>\n",
       "      <td>100.289209</td>\n",
       "      <td>273.15</td>\n",
       "      <td>273.15</td>\n",
       "      <td>273.15</td>\n",
       "      <td>306.503327</td>\n",
       "      <td>-306.503327</td>\n",
       "      <td>0.306540</td>\n",
       "      <td>485901.348599</td>\n",
       "      <td>0.017222</td>\n",
       "    </tr>\n",
       "    <tr>\n",
       "      <th>4</th>\n",
       "      <td>1.927402</td>\n",
       "      <td>100.289209</td>\n",
       "      <td>99.578419</td>\n",
       "      <td>273.15</td>\n",
       "      <td>273.15</td>\n",
       "      <td>273.15</td>\n",
       "      <td>306.503327</td>\n",
       "      <td>-306.503327</td>\n",
       "      <td>0.306540</td>\n",
       "      <td>485901.348599</td>\n",
       "      <td>0.017222</td>\n",
       "    </tr>\n",
       "    <tr>\n",
       "      <th>5</th>\n",
       "      <td>0.628836</td>\n",
       "      <td>99.578419</td>\n",
       "      <td>99.501563</td>\n",
       "      <td>273.15</td>\n",
       "      <td>273.15</td>\n",
       "      <td>273.15</td>\n",
       "      <td>100.000000</td>\n",
       "      <td>-100.000000</td>\n",
       "      <td>0.100012</td>\n",
       "      <td>158530.530963</td>\n",
       "      <td>0.017494</td>\n",
       "    </tr>\n",
       "    <tr>\n",
       "      <th>6</th>\n",
       "      <td>0.628836</td>\n",
       "      <td>99.578419</td>\n",
       "      <td>99.501563</td>\n",
       "      <td>273.15</td>\n",
       "      <td>273.15</td>\n",
       "      <td>273.15</td>\n",
       "      <td>100.000000</td>\n",
       "      <td>-100.000000</td>\n",
       "      <td>0.100012</td>\n",
       "      <td>158530.530963</td>\n",
       "      <td>0.017494</td>\n",
       "    </tr>\n",
       "    <tr>\n",
       "      <th>7</th>\n",
       "      <td>1.904927</td>\n",
       "      <td>100.932708</td>\n",
       "      <td>99.491364</td>\n",
       "      <td>273.15</td>\n",
       "      <td>273.15</td>\n",
       "      <td>273.15</td>\n",
       "      <td>93.496673</td>\n",
       "      <td>-93.496673</td>\n",
       "      <td>0.093508</td>\n",
       "      <td>266797.395457</td>\n",
       "      <td>0.019862</td>\n",
       "    </tr>\n",
       "    <tr>\n",
       "      <th>8</th>\n",
       "      <td>-0.669731</td>\n",
       "      <td>99.491364</td>\n",
       "      <td>99.578419</td>\n",
       "      <td>273.15</td>\n",
       "      <td>273.15</td>\n",
       "      <td>273.15</td>\n",
       "      <td>-106.503327</td>\n",
       "      <td>106.503327</td>\n",
       "      <td>-0.106516</td>\n",
       "      <td>168840.286672</td>\n",
       "      <td>0.017470</td>\n",
       "    </tr>\n",
       "  </tbody>\n",
       "</table>\n",
       "</div>"
      ],
      "text/plain": [
       "   v_mean_m_per_s  p_from_bar    p_to_bar  t_from_k  t_to_k  t_outlet_k  \\\n",
       "0        0.587940  101.000000  100.932708    273.15  273.15      273.15   \n",
       "1        2.037427   99.491364   97.843832    273.15  273.15      273.15   \n",
       "2        2.037427   99.491364   97.843832    273.15  273.15      273.15   \n",
       "3        1.927402  101.000000  100.289209    273.15  273.15      273.15   \n",
       "4        1.927402  100.289209   99.578419    273.15  273.15      273.15   \n",
       "5        0.628836   99.578419   99.501563    273.15  273.15      273.15   \n",
       "6        0.628836   99.578419   99.501563    273.15  273.15      273.15   \n",
       "7        1.904927  100.932708   99.491364    273.15  273.15      273.15   \n",
       "8       -0.669731   99.491364   99.578419    273.15  273.15      273.15   \n",
       "\n",
       "   mdot_from_kg_per_s  mdot_to_kg_per_s  vdot_m3_per_s       reynolds  \\\n",
       "0           93.496673        -93.496673       0.093508  148220.775254   \n",
       "1          100.000000       -100.000000       0.100012  285354.955734   \n",
       "2          100.000000       -100.000000       0.100012  285354.955734   \n",
       "3          306.503327       -306.503327       0.306540  485901.348599   \n",
       "4          306.503327       -306.503327       0.306540  485901.348599   \n",
       "5          100.000000       -100.000000       0.100012  158530.530963   \n",
       "6          100.000000       -100.000000       0.100012  158530.530963   \n",
       "7           93.496673        -93.496673       0.093508  266797.395457   \n",
       "8         -106.503327        106.503327      -0.106516  168840.286672   \n",
       "\n",
       "     lambda  \n",
       "0  0.017522  \n",
       "1  0.019847  \n",
       "2  0.019847  \n",
       "3  0.017222  \n",
       "4  0.017222  \n",
       "5  0.017494  \n",
       "6  0.017494  \n",
       "7  0.019862  \n",
       "8  0.017470  "
      ]
     },
     "execution_count": 73,
     "metadata": {},
     "output_type": "execute_result"
    }
   ],
   "source": [
    "net.res_pipe"
   ]
  },
  {
   "cell_type": "code",
   "execution_count": 74,
   "id": "c9923d56",
   "metadata": {},
   "outputs": [
    {
     "data": {
      "text/html": [
       "<div>\n",
       "<style scoped>\n",
       "    .dataframe tbody tr th:only-of-type {\n",
       "        vertical-align: middle;\n",
       "    }\n",
       "\n",
       "    .dataframe tbody tr th {\n",
       "        vertical-align: top;\n",
       "    }\n",
       "\n",
       "    .dataframe thead th {\n",
       "        text-align: right;\n",
       "    }\n",
       "</style>\n",
       "<table border=\"1\" class=\"dataframe\">\n",
       "  <thead>\n",
       "    <tr style=\"text-align: right;\">\n",
       "      <th></th>\n",
       "      <th>mdot_kg_per_s</th>\n",
       "    </tr>\n",
       "  </thead>\n",
       "  <tbody>\n",
       "    <tr>\n",
       "      <th>0</th>\n",
       "      <td>100.0</td>\n",
       "    </tr>\n",
       "    <tr>\n",
       "      <th>1</th>\n",
       "      <td>100.0</td>\n",
       "    </tr>\n",
       "    <tr>\n",
       "      <th>2</th>\n",
       "      <td>100.0</td>\n",
       "    </tr>\n",
       "    <tr>\n",
       "      <th>3</th>\n",
       "      <td>100.0</td>\n",
       "    </tr>\n",
       "  </tbody>\n",
       "</table>\n",
       "</div>"
      ],
      "text/plain": [
       "   mdot_kg_per_s\n",
       "0          100.0\n",
       "1          100.0\n",
       "2          100.0\n",
       "3          100.0"
      ]
     },
     "execution_count": 74,
     "metadata": {},
     "output_type": "execute_result"
    }
   ],
   "source": [
    "net.res_sink"
   ]
  },
  {
   "cell_type": "code",
   "execution_count": 75,
   "id": "7d4636f8",
   "metadata": {},
   "outputs": [
    {
     "data": {
      "text/html": [
       "<div>\n",
       "<style scoped>\n",
       "    .dataframe tbody tr th:only-of-type {\n",
       "        vertical-align: middle;\n",
       "    }\n",
       "\n",
       "    .dataframe tbody tr th {\n",
       "        vertical-align: top;\n",
       "    }\n",
       "\n",
       "    .dataframe thead th {\n",
       "        text-align: right;\n",
       "    }\n",
       "</style>\n",
       "<table border=\"1\" class=\"dataframe\">\n",
       "  <thead>\n",
       "    <tr style=\"text-align: right;\">\n",
       "      <th></th>\n",
       "      <th>mdot_kg_per_s</th>\n",
       "    </tr>\n",
       "  </thead>\n",
       "  <tbody>\n",
       "    <tr>\n",
       "      <th>0</th>\n",
       "      <td>-400.0</td>\n",
       "    </tr>\n",
       "  </tbody>\n",
       "</table>\n",
       "</div>"
      ],
      "text/plain": [
       "   mdot_kg_per_s\n",
       "0         -400.0"
      ]
     },
     "execution_count": 75,
     "metadata": {},
     "output_type": "execute_result"
    }
   ],
   "source": [
    "net.res_ext_grid"
   ]
  },
  {
   "cell_type": "markdown",
   "id": "3275794e",
   "metadata": {},
   "source": [
    "## Plot"
   ]
  },
  {
   "cell_type": "code",
   "execution_count": 76,
   "id": "82d44447",
   "metadata": {},
   "outputs": [
    {
     "data": {
      "image/png": "[encoded data removed]",
      "text/plain": [
       "<Figure size 1000x800 with 1 Axes>"
      ]
     },
     "metadata": {},
     "output_type": "display_data"
    },
    {
     "data": {
      "text/plain": [
       "<Axes: >"
      ]
     },
     "execution_count": 76,
     "metadata": {},
     "output_type": "execute_result"
    }
   ],
   "source": [
    "pp_plot.simple_plot(net)"
   ]
  },
  {
   "cell_type": "code",
   "execution_count": 77,
   "id": "b19a24b7",
   "metadata": {},
   "outputs": [
    {
     "data": {
      "application/vnd.plotly.v1+json": {
       "config": {
        "plotlyServerURL": "https://plot.ly"
       },
       "data": [
        {
         "customdata": [
          [
           101
          ],
          [
           100.93270768766557
          ],
          [
           99.4913642865344
          ],
          [
           97.8438320971401
          ],
          [
           97.8438320971401
          ],
          [
           100.28920932485765
          ],
          [
           99.5784186497153
          ],
          [
           99.50156285916806
          ],
          [
           99.50156285916806
          ]
         ],
         "hovertemplate": "x=%{x}<br>y=%{y}<br>Pressure [bar]=%{marker.color}<extra></extra>",
         "legendgroup": "",
         "marker": {
          "color": [
           101,
           100.93270768766557,
           99.4913642865344,
           97.8438320971401,
           97.8438320971401,
           100.28920932485765,
           99.5784186497153,
           99.50156285916806,
           99.50156285916806
          ],
          "coloraxis": "coloraxis",
          "symbol": "circle"
         },
         "mode": "markers",
         "name": "",
         "orientation": "v",
         "showlegend": false,
         "type": "scatter",
         "x": [
          149.99985694885254,
          349.99996423721313,
          550.0000715255737,
          749.9998807907104,
          749.9998807907104,
          349.99996423721313,
          550.0000715255737,
          749.9998807907104,
          749.9998807907104
         ],
         "xaxis": "x",
         "y": [
          500.00011920928955,
          600.0000238418579,
          600.0000238418579,
          649.9999761581421,
          550.0000715255737,
          399.9999165534973,
          399.9999165534973,
          449.9998688697815,
          349.99996423721313
         ],
         "yaxis": "y"
        }
       ],
       "layout": {
        "coloraxis": {
         "colorbar": {
          "title": {
           "text": "Pressure [bar]"
          }
         },
         "colorscale": [
          [
           0,
           "#0d0887"
          ],
          [
           0.1111111111111111,
           "#46039f"
          ],
          [
           0.2222222222222222,
           "#7201a8"
          ],
          [
           0.3333333333333333,
           "#9c179e"
          ],
          [
           0.4444444444444444,
           "#bd3786"
          ],
          [
           0.5555555555555556,
           "#d8576b"
          ],
          [
           0.6666666666666666,
           "#ed7953"
          ],
          [
           0.7777777777777778,
           "#fb9f3a"
          ],
          [
           0.8888888888888888,
           "#fdca26"
          ],
          [
           1,
           "#f0f921"
          ]
         ]
        },
        "legend": {
         "tracegroupgap": 0
        },
        "template": {
         "data": {
          "bar": [
           {
            "error_x": {
             "color": "#2a3f5f"
            },
            "error_y": {
             "color": "#2a3f5f"
            },
            "marker": {
             "line": {
              "color": "#E5ECF6",
              "width": 0.5
             },
             "pattern": {
              "fillmode": "overlay",
              "size": 10,
              "solidity": 0.2
             }
            },
            "type": "bar"
           }
          ],
          "barpolar": [
           {
            "marker": {
             "line": {
              "color": "#E5ECF6",
              "width": 0.5
             },
             "pattern": {
              "fillmode": "overlay",
              "size": 10,
              "solidity": 0.2
             }
            },
            "type": "barpolar"
           }
          ],
          "carpet": [
           {
            "aaxis": {
             "endlinecolor": "#2a3f5f",
             "gridcolor": "white",
             "linecolor": "white",
             "minorgridcolor": "white",
             "startlinecolor": "#2a3f5f"
            },
            "baxis": {
             "endlinecolor": "#2a3f5f",
             "gridcolor": "white",
             "linecolor": "white",
             "minorgridcolor": "white",
             "startlinecolor": "#2a3f5f"
            },
            "type": "carpet"
           }
          ],
          "choropleth": [
           {
            "colorbar": {
             "outlinewidth": 0,
             "ticks": ""
            },
            "type": "choropleth"
           }
          ],
          "contour": [
           {
            "colorbar": {
             "outlinewidth": 0,
             "ticks": ""
            },
            "colorscale": [
             [
              0,
              "#0d0887"
             ],
             [
              0.1111111111111111,
              "#46039f"
             ],
             [
              0.2222222222222222,
              "#7201a8"
             ],
             [
              0.3333333333333333,
              "#9c179e"
             ],
             [
              0.4444444444444444,
              "#bd3786"
             ],
             [
              0.5555555555555556,
              "#d8576b"
             ],
             [
              0.6666666666666666,
              "#ed7953"
             ],
             [
              0.7777777777777778,
              "#fb9f3a"
             ],
             [
              0.8888888888888888,
              "#fdca26"
             ],
             [
              1,
              "#f0f921"
             ]
            ],
            "type": "contour"
           }
          ],
          "contourcarpet": [
           {
            "colorbar": {
             "outlinewidth": 0,
             "ticks": ""
            },
            "type": "contourcarpet"
           }
          ],
          "heatmap": [
           {
            "colorbar": {
             "outlinewidth": 0,
             "ticks": ""
            },
            "colorscale": [
             [
              0,
              "#0d0887"
             ],
             [
              0.1111111111111111,
              "#46039f"
             ],
             [
              0.2222222222222222,
              "#7201a8"
             ],
             [
              0.3333333333333333,
              "#9c179e"
             ],
             [
              0.4444444444444444,
              "#bd3786"
             ],
             [
              0.5555555555555556,
              "#d8576b"
             ],
             [
              0.6666666666666666,
              "#ed7953"
             ],
             [
              0.7777777777777778,
              "#fb9f3a"
             ],
             [
              0.8888888888888888,
              "#fdca26"
             ],
             [
              1,
              "#f0f921"
             ]
            ],
            "type": "heatmap"
           }
          ],
          "heatmapgl": [
           {
            "colorbar": {
             "outlinewidth": 0,
             "ticks": ""
            },
            "colorscale": [
             [
              0,
              "#0d0887"
             ],
             [
              0.1111111111111111,
              "#46039f"
             ],
             [
              0.2222222222222222,
              "#7201a8"
             ],
             [
              0.3333333333333333,
              "#9c179e"
             ],
             [
              0.4444444444444444,
              "#bd3786"
             ],
             [
              0.5555555555555556,
              "#d8576b"
             ],
             [
              0.6666666666666666,
              "#ed7953"
             ],
             [
              0.7777777777777778,
              "#fb9f3a"
             ],
             [
              0.8888888888888888,
              "#fdca26"
             ],
             [
              1,
              "#f0f921"
             ]
            ],
            "type": "heatmapgl"
           }
          ],
          "histogram": [
           {
            "marker": {
             "pattern": {
              "fillmode": "overlay",
              "size": 10,
              "solidity": 0.2
             }
            },
            "type": "histogram"
           }
          ],
          "histogram2d": [
           {
            "colorbar": {
             "outlinewidth": 0,
             "ticks": ""
            },
            "colorscale": [
             [
              0,
              "#0d0887"
             ],
             [
              0.1111111111111111,
              "#46039f"
             ],
             [
              0.2222222222222222,
              "#7201a8"
             ],
             [
              0.3333333333333333,
              "#9c179e"
             ],
             [
              0.4444444444444444,
              "#bd3786"
             ],
             [
              0.5555555555555556,
              "#d8576b"
             ],
             [
              0.6666666666666666,
              "#ed7953"
             ],
             [
              0.7777777777777778,
              "#fb9f3a"
             ],
             [
              0.8888888888888888,
              "#fdca26"
             ],
             [
              1,
              "#f0f921"
             ]
            ],
            "type": "histogram2d"
           }
          ],
          "histogram2dcontour": [
           {
            "colorbar": {
             "outlinewidth": 0,
             "ticks": ""
            },
            "colorscale": [
             [
              0,
              "#0d0887"
             ],
             [
              0.1111111111111111,
              "#46039f"
             ],
             [
              0.2222222222222222,
              "#7201a8"
             ],
             [
              0.3333333333333333,
              "#9c179e"
             ],
             [
              0.4444444444444444,
              "#bd3786"
             ],
             [
              0.5555555555555556,
              "#d8576b"
             ],
             [
              0.6666666666666666,
              "#ed7953"
             ],
             [
              0.7777777777777778,
              "#fb9f3a"
             ],
             [
              0.8888888888888888,
              "#fdca26"
             ],
             [
              1,
              "#f0f921"
             ]
            ],
            "type": "histogram2dcontour"
           }
          ],
          "mesh3d": [
           {
            "colorbar": {
             "outlinewidth": 0,
             "ticks": ""
            },
            "type": "mesh3d"
           }
          ],
          "parcoords": [
           {
            "line": {
             "colorbar": {
              "outlinewidth": 0,
              "ticks": ""
             }
            },
            "type": "parcoords"
           }
          ],
          "pie": [
           {
            "automargin": true,
            "type": "pie"
           }
          ],
          "scatter": [
           {
            "fillpattern": {
             "fillmode": "overlay",
             "size": 10,
             "solidity": 0.2
            },
            "type": "scatter"
           }
          ],
          "scatter3d": [
           {
            "line": {
             "colorbar": {
              "outlinewidth": 0,
              "ticks": ""
             }
            },
            "marker": {
             "colorbar": {
              "outlinewidth": 0,
              "ticks": ""
             }
            },
            "type": "scatter3d"
           }
          ],
          "scattercarpet": [
           {
            "marker": {
             "colorbar": {
              "outlinewidth": 0,
              "ticks": ""
             }
            },
            "type": "scattercarpet"
           }
          ],
          "scattergeo": [
           {
            "marker": {
             "colorbar": {
              "outlinewidth": 0,
              "ticks": ""
             }
            },
            "type": "scattergeo"
           }
          ],
          "scattergl": [
           {
            "marker": {
             "colorbar": {
              "outlinewidth": 0,
              "ticks": ""
             }
            },
            "type": "scattergl"
           }
          ],
          "scattermapbox": [
           {
            "marker": {
             "colorbar": {
              "outlinewidth": 0,
              "ticks": ""
             }
            },
            "type": "scattermapbox"
           }
          ],
          "scatterpolar": [
           {
            "marker": {
             "colorbar": {
              "outlinewidth": 0,
              "ticks": ""
             }
            },
            "type": "scatterpolar"
           }
          ],
          "scatterpolargl": [
           {
            "marker": {
             "colorbar": {
              "outlinewidth": 0,
              "ticks": ""
             }
            },
            "type": "scatterpolargl"
           }
          ],
          "scatterternary": [
           {
            "marker": {
             "colorbar": {
              "outlinewidth": 0,
              "ticks": ""
             }
            },
            "type": "scatterternary"
           }
          ],
          "surface": [
           {
            "colorbar": {
             "outlinewidth": 0,
             "ticks": ""
            },
            "colorscale": [
             [
              0,
              "#0d0887"
             ],
             [
              0.1111111111111111,
              "#46039f"
             ],
             [
              0.2222222222222222,
              "#7201a8"
             ],
             [
              0.3333333333333333,
              "#9c179e"
             ],
             [
              0.4444444444444444,
              "#bd3786"
             ],
             [
              0.5555555555555556,
              "#d8576b"
             ],
             [
              0.6666666666666666,
              "#ed7953"
             ],
             [
              0.7777777777777778,
              "#fb9f3a"
             ],
             [
              0.8888888888888888,
              "#fdca26"
             ],
             [
              1,
              "#f0f921"
             ]
            ],
            "type": "surface"
           }
          ],
          "table": [
           {
            "cells": {
             "fill": {
              "color": "#EBF0F8"
             },
             "line": {
              "color": "white"
             }
            },
            "header": {
             "fill": {
              "color": "#C8D4E3"
             },
             "line": {
              "color": "white"
             }
            },
            "type": "table"
           }
          ]
         },
         "layout": {
          "annotationdefaults": {
           "arrowcolor": "#2a3f5f",
           "arrowhead": 0,
           "arrowwidth": 1
          },
          "autotypenumbers": "strict",
          "coloraxis": {
           "colorbar": {
            "outlinewidth": 0,
            "ticks": ""
           }
          },
          "colorscale": {
           "diverging": [
            [
             0,
             "#8e0152"
            ],
            [
             0.1,
             "#c51b7d"
            ],
            [
             0.2,
             "#de77ae"
            ],
            [
             0.3,
             "#f1b6da"
            ],
            [
             0.4,
             "#fde0ef"
            ],
            [
             0.5,
             "#f7f7f7"
            ],
            [
             0.6,
             "#e6f5d0"
            ],
            [
             0.7,
             "#b8e186"
            ],
            [
             0.8,
             "#7fbc41"
            ],
            [
             0.9,
             "#4d9221"
            ],
            [
             1,
             "#276419"
            ]
           ],
           "sequential": [
            [
             0,
             "#0d0887"
            ],
            [
             0.1111111111111111,
             "#46039f"
            ],
            [
             0.2222222222222222,
             "#7201a8"
            ],
            [
             0.3333333333333333,
             "#9c179e"
            ],
            [
             0.4444444444444444,
             "#bd3786"
            ],
            [
             0.5555555555555556,
             "#d8576b"
            ],
            [
             0.6666666666666666,
             "#ed7953"
            ],
            [
             0.7777777777777778,
             "#fb9f3a"
            ],
            [
             0.8888888888888888,
             "#fdca26"
            ],
            [
             1,
             "#f0f921"
            ]
           ],
           "sequentialminus": [
            [
             0,
             "#0d0887"
            ],
            [
             0.1111111111111111,
             "#46039f"
            ],
            [
             0.2222222222222222,
             "#7201a8"
            ],
            [
             0.3333333333333333,
             "#9c179e"
            ],
            [
             0.4444444444444444,
             "#bd3786"
            ],
            [
             0.5555555555555556,
             "#d8576b"
            ],
            [
             0.6666666666666666,
             "#ed7953"
            ],
            [
             0.7777777777777778,
             "#fb9f3a"
            ],
            [
             0.8888888888888888,
             "#fdca26"
            ],
            [
             1,
             "#f0f921"
            ]
           ]
          },
          "colorway": [
           "#636efa",
           "#EF553B",
           "#00cc96",
           "#ab63fa",
           "#FFA15A",
           "#19d3f3",
           "#FF6692",
           "#B6E880",
           "#FF97FF",
           "#FECB52"
          ],
          "font": {
           "color": "#2a3f5f"
          },
          "geo": {
           "bgcolor": "white",
           "lakecolor": "white",
           "landcolor": "#E5ECF6",
           "showlakes": true,
           "showland": true,
           "subunitcolor": "white"
          },
          "hoverlabel": {
           "align": "left"
          },
          "hovermode": "closest",
          "mapbox": {
           "style": "light"
          },
          "paper_bgcolor": "white",
          "plot_bgcolor": "#E5ECF6",
          "polar": {
           "angularaxis": {
            "gridcolor": "white",
            "linecolor": "white",
            "ticks": ""
           },
           "bgcolor": "#E5ECF6",
           "radialaxis": {
            "gridcolor": "white",
            "linecolor": "white",
            "ticks": ""
           }
          },
          "scene": {
           "xaxis": {
            "backgroundcolor": "#E5ECF6",
            "gridcolor": "white",
            "gridwidth": 2,
            "linecolor": "white",
            "showbackground": true,
            "ticks": "",
            "zerolinecolor": "white"
           },
           "yaxis": {
            "backgroundcolor": "#E5ECF6",
            "gridcolor": "white",
            "gridwidth": 2,
            "linecolor": "white",
            "showbackground": true,
            "ticks": "",
            "zerolinecolor": "white"
           },
           "zaxis": {
            "backgroundcolor": "#E5ECF6",
            "gridcolor": "white",
            "gridwidth": 2,
            "linecolor": "white",
            "showbackground": true,
            "ticks": "",
            "zerolinecolor": "white"
           }
          },
          "shapedefaults": {
           "line": {
            "color": "#2a3f5f"
           }
          },
          "ternary": {
           "aaxis": {
            "gridcolor": "white",
            "linecolor": "white",
            "ticks": ""
           },
           "baxis": {
            "gridcolor": "white",
            "linecolor": "white",
            "ticks": ""
           },
           "bgcolor": "#E5ECF6",
           "caxis": {
            "gridcolor": "white",
            "linecolor": "white",
            "ticks": ""
           }
          },
          "title": {
           "x": 0.05
          },
          "xaxis": {
           "automargin": true,
           "gridcolor": "white",
           "linecolor": "white",
           "ticks": "",
           "title": {
            "standoff": 15
           },
           "zerolinecolor": "white",
           "zerolinewidth": 2
          },
          "yaxis": {
           "automargin": true,
           "gridcolor": "white",
           "linecolor": "white",
           "ticks": "",
           "title": {
            "standoff": 15
           },
           "zerolinecolor": "white",
           "zerolinewidth": 2
          }
         }
        },
        "title": {
         "text": "Junctions: Pressure and Temperature"
        },
        "xaxis": {
         "anchor": "y",
         "domain": [
          0,
          1
         ],
         "title": {
          "text": "x"
         }
        },
        "yaxis": {
         "anchor": "x",
         "domain": [
          0,
          1
         ],
         "title": {
          "text": "y"
         }
        }
       }
      }
     },
     "metadata": {},
     "output_type": "display_data"
    }
   ],
   "source": [
    "import plotly.express as px\n",
    "\n",
    "junctions = net.res_junction.copy()\n",
    "junctions[\"x\"] = net.junction_geodata[\"x\"]\n",
    "junctions[\"y\"] = net.junction_geodata[\"y\"]\n",
    "\n",
    "fig = px.scatter(\n",
    "    junctions,\n",
    "    x=\"x\", y=\"y\",\n",
    "    color=\"p_bar\",\n",
    "    hover_data=[\"p_bar\"],\n",
    "    title=\"Junctions: Pressure and Temperature\",\n",
    "    labels={\"p_bar\": \"Pressure [bar]\"}\n",
    ")\n",
    "fig.show()"
   ]
  },
  {
   "cell_type": "markdown",
   "id": "f6a723e4",
   "metadata": {},
   "source": [
    "The above depiction is not displayed in the online documentation."
   ]
  },
  {
   "cell_type": "markdown",
   "id": "f47c62c1",
   "metadata": {},
   "source": [
    "# Generating Pandapipes network using alternative_models() class from SIR 3S Toolkit"
   ]
  },
  {
   "cell_type": "markdown",
   "id": "f8e71b57",
   "metadata": {},
   "source": [
    "## Create"
   ]
  },
  {
   "cell_type": "code",
   "execution_count": 78,
   "id": "9465e500",
   "metadata": {},
   "outputs": [
    {
     "name": "stderr",
     "output_type": "stream",
     "text": [
      "[2025-10-07 13:27:30,428] INFO in sir3stoolkit.mantle.dataframes: [metadata] Generating metadata dataframe for element type: ObjectTypes.Node\n",
      "[2025-10-07 13:27:30,429] INFO in sir3stoolkit.mantle.dataframes: [metadata] Retrieved 9 element(s) of element type ObjectTypes.Node.\n",
      "[2025-10-07 13:27:30,430] DEBUG in sir3stoolkit.mantle.dataframes: [Resolving Metadata Properties] Using 5 metadata properties.\n",
      "[2025-10-07 13:27:30,431] INFO in sir3stoolkit.mantle.dataframes: [metadata] Retrieving metadata properties ['Name', 'Zkor', 'QmEin', 'bz.PhEin', 'Ktyp'], geometry...\n",
      "[2025-10-07 13:27:30,436] INFO in sir3stoolkit.mantle.dataframes: [metadata] 0 non-empty end node columns were created)\n",
      "[2025-10-07 13:27:30,437] INFO in sir3stoolkit.mantle.dataframes: [metadata] Done. Shape: (9, 7)\n",
      "[2025-10-07 13:27:30,483] INFO in sir3stoolkit.mantle.dataframes: [results] Generating results dataframe for element type: ObjectTypes.Node\n",
      "[2025-10-07 13:27:30,501] INFO in sir3stoolkit.mantle.dataframes: [Resolving Timestamps] Only static timestamp 2025-06-05 15:27:46.000 +02:00 is available\n",
      "[2025-10-07 13:27:30,503] INFO in sir3stoolkit.mantle.dataframes: [results] Retrieved 9 tks.\n",
      "[2025-10-07 13:27:30,504] INFO in sir3stoolkit.mantle.dataframes: [results] Using 3 result properties.\n",
      "[2025-10-07 13:27:30,504] INFO in sir3stoolkit.mantle.dataframes: [results] Retrieving result properties...\n",
      "[2025-10-07 13:27:30,508] INFO in sir3stoolkit.mantle.dataframes: [results] Done. Shape: (9, 5)\n",
      "[2025-10-07 13:27:30,536] INFO in sir3stoolkit.mantle.dataframes: [metadata] Generating metadata dataframe for element type: ObjectTypes.Pipe\n",
      "[2025-10-07 13:27:30,537] INFO in sir3stoolkit.mantle.dataframes: [metadata] Retrieved 9 element(s) of element type ObjectTypes.Pipe.\n",
      "[2025-10-07 13:27:30,539] DEBUG in sir3stoolkit.mantle.dataframes: [Resolving Metadata Properties] Using 4 metadata properties.\n",
      "[2025-10-07 13:27:30,540] INFO in sir3stoolkit.mantle.dataframes: [metadata] Retrieving metadata properties ['L', 'Di', 'Rau', 'Name'], geometry, end nodes...\n",
      "[2025-10-07 13:27:30,543] INFO in sir3stoolkit.mantle.dataframes: [metadata] 2 non-empty end node columns were created)\n",
      "[2025-10-07 13:27:30,544] INFO in sir3stoolkit.mantle.dataframes: [metadata] Done. Shape: (9, 8)\n"
     ]
    }
   ],
   "source": [
    "pp_net = s3s.SIR_3S_to_pandapipes()"
   ]
  },
  {
   "cell_type": "markdown",
   "id": "b7bda858",
   "metadata": {},
   "source": [
    "## Calculate"
   ]
  },
  {
   "cell_type": "code",
   "execution_count": 79,
   "id": "7c371e7b",
   "metadata": {},
   "outputs": [],
   "source": [
    "pp.pipeflow(net)"
   ]
  },
  {
   "cell_type": "markdown",
   "id": "86960e92",
   "metadata": {},
   "source": [
    "### View Results"
   ]
  },
  {
   "cell_type": "code",
   "execution_count": 80,
   "id": "11790d86",
   "metadata": {},
   "outputs": [
    {
     "data": {
      "text/html": [
       "<div>\n",
       "<style scoped>\n",
       "    .dataframe tbody tr th:only-of-type {\n",
       "        vertical-align: middle;\n",
       "    }\n",
       "\n",
       "    .dataframe tbody tr th {\n",
       "        vertical-align: top;\n",
       "    }\n",
       "\n",
       "    .dataframe thead th {\n",
       "        text-align: right;\n",
       "    }\n",
       "</style>\n",
       "<table border=\"1\" class=\"dataframe\">\n",
       "  <thead>\n",
       "    <tr style=\"text-align: right;\">\n",
       "      <th></th>\n",
       "      <th>p_bar</th>\n",
       "      <th>t_k</th>\n",
       "    </tr>\n",
       "  </thead>\n",
       "  <tbody>\n",
       "    <tr>\n",
       "      <th>0</th>\n",
       "      <td>101.000000</td>\n",
       "      <td>273.15</td>\n",
       "    </tr>\n",
       "    <tr>\n",
       "      <th>1</th>\n",
       "      <td>100.932708</td>\n",
       "      <td>273.15</td>\n",
       "    </tr>\n",
       "    <tr>\n",
       "      <th>2</th>\n",
       "      <td>99.491364</td>\n",
       "      <td>273.15</td>\n",
       "    </tr>\n",
       "    <tr>\n",
       "      <th>3</th>\n",
       "      <td>97.843832</td>\n",
       "      <td>273.15</td>\n",
       "    </tr>\n",
       "    <tr>\n",
       "      <th>4</th>\n",
       "      <td>97.843832</td>\n",
       "      <td>273.15</td>\n",
       "    </tr>\n",
       "    <tr>\n",
       "      <th>5</th>\n",
       "      <td>100.289209</td>\n",
       "      <td>273.15</td>\n",
       "    </tr>\n",
       "    <tr>\n",
       "      <th>6</th>\n",
       "      <td>99.578419</td>\n",
       "      <td>273.15</td>\n",
       "    </tr>\n",
       "    <tr>\n",
       "      <th>7</th>\n",
       "      <td>99.501563</td>\n",
       "      <td>273.15</td>\n",
       "    </tr>\n",
       "    <tr>\n",
       "      <th>8</th>\n",
       "      <td>99.501563</td>\n",
       "      <td>273.15</td>\n",
       "    </tr>\n",
       "  </tbody>\n",
       "</table>\n",
       "</div>"
      ],
      "text/plain": [
       "        p_bar     t_k\n",
       "0  101.000000  273.15\n",
       "1  100.932708  273.15\n",
       "2   99.491364  273.15\n",
       "3   97.843832  273.15\n",
       "4   97.843832  273.15\n",
       "5  100.289209  273.15\n",
       "6   99.578419  273.15\n",
       "7   99.501563  273.15\n",
       "8   99.501563  273.15"
      ]
     },
     "execution_count": 80,
     "metadata": {},
     "output_type": "execute_result"
    }
   ],
   "source": [
    "net.res_junction"
   ]
  },
  {
   "cell_type": "code",
   "execution_count": 81,
   "id": "46adfa26",
   "metadata": {},
   "outputs": [
    {
     "data": {
      "text/html": [
       "<div>\n",
       "<style scoped>\n",
       "    .dataframe tbody tr th:only-of-type {\n",
       "        vertical-align: middle;\n",
       "    }\n",
       "\n",
       "    .dataframe tbody tr th {\n",
       "        vertical-align: top;\n",
       "    }\n",
       "\n",
       "    .dataframe thead th {\n",
       "        text-align: right;\n",
       "    }\n",
       "</style>\n",
       "<table border=\"1\" class=\"dataframe\">\n",
       "  <thead>\n",
       "    <tr style=\"text-align: right;\">\n",
       "      <th></th>\n",
       "      <th>v_mean_m_per_s</th>\n",
       "      <th>p_from_bar</th>\n",
       "      <th>p_to_bar</th>\n",
       "      <th>t_from_k</th>\n",
       "      <th>t_to_k</th>\n",
       "      <th>t_outlet_k</th>\n",
       "      <th>mdot_from_kg_per_s</th>\n",
       "      <th>mdot_to_kg_per_s</th>\n",
       "      <th>vdot_m3_per_s</th>\n",
       "      <th>reynolds</th>\n",
       "      <th>lambda</th>\n",
       "    </tr>\n",
       "  </thead>\n",
       "  <tbody>\n",
       "    <tr>\n",
       "      <th>0</th>\n",
       "      <td>0.587940</td>\n",
       "      <td>101.000000</td>\n",
       "      <td>100.932708</td>\n",
       "      <td>273.15</td>\n",
       "      <td>273.15</td>\n",
       "      <td>273.15</td>\n",
       "      <td>93.496673</td>\n",
       "      <td>-93.496673</td>\n",
       "      <td>0.093508</td>\n",
       "      <td>148220.775254</td>\n",
       "      <td>0.017522</td>\n",
       "    </tr>\n",
       "    <tr>\n",
       "      <th>1</th>\n",
       "      <td>2.037427</td>\n",
       "      <td>99.491364</td>\n",
       "      <td>97.843832</td>\n",
       "      <td>273.15</td>\n",
       "      <td>273.15</td>\n",
       "      <td>273.15</td>\n",
       "      <td>100.000000</td>\n",
       "      <td>-100.000000</td>\n",
       "      <td>0.100012</td>\n",
       "      <td>285354.955734</td>\n",
       "      <td>0.019847</td>\n",
       "    </tr>\n",
       "    <tr>\n",
       "      <th>2</th>\n",
       "      <td>2.037427</td>\n",
       "      <td>99.491364</td>\n",
       "      <td>97.843832</td>\n",
       "      <td>273.15</td>\n",
       "      <td>273.15</td>\n",
       "      <td>273.15</td>\n",
       "      <td>100.000000</td>\n",
       "      <td>-100.000000</td>\n",
       "      <td>0.100012</td>\n",
       "      <td>285354.955734</td>\n",
       "      <td>0.019847</td>\n",
       "    </tr>\n",
       "    <tr>\n",
       "      <th>3</th>\n",
       "      <td>1.927402</td>\n",
       "      <td>101.000000</td>\n",
       "      <td>100.289209</td>\n",
       "      <td>273.15</td>\n",
       "      <td>273.15</td>\n",
       "      <td>273.15</td>\n",
       "      <td>306.503327</td>\n",
       "      <td>-306.503327</td>\n",
       "      <td>0.306540</td>\n",
       "      <td>485901.348599</td>\n",
       "      <td>0.017222</td>\n",
       "    </tr>\n",
       "    <tr>\n",
       "      <th>4</th>\n",
       "      <td>1.927402</td>\n",
       "      <td>100.289209</td>\n",
       "      <td>99.578419</td>\n",
       "      <td>273.15</td>\n",
       "      <td>273.15</td>\n",
       "      <td>273.15</td>\n",
       "      <td>306.503327</td>\n",
       "      <td>-306.503327</td>\n",
       "      <td>0.306540</td>\n",
       "      <td>485901.348599</td>\n",
       "      <td>0.017222</td>\n",
       "    </tr>\n",
       "    <tr>\n",
       "      <th>5</th>\n",
       "      <td>0.628836</td>\n",
       "      <td>99.578419</td>\n",
       "      <td>99.501563</td>\n",
       "      <td>273.15</td>\n",
       "      <td>273.15</td>\n",
       "      <td>273.15</td>\n",
       "      <td>100.000000</td>\n",
       "      <td>-100.000000</td>\n",
       "      <td>0.100012</td>\n",
       "      <td>158530.530963</td>\n",
       "      <td>0.017494</td>\n",
       "    </tr>\n",
       "    <tr>\n",
       "      <th>6</th>\n",
       "      <td>0.628836</td>\n",
       "      <td>99.578419</td>\n",
       "      <td>99.501563</td>\n",
       "      <td>273.15</td>\n",
       "      <td>273.15</td>\n",
       "      <td>273.15</td>\n",
       "      <td>100.000000</td>\n",
       "      <td>-100.000000</td>\n",
       "      <td>0.100012</td>\n",
       "      <td>158530.530963</td>\n",
       "      <td>0.017494</td>\n",
       "    </tr>\n",
       "    <tr>\n",
       "      <th>7</th>\n",
       "      <td>1.904927</td>\n",
       "      <td>100.932708</td>\n",
       "      <td>99.491364</td>\n",
       "      <td>273.15</td>\n",
       "      <td>273.15</td>\n",
       "      <td>273.15</td>\n",
       "      <td>93.496673</td>\n",
       "      <td>-93.496673</td>\n",
       "      <td>0.093508</td>\n",
       "      <td>266797.395457</td>\n",
       "      <td>0.019862</td>\n",
       "    </tr>\n",
       "    <tr>\n",
       "      <th>8</th>\n",
       "      <td>-0.669731</td>\n",
       "      <td>99.491364</td>\n",
       "      <td>99.578419</td>\n",
       "      <td>273.15</td>\n",
       "      <td>273.15</td>\n",
       "      <td>273.15</td>\n",
       "      <td>-106.503327</td>\n",
       "      <td>106.503327</td>\n",
       "      <td>-0.106516</td>\n",
       "      <td>168840.286672</td>\n",
       "      <td>0.017470</td>\n",
       "    </tr>\n",
       "  </tbody>\n",
       "</table>\n",
       "</div>"
      ],
      "text/plain": [
       "   v_mean_m_per_s  p_from_bar    p_to_bar  t_from_k  t_to_k  t_outlet_k  \\\n",
       "0        0.587940  101.000000  100.932708    273.15  273.15      273.15   \n",
       "1        2.037427   99.491364   97.843832    273.15  273.15      273.15   \n",
       "2        2.037427   99.491364   97.843832    273.15  273.15      273.15   \n",
       "3        1.927402  101.000000  100.289209    273.15  273.15      273.15   \n",
       "4        1.927402  100.289209   99.578419    273.15  273.15      273.15   \n",
       "5        0.628836   99.578419   99.501563    273.15  273.15      273.15   \n",
       "6        0.628836   99.578419   99.501563    273.15  273.15      273.15   \n",
       "7        1.904927  100.932708   99.491364    273.15  273.15      273.15   \n",
       "8       -0.669731   99.491364   99.578419    273.15  273.15      273.15   \n",
       "\n",
       "   mdot_from_kg_per_s  mdot_to_kg_per_s  vdot_m3_per_s       reynolds  \\\n",
       "0           93.496673        -93.496673       0.093508  148220.775254   \n",
       "1          100.000000       -100.000000       0.100012  285354.955734   \n",
       "2          100.000000       -100.000000       0.100012  285354.955734   \n",
       "3          306.503327       -306.503327       0.306540  485901.348599   \n",
       "4          306.503327       -306.503327       0.306540  485901.348599   \n",
       "5          100.000000       -100.000000       0.100012  158530.530963   \n",
       "6          100.000000       -100.000000       0.100012  158530.530963   \n",
       "7           93.496673        -93.496673       0.093508  266797.395457   \n",
       "8         -106.503327        106.503327      -0.106516  168840.286672   \n",
       "\n",
       "     lambda  \n",
       "0  0.017522  \n",
       "1  0.019847  \n",
       "2  0.019847  \n",
       "3  0.017222  \n",
       "4  0.017222  \n",
       "5  0.017494  \n",
       "6  0.017494  \n",
       "7  0.019862  \n",
       "8  0.017470  "
      ]
     },
     "execution_count": 81,
     "metadata": {},
     "output_type": "execute_result"
    }
   ],
   "source": [
    "net.res_pipe"
   ]
  },
  {
   "cell_type": "code",
   "execution_count": 82,
   "id": "9d3cbfc5",
   "metadata": {},
   "outputs": [
    {
     "data": {
      "text/html": [
       "<div>\n",
       "<style scoped>\n",
       "    .dataframe tbody tr th:only-of-type {\n",
       "        vertical-align: middle;\n",
       "    }\n",
       "\n",
       "    .dataframe tbody tr th {\n",
       "        vertical-align: top;\n",
       "    }\n",
       "\n",
       "    .dataframe thead th {\n",
       "        text-align: right;\n",
       "    }\n",
       "</style>\n",
       "<table border=\"1\" class=\"dataframe\">\n",
       "  <thead>\n",
       "    <tr style=\"text-align: right;\">\n",
       "      <th></th>\n",
       "      <th>mdot_kg_per_s</th>\n",
       "    </tr>\n",
       "  </thead>\n",
       "  <tbody>\n",
       "    <tr>\n",
       "      <th>0</th>\n",
       "      <td>100.0</td>\n",
       "    </tr>\n",
       "    <tr>\n",
       "      <th>1</th>\n",
       "      <td>100.0</td>\n",
       "    </tr>\n",
       "    <tr>\n",
       "      <th>2</th>\n",
       "      <td>100.0</td>\n",
       "    </tr>\n",
       "    <tr>\n",
       "      <th>3</th>\n",
       "      <td>100.0</td>\n",
       "    </tr>\n",
       "  </tbody>\n",
       "</table>\n",
       "</div>"
      ],
      "text/plain": [
       "   mdot_kg_per_s\n",
       "0          100.0\n",
       "1          100.0\n",
       "2          100.0\n",
       "3          100.0"
      ]
     },
     "execution_count": 82,
     "metadata": {},
     "output_type": "execute_result"
    }
   ],
   "source": [
    "net.res_sink"
   ]
  },
  {
   "cell_type": "code",
   "execution_count": 83,
   "id": "4bc775d7",
   "metadata": {},
   "outputs": [
    {
     "data": {
      "text/html": [
       "<div>\n",
       "<style scoped>\n",
       "    .dataframe tbody tr th:only-of-type {\n",
       "        vertical-align: middle;\n",
       "    }\n",
       "\n",
       "    .dataframe tbody tr th {\n",
       "        vertical-align: top;\n",
       "    }\n",
       "\n",
       "    .dataframe thead th {\n",
       "        text-align: right;\n",
       "    }\n",
       "</style>\n",
       "<table border=\"1\" class=\"dataframe\">\n",
       "  <thead>\n",
       "    <tr style=\"text-align: right;\">\n",
       "      <th></th>\n",
       "      <th>mdot_kg_per_s</th>\n",
       "    </tr>\n",
       "  </thead>\n",
       "  <tbody>\n",
       "    <tr>\n",
       "      <th>0</th>\n",
       "      <td>-400.0</td>\n",
       "    </tr>\n",
       "  </tbody>\n",
       "</table>\n",
       "</div>"
      ],
      "text/plain": [
       "   mdot_kg_per_s\n",
       "0         -400.0"
      ]
     },
     "execution_count": 83,
     "metadata": {},
     "output_type": "execute_result"
    }
   ],
   "source": [
    "net.res_ext_grid"
   ]
  },
  {
   "cell_type": "markdown",
   "id": "be31dc70",
   "metadata": {},
   "source": [
    "## Plot"
   ]
  },
  {
   "cell_type": "code",
   "execution_count": 84,
   "id": "55f45516",
   "metadata": {},
   "outputs": [
    {
     "data": {
      "application/vnd.plotly.v1+json": {
       "config": {
        "plotlyServerURL": "https://plot.ly"
       },
       "data": [
        {
         "customdata": [
          [
           101
          ],
          [
           100.93270768766557
          ],
          [
           99.4913642865344
          ],
          [
           97.8438320971401
          ],
          [
           97.8438320971401
          ],
          [
           100.28920932485765
          ],
          [
           99.5784186497153
          ],
          [
           99.50156285916806
          ],
          [
           99.50156285916806
          ]
         ],
         "hovertemplate": "x=%{x}<br>y=%{y}<br>Pressure [bar]=%{marker.color}<extra></extra>",
         "legendgroup": "",
         "marker": {
          "color": [
           101,
           100.93270768766557,
           99.4913642865344,
           97.8438320971401,
           97.8438320971401,
           100.28920932485765,
           99.5784186497153,
           99.50156285916806,
           99.50156285916806
          ],
          "coloraxis": "coloraxis",
          "symbol": "circle"
         },
         "mode": "markers",
         "name": "",
         "orientation": "v",
         "showlegend": false,
         "type": "scatter",
         "x": [
          149.99985694885254,
          349.99996423721313,
          550.0000715255737,
          749.9998807907104,
          749.9998807907104,
          349.99996423721313,
          550.0000715255737,
          749.9998807907104,
          749.9998807907104
         ],
         "xaxis": "x",
         "y": [
          500.00011920928955,
          600.0000238418579,
          600.0000238418579,
          649.9999761581421,
          550.0000715255737,
          399.9999165534973,
          399.9999165534973,
          449.9998688697815,
          349.99996423721313
         ],
         "yaxis": "y"
        }
       ],
       "layout": {
        "coloraxis": {
         "colorbar": {
          "title": {
           "text": "Pressure [bar]"
          }
         },
         "colorscale": [
          [
           0,
           "#0d0887"
          ],
          [
           0.1111111111111111,
           "#46039f"
          ],
          [
           0.2222222222222222,
           "#7201a8"
          ],
          [
           0.3333333333333333,
           "#9c179e"
          ],
          [
           0.4444444444444444,
           "#bd3786"
          ],
          [
           0.5555555555555556,
           "#d8576b"
          ],
          [
           0.6666666666666666,
           "#ed7953"
          ],
          [
           0.7777777777777778,
           "#fb9f3a"
          ],
          [
           0.8888888888888888,
           "#fdca26"
          ],
          [
           1,
           "#f0f921"
          ]
         ]
        },
        "legend": {
         "tracegroupgap": 0
        },
        "template": {
         "data": {
          "bar": [
           {
            "error_x": {
             "color": "#2a3f5f"
            },
            "error_y": {
             "color": "#2a3f5f"
            },
            "marker": {
             "line": {
              "color": "#E5ECF6",
              "width": 0.5
             },
             "pattern": {
              "fillmode": "overlay",
              "size": 10,
              "solidity": 0.2
             }
            },
            "type": "bar"
           }
          ],
          "barpolar": [
           {
            "marker": {
             "line": {
              "color": "#E5ECF6",
              "width": 0.5
             },
             "pattern": {
              "fillmode": "overlay",
              "size": 10,
              "solidity": 0.2
             }
            },
            "type": "barpolar"
           }
          ],
          "carpet": [
           {
            "aaxis": {
             "endlinecolor": "#2a3f5f",
             "gridcolor": "white",
             "linecolor": "white",
             "minorgridcolor": "white",
             "startlinecolor": "#2a3f5f"
            },
            "baxis": {
             "endlinecolor": "#2a3f5f",
             "gridcolor": "white",
             "linecolor": "white",
             "minorgridcolor": "white",
             "startlinecolor": "#2a3f5f"
            },
            "type": "carpet"
           }
          ],
          "choropleth": [
           {
            "colorbar": {
             "outlinewidth": 0,
             "ticks": ""
            },
            "type": "choropleth"
           }
          ],
          "contour": [
           {
            "colorbar": {
             "outlinewidth": 0,
             "ticks": ""
            },
            "colorscale": [
             [
              0,
              "#0d0887"
             ],
             [
              0.1111111111111111,
              "#46039f"
             ],
             [
              0.2222222222222222,
              "#7201a8"
             ],
             [
              0.3333333333333333,
              "#9c179e"
             ],
             [
              0.4444444444444444,
              "#bd3786"
             ],
             [
              0.5555555555555556,
              "#d8576b"
             ],
             [
              0.6666666666666666,
              "#ed7953"
             ],
             [
              0.7777777777777778,
              "#fb9f3a"
             ],
             [
              0.8888888888888888,
              "#fdca26"
             ],
             [
              1,
              "#f0f921"
             ]
            ],
            "type": "contour"
           }
          ],
          "contourcarpet": [
           {
            "colorbar": {
             "outlinewidth": 0,
             "ticks": ""
            },
            "type": "contourcarpet"
           }
          ],
          "heatmap": [
           {
            "colorbar": {
             "outlinewidth": 0,
             "ticks": ""
            },
            "colorscale": [
             [
              0,
              "#0d0887"
             ],
             [
              0.1111111111111111,
              "#46039f"
             ],
             [
              0.2222222222222222,
              "#7201a8"
             ],
             [
              0.3333333333333333,
              "#9c179e"
             ],
             [
              0.4444444444444444,
              "#bd3786"
             ],
             [
              0.5555555555555556,
              "#d8576b"
             ],
             [
              0.6666666666666666,
              "#ed7953"
             ],
             [
              0.7777777777777778,
              "#fb9f3a"
             ],
             [
              0.8888888888888888,
              "#fdca26"
             ],
             [
              1,
              "#f0f921"
             ]
            ],
            "type": "heatmap"
           }
          ],
          "heatmapgl": [
           {
            "colorbar": {
             "outlinewidth": 0,
             "ticks": ""
            },
            "colorscale": [
             [
              0,
              "#0d0887"
             ],
             [
              0.1111111111111111,
              "#46039f"
             ],
             [
              0.2222222222222222,
              "#7201a8"
             ],
             [
              0.3333333333333333,
              "#9c179e"
             ],
             [
              0.4444444444444444,
              "#bd3786"
             ],
             [
              0.5555555555555556,
              "#d8576b"
             ],
             [
              0.6666666666666666,
              "#ed7953"
             ],
             [
              0.7777777777777778,
              "#fb9f3a"
             ],
             [
              0.8888888888888888,
              "#fdca26"
             ],
             [
              1,
              "#f0f921"
             ]
            ],
            "type": "heatmapgl"
           }
          ],
          "histogram": [
           {
            "marker": {
             "pattern": {
              "fillmode": "overlay",
              "size": 10,
              "solidity": 0.2
             }
            },
            "type": "histogram"
           }
          ],
          "histogram2d": [
           {
            "colorbar": {
             "outlinewidth": 0,
             "ticks": ""
            },
            "colorscale": [
             [
              0,
              "#0d0887"
             ],
             [
              0.1111111111111111,
              "#46039f"
             ],
             [
              0.2222222222222222,
              "#7201a8"
             ],
             [
              0.3333333333333333,
              "#9c179e"
             ],
             [
              0.4444444444444444,
              "#bd3786"
             ],
             [
              0.5555555555555556,
              "#d8576b"
             ],
             [
              0.6666666666666666,
              "#ed7953"
             ],
             [
              0.7777777777777778,
              "#fb9f3a"
             ],
             [
              0.8888888888888888,
              "#fdca26"
             ],
             [
              1,
              "#f0f921"
             ]
            ],
            "type": "histogram2d"
           }
          ],
          "histogram2dcontour": [
           {
            "colorbar": {
             "outlinewidth": 0,
             "ticks": ""
            },
            "colorscale": [
             [
              0,
              "#0d0887"
             ],
             [
              0.1111111111111111,
              "#46039f"
             ],
             [
              0.2222222222222222,
              "#7201a8"
             ],
             [
              0.3333333333333333,
              "#9c179e"
             ],
             [
              0.4444444444444444,
              "#bd3786"
             ],
             [
              0.5555555555555556,
              "#d8576b"
             ],
             [
              0.6666666666666666,
              "#ed7953"
             ],
             [
              0.7777777777777778,
              "#fb9f3a"
             ],
             [
              0.8888888888888888,
              "#fdca26"
             ],
             [
              1,
              "#f0f921"
             ]
            ],
            "type": "histogram2dcontour"
           }
          ],
          "mesh3d": [
           {
            "colorbar": {
             "outlinewidth": 0,
             "ticks": ""
            },
            "type": "mesh3d"
           }
          ],
          "parcoords": [
           {
            "line": {
             "colorbar": {
              "outlinewidth": 0,
              "ticks": ""
             }
            },
            "type": "parcoords"
           }
          ],
          "pie": [
           {
            "automargin": true,
            "type": "pie"
           }
          ],
          "scatter": [
           {
            "fillpattern": {
             "fillmode": "overlay",
             "size": 10,
             "solidity": 0.2
            },
            "type": "scatter"
           }
          ],
          "scatter3d": [
           {
            "line": {
             "colorbar": {
              "outlinewidth": 0,
              "ticks": ""
             }
            },
            "marker": {
             "colorbar": {
              "outlinewidth": 0,
              "ticks": ""
             }
            },
            "type": "scatter3d"
           }
          ],
          "scattercarpet": [
           {
            "marker": {
             "colorbar": {
              "outlinewidth": 0,
              "ticks": ""
             }
            },
            "type": "scattercarpet"
           }
          ],
          "scattergeo": [
           {
            "marker": {
             "colorbar": {
              "outlinewidth": 0,
              "ticks": ""
             }
            },
            "type": "scattergeo"
           }
          ],
          "scattergl": [
           {
            "marker": {
             "colorbar": {
              "outlinewidth": 0,
              "ticks": ""
             }
            },
            "type": "scattergl"
           }
          ],
          "scattermapbox": [
           {
            "marker": {
             "colorbar": {
              "outlinewidth": 0,
              "ticks": ""
             }
            },
            "type": "scattermapbox"
           }
          ],
          "scatterpolar": [
           {
            "marker": {
             "colorbar": {
              "outlinewidth": 0,
              "ticks": ""
             }
            },
            "type": "scatterpolar"
           }
          ],
          "scatterpolargl": [
           {
            "marker": {
             "colorbar": {
              "outlinewidth": 0,
              "ticks": ""
             }
            },
            "type": "scatterpolargl"
           }
          ],
          "scatterternary": [
           {
            "marker": {
             "colorbar": {
              "outlinewidth": 0,
              "ticks": ""
             }
            },
            "type": "scatterternary"
           }
          ],
          "surface": [
           {
            "colorbar": {
             "outlinewidth": 0,
             "ticks": ""
            },
            "colorscale": [
             [
              0,
              "#0d0887"
             ],
             [
              0.1111111111111111,
              "#46039f"
             ],
             [
              0.2222222222222222,
              "#7201a8"
             ],
             [
              0.3333333333333333,
              "#9c179e"
             ],
             [
              0.4444444444444444,
              "#bd3786"
             ],
             [
              0.5555555555555556,
              "#d8576b"
             ],
             [
              0.6666666666666666,
              "#ed7953"
             ],
             [
              0.7777777777777778,
              "#fb9f3a"
             ],
             [
              0.8888888888888888,
              "#fdca26"
             ],
             [
              1,
              "#f0f921"
             ]
            ],
            "type": "surface"
           }
          ],
          "table": [
           {
            "cells": {
             "fill": {
              "color": "#EBF0F8"
             },
             "line": {
              "color": "white"
             }
            },
            "header": {
             "fill": {
              "color": "#C8D4E3"
             },
             "line": {
              "color": "white"
             }
            },
            "type": "table"
           }
          ]
         },
         "layout": {
          "annotationdefaults": {
           "arrowcolor": "#2a3f5f",
           "arrowhead": 0,
           "arrowwidth": 1
          },
          "autotypenumbers": "strict",
          "coloraxis": {
           "colorbar": {
            "outlinewidth": 0,
            "ticks": ""
           }
          },
          "colorscale": {
           "diverging": [
            [
             0,
             "#8e0152"
            ],
            [
             0.1,
             "#c51b7d"
            ],
            [
             0.2,
             "#de77ae"
            ],
            [
             0.3,
             "#f1b6da"
            ],
            [
             0.4,
             "#fde0ef"
            ],
            [
             0.5,
             "#f7f7f7"
            ],
            [
             0.6,
             "#e6f5d0"
            ],
            [
             0.7,
             "#b8e186"
            ],
            [
             0.8,
             "#7fbc41"
            ],
            [
             0.9,
             "#4d9221"
            ],
            [
             1,
             "#276419"
            ]
           ],
           "sequential": [
            [
             0,
             "#0d0887"
            ],
            [
             0.1111111111111111,
             "#46039f"
            ],
            [
             0.2222222222222222,
             "#7201a8"
            ],
            [
             0.3333333333333333,
             "#9c179e"
            ],
            [
             0.4444444444444444,
             "#bd3786"
            ],
            [
             0.5555555555555556,
             "#d8576b"
            ],
            [
             0.6666666666666666,
             "#ed7953"
            ],
            [
             0.7777777777777778,
             "#fb9f3a"
            ],
            [
             0.8888888888888888,
             "#fdca26"
            ],
            [
             1,
             "#f0f921"
            ]
           ],
           "sequentialminus": [
            [
             0,
             "#0d0887"
            ],
            [
             0.1111111111111111,
             "#46039f"
            ],
            [
             0.2222222222222222,
             "#7201a8"
            ],
            [
             0.3333333333333333,
             "#9c179e"
            ],
            [
             0.4444444444444444,
             "#bd3786"
            ],
            [
             0.5555555555555556,
             "#d8576b"
            ],
            [
             0.6666666666666666,
             "#ed7953"
            ],
            [
             0.7777777777777778,
             "#fb9f3a"
            ],
            [
             0.8888888888888888,
             "#fdca26"
            ],
            [
             1,
             "#f0f921"
            ]
           ]
          },
          "colorway": [
           "#636efa",
           "#EF553B",
           "#00cc96",
           "#ab63fa",
           "#FFA15A",
           "#19d3f3",
           "#FF6692",
           "#B6E880",
           "#FF97FF",
           "#FECB52"
          ],
          "font": {
           "color": "#2a3f5f"
          },
          "geo": {
           "bgcolor": "white",
           "lakecolor": "white",
           "landcolor": "#E5ECF6",
           "showlakes": true,
           "showland": true,
           "subunitcolor": "white"
          },
          "hoverlabel": {
           "align": "left"
          },
          "hovermode": "closest",
          "mapbox": {
           "style": "light"
          },
          "paper_bgcolor": "white",
          "plot_bgcolor": "#E5ECF6",
          "polar": {
           "angularaxis": {
            "gridcolor": "white",
            "linecolor": "white",
            "ticks": ""
           },
           "bgcolor": "#E5ECF6",
           "radialaxis": {
            "gridcolor": "white",
            "linecolor": "white",
            "ticks": ""
           }
          },
          "scene": {
           "xaxis": {
            "backgroundcolor": "#E5ECF6",
            "gridcolor": "white",
            "gridwidth": 2,
            "linecolor": "white",
            "showbackground": true,
            "ticks": "",
            "zerolinecolor": "white"
           },
           "yaxis": {
            "backgroundcolor": "#E5ECF6",
            "gridcolor": "white",
            "gridwidth": 2,
            "linecolor": "white",
            "showbackground": true,
            "ticks": "",
            "zerolinecolor": "white"
           },
           "zaxis": {
            "backgroundcolor": "#E5ECF6",
            "gridcolor": "white",
            "gridwidth": 2,
            "linecolor": "white",
            "showbackground": true,
            "ticks": "",
            "zerolinecolor": "white"
           }
          },
          "shapedefaults": {
           "line": {
            "color": "#2a3f5f"
           }
          },
          "ternary": {
           "aaxis": {
            "gridcolor": "white",
            "linecolor": "white",
            "ticks": ""
           },
           "baxis": {
            "gridcolor": "white",
            "linecolor": "white",
            "ticks": ""
           },
           "bgcolor": "#E5ECF6",
           "caxis": {
            "gridcolor": "white",
            "linecolor": "white",
            "ticks": ""
           }
          },
          "title": {
           "x": 0.05
          },
          "xaxis": {
           "automargin": true,
           "gridcolor": "white",
           "linecolor": "white",
           "ticks": "",
           "title": {
            "standoff": 15
           },
           "zerolinecolor": "white",
           "zerolinewidth": 2
          },
          "yaxis": {
           "automargin": true,
           "gridcolor": "white",
           "linecolor": "white",
           "ticks": "",
           "title": {
            "standoff": 15
           },
           "zerolinecolor": "white",
           "zerolinewidth": 2
          }
         }
        },
        "title": {
         "text": "Junctions: Pressure and Temperature"
        },
        "xaxis": {
         "anchor": "y",
         "domain": [
          0,
          1
         ],
         "title": {
          "text": "x"
         }
        },
        "yaxis": {
         "anchor": "x",
         "domain": [
          0,
          1
         ],
         "title": {
          "text": "y"
         }
        }
       }
      }
     },
     "metadata": {},
     "output_type": "display_data"
    }
   ],
   "source": [
    "import plotly.express as px\n",
    "\n",
    "junctions = net.res_junction.copy()\n",
    "junctions[\"x\"] = net.junction_geodata[\"x\"]\n",
    "junctions[\"y\"] = net.junction_geodata[\"y\"]\n",
    "\n",
    "fig = px.scatter(\n",
    "    junctions,\n",
    "    x=\"x\", y=\"y\",\n",
    "    color=\"p_bar\",\n",
    "    hover_data=[\"p_bar\"],\n",
    "    title=\"Junctions: Pressure and Temperature\",\n",
    "    labels={\"p_bar\": \"Pressure [bar]\"}\n",
    ")\n",
    "fig.show()"
   ]
  },
  {
   "cell_type": "markdown",
   "id": "56e028e5",
   "metadata": {},
   "source": [
    "The above depiction is not displayed in the online documentation."
   ]
  }
 ],
 "metadata": {
  "kernelspec": {
   "display_name": "base",
   "language": "python",
   "name": "python3"
  },
  "language_info": {
   "codemirror_mode": {
    "name": "ipython",
    "version": 3
   },
   "file_extension": ".py",
   "mimetype": "text/x-python",
   "name": "python",
   "nbconvert_exporter": "python",
   "pygments_lexer": "ipython3",
   "version": "3.11.8"
  }
 },
 "nbformat": 4,
 "nbformat_minor": 5
}
