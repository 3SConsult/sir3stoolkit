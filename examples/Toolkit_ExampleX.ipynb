{
 "cells": [
  {
   "cell_type": "markdown",
   "id": "5556432f",
   "metadata": {},
   "source": [
    "# Example X: Template"
   ]
  },
  {
   "cell_type": "markdown",
   "id": "8899e69a",
   "metadata": {},
   "source": [
    "This example demonstrates how to ..."
   ]
  },
  {
   "cell_type": "markdown",
   "id": "e2d40c36",
   "metadata": {},
   "source": [
    "## SIR 3S Installation"
   ]
  },
  {
   "cell_type": "code",
   "execution_count": 4,
   "id": "7fb5a07b",
   "metadata": {},
   "outputs": [],
   "source": [
    "SIR3S_SIRGRAF_DIR = r\"C:\\3S Consult\\Sir3S-90 Entwicklerversionen\\SirGraf-90-15-00-12_Quebec_x64\""
   ]
  },
  {
   "cell_type": "markdown",
   "id": "d6773e12",
   "metadata": {},
   "source": [
    "## Imports"
   ]
  },
  {
   "cell_type": "markdown",
   "id": "5df051cd-7055-4f93-bccb-d5607cfa81ab",
   "metadata": {},
   "source": [
    "Note: The SIR 3S Toolkit requires the Sir3S_Toolkit.dll included in SIR 3S installations (version Quebec and higher)."
   ]
  },
  {
   "cell_type": "code",
   "execution_count": 7,
   "id": "f0fd9fd1-aefa-49ba-a485-88b62151c7c9",
   "metadata": {},
   "outputs": [],
   "source": [
    "import sir3stoolkit"
   ]
  },
  {
   "cell_type": "markdown",
   "id": "4d5ba164-aec8-4592-8c0a-798b4f4baa7c",
   "metadata": {},
   "source": [
    "The core of sir3stoolkit is a Python wrapper around basic functionality of SIR 3S, offering a low-level access to the creation, modification and simulation of SIR 3S models. In the future pure python subpackages may be added."
   ]
  },
  {
   "cell_type": "code",
   "execution_count": 9,
   "id": "687f2fa2-afee-4376-bd8f-5a53f288b772",
   "metadata": {},
   "outputs": [],
   "source": [
    "from sir3stoolkit.core import wrapper"
   ]
  },
  {
   "cell_type": "code",
   "execution_count": 10,
   "id": "e75e19c1-3677-44e1-88de-af12a287e8a9",
   "metadata": {},
   "outputs": [
    {
     "data": {
      "text/plain": [
       "<module 'sir3stoolkit' from 'C:\\\\Users\\\\fischer.3S.000\\\\AppData\\\\Local\\\\anaconda3\\\\Lib\\\\site-packages\\\\sir3stoolkit\\\\__init__.py'>"
      ]
     },
     "execution_count": 10,
     "metadata": {},
     "output_type": "execute_result"
    }
   ],
   "source": [
    "sir3stoolkit"
   ]
  },
  {
   "cell_type": "markdown",
   "id": "5cdb23ce-d1bb-4f8c-a800-fb8c026e9266",
   "metadata": {},
   "source": [
    "The wrapper package has to be initialized with reference to a SIR 3S (SirGraf) installation."
   ]
  },
  {
   "cell_type": "code",
   "execution_count": 12,
   "id": "ee4bc044",
   "metadata": {},
   "outputs": [],
   "source": [
    "wrapper.Initialize_Toolkit(SIR3S_SIRGRAF_DIR)"
   ]
  },
  {
   "cell_type": "markdown",
   "id": "2007993a",
   "metadata": {},
   "source": [
    "### Additional imports"
   ]
  },
  {
   "cell_type": "code",
   "execution_count": 14,
   "id": "60659f01",
   "metadata": {},
   "outputs": [],
   "source": [
    "import os"
   ]
  },
  {
   "cell_type": "markdown",
   "id": "c3ab6600-34d9-4bfc-a816-96385dff31b0",
   "metadata": {},
   "source": [
    "..."
   ]
  },
  {
   "cell_type": "markdown",
   "id": "0352dd43",
   "metadata": {},
   "source": [
    "## Initialization"
   ]
  },
  {
   "cell_type": "code",
   "execution_count": 17,
   "id": "7e40a5af",
   "metadata": {},
   "outputs": [
    {
     "name": "stdout",
     "output_type": "stream",
     "text": [
      "Initialization complete\n"
     ]
    }
   ],
   "source": [
    "s3s = wrapper.SIR3S_Model()"
   ]
  },
  {
   "cell_type": "markdown",
   "id": "2d0f6dc9",
   "metadata": {},
   "source": [
    "## Header 1"
   ]
  },
  {
   "cell_type": "markdown",
   "id": "4dfd2e9a-dc8d-486d-81a0-9e01e7b79b2e",
   "metadata": {},
   "source": [
    "..."
   ]
  }
 ],
 "metadata": {
  "kernelspec": {
   "display_name": "Python 3 (ipykernel)",
   "language": "python",
   "name": "python3"
  },
  "language_info": {
   "codemirror_mode": {
    "name": "ipython",
    "version": 3
   },
   "file_extension": ".py",
   "mimetype": "text/x-python",
   "name": "python",
   "nbconvert_exporter": "python",
   "pygments_lexer": "ipython3",
   "version": "3.12.3"
  }
 },
 "nbformat": 4,
 "nbformat_minor": 5
}
