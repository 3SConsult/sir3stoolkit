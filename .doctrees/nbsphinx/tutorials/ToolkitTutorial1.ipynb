{
 "cells": [
  {
   "cell_type": "markdown",
   "id": "5556432f",
   "metadata": {},
   "source": [
    "# Tutorial 1: Importing and Initialization"
   ]
  },
  {
   "cell_type": "markdown",
   "id": "c9397791",
   "metadata": {},
   "source": [
    "This Tutorial demonstrates how to import the Toolkit and intialize instances of its classes."
   ]
  },
  {
   "cell_type": "markdown",
   "id": "e2d40c36",
   "metadata": {},
   "source": [
    "# Toolkit Release"
   ]
  },
  {
   "cell_type": "code",
   "execution_count": 1,
   "id": "7fb5a07b",
   "metadata": {},
   "outputs": [],
   "source": [
    "#pip install sir3stoolkit"
   ]
  },
  {
   "cell_type": "markdown",
   "id": "d6773e12",
   "metadata": {},
   "source": [
    "# Imports"
   ]
  },
  {
   "cell_type": "markdown",
   "id": "856ffe61",
   "metadata": {},
   "source": [
    "## DLL References"
   ]
  },
  {
   "cell_type": "markdown",
   "id": "0c29ae20",
   "metadata": {},
   "source": [
    "The Toolkit requires the Sir3S_Toolkit.dll included in SIR 3S installations (from Quebec and Up). Furthermore the Sir3S_Repository.Interfaces.dll is required to input native SIR 3S datatypes into some Toolkit functions."
   ]
  },
  {
   "cell_type": "code",
   "execution_count": 2,
   "id": "1b609e22",
   "metadata": {},
   "outputs": [],
   "source": [
    "import clr as clr"
   ]
  },
  {
   "cell_type": "code",
   "execution_count": 3,
   "id": "909c8166",
   "metadata": {},
   "outputs": [],
   "source": [
    "SIR3S_SIRGRAF_DIR = r\"C:\\3S\\SIR 3S Entwicklung\\SirGraf-90-15-00-10_Quebec.beta_x64\""
   ]
  },
  {
   "cell_type": "code",
   "execution_count": 4,
   "id": "d1f4cf46",
   "metadata": {},
   "outputs": [],
   "source": [
    "clr.AddReference(SIR3S_SIRGRAF_DIR+r\"\\Sir3S_Repository.Interfaces\")\n",
    "import Sir3S_Repository.Interfaces as Interfaces"
   ]
  },
  {
   "cell_type": "code",
   "execution_count": 5,
   "id": "1831d6fb",
   "metadata": {},
   "outputs": [],
   "source": [
    "clr.AddReference(SIR3S_SIRGRAF_DIR+r\"\\Sir3S_Toolkit\")\n",
    "import Sir3S_Toolkit"
   ]
  },
  {
   "cell_type": "markdown",
   "id": "4c73fc05",
   "metadata": {},
   "source": [
    "## PythonWrapperToolkit"
   ]
  },
  {
   "cell_type": "code",
   "execution_count": 6,
   "id": "4552a777",
   "metadata": {},
   "outputs": [],
   "source": [
    "import sir3stoolkit"
   ]
  },
  {
   "cell_type": "markdown",
   "id": "29743e38",
   "metadata": {},
   "source": [
    "The core of sir3stoolkit is a Python Wrapper around C#, that can be used to read, write, etc. to a SIR 3S Model. In the future pure python subpackages may be added."
   ]
  },
  {
   "cell_type": "code",
   "execution_count": 7,
   "id": "ff2227b3",
   "metadata": {},
   "outputs": [],
   "source": [
    "from sir3stoolkit.core import wrapper"
   ]
  },
  {
   "cell_type": "code",
   "execution_count": 8,
   "id": "a5910232",
   "metadata": {},
   "outputs": [
    {
     "data": {
      "text/plain": [
       "<module 'sir3stoolkit' from 'c:\\\\Users\\\\jablonski\\\\AppData\\\\Local\\\\anaconda3\\\\Lib\\\\site-packages\\\\sir3stoolkit\\\\__init__.py'>"
      ]
     },
     "execution_count": 8,
     "metadata": {},
     "output_type": "execute_result"
    }
   ],
   "source": [
    "sir3stoolkit"
   ]
  },
  {
   "cell_type": "markdown",
   "id": "b05c8cae",
   "metadata": {},
   "source": [
    "An instance of the wrapper package has to be created with reference to a SIR Graf installation."
   ]
  },
  {
   "cell_type": "code",
   "execution_count": 9,
   "id": "7540fe7b",
   "metadata": {},
   "outputs": [],
   "source": [
    "wrapper.Initialize_Toolkit(SIR3S_SIRGRAF_DIR)"
   ]
  },
  {
   "cell_type": "markdown",
   "id": "0352dd43",
   "metadata": {},
   "source": [
    "# Initialization"
   ]
  },
  {
   "cell_type": "markdown",
   "id": "e14ffe06",
   "metadata": {},
   "source": [
    "Toolkit contains two classes: SIR3S_Model(model and data) and SIR3S_View(depiction in SIR Graf). All Toolkit functionality is accessed via the methods of these classes."
   ]
  },
  {
   "cell_type": "code",
   "execution_count": 10,
   "id": "7e40a5af",
   "metadata": {},
   "outputs": [
    {
     "name": "stdout",
     "output_type": "stream",
     "text": [
      "Initialization complete\n"
     ]
    }
   ],
   "source": [
    "s3s = wrapper.SIR3S_Model()"
   ]
  },
  {
   "cell_type": "code",
   "execution_count": 11,
   "id": "3770c93f",
   "metadata": {},
   "outputs": [
    {
     "name": "stdout",
     "output_type": "stream",
     "text": [
      "Initialization complete\n"
     ]
    }
   ],
   "source": [
    "s3s_view = wrapper.SIR3S_View()"
   ]
  },
  {
   "cell_type": "markdown",
   "id": "18aa477e",
   "metadata": {},
   "source": [
    "Now follows: Tutorial 2: Creating or Opening a SIR 3S Model"
   ]
  }
 ],
 "metadata": {
  "kernelspec": {
   "display_name": "base",
   "language": "python",
   "name": "python3"
  },
  "language_info": {
   "codemirror_mode": {
    "name": "ipython",
    "version": 3
   },
   "file_extension": ".py",
   "mimetype": "text/x-python",
   "name": "python",
   "nbconvert_exporter": "python",
   "pygments_lexer": "ipython3",
   "version": "3.11.8"
  }
 },
 "nbformat": 4,
 "nbformat_minor": 5
}
