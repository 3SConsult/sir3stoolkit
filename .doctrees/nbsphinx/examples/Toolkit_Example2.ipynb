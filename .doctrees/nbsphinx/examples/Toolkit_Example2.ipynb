{
 "cells": [
  {
   "cell_type": "markdown",
   "id": "5556432f",
   "metadata": {},
   "source": [
    "# Example 2: Dataframes"
   ]
  },
  {
   "cell_type": "markdown",
   "id": "8899e69a",
   "metadata": {},
   "source": [
    "This Example demonstrates the capabilities of the class Dataframes_SIR3S_Model that extends SIR3S_Model be abilities to work directley with pandas dataframes.  "
   ]
  },
  {
   "cell_type": "markdown",
   "id": "e2d40c36",
   "metadata": {},
   "source": [
    "# Toolkit Release"
   ]
  },
  {
   "cell_type": "code",
   "execution_count": 1,
   "id": "7fb5a07b",
   "metadata": {},
   "outputs": [],
   "source": [
    "#pip install "
   ]
  },
  {
   "cell_type": "markdown",
   "id": "d6773e12",
   "metadata": {},
   "source": [
    "# Imports"
   ]
  },
  {
   "cell_type": "markdown",
   "id": "134689cf",
   "metadata": {},
   "source": [
    "## SIR 3S Toolkit"
   ]
  },
  {
   "cell_type": "markdown",
   "id": "69665f68",
   "metadata": {},
   "source": [
    "### Regular Import/Init"
   ]
  },
  {
   "cell_type": "code",
   "execution_count": 2,
   "id": "79d0fb2c",
   "metadata": {},
   "outputs": [],
   "source": [
    "SIR3S_SIRGRAF_DIR = r\"C:\\3S\\SIR 3S Entwicklung\\SirGraf-90-15-00-16_Quebec_x64\" #change to local path"
   ]
  },
  {
   "cell_type": "code",
   "execution_count": 3,
   "id": "ee4bc044",
   "metadata": {},
   "outputs": [],
   "source": [
    "import sir3stoolkit"
   ]
  },
  {
   "cell_type": "code",
   "execution_count": 4,
   "id": "0f41d17a",
   "metadata": {},
   "outputs": [],
   "source": [
    "from sir3stoolkit.core import wrapper"
   ]
  },
  {
   "cell_type": "code",
   "execution_count": 5,
   "id": "d539c981",
   "metadata": {},
   "outputs": [
    {
     "data": {
      "text/plain": [
       "<module 'sir3stoolkit' from 'C:\\\\Users\\\\aUsername\\\\3S\\\\sir3stoolkit\\\\src\\\\sir3stoolkit\\\\__init__.py'>"
      ]
     },
     "execution_count": 5,
     "metadata": {},
     "output_type": "execute_result"
    }
   ],
   "source": [
    "sir3stoolkit"
   ]
  },
  {
   "cell_type": "code",
   "execution_count": 6,
   "id": "37d59df0",
   "metadata": {},
   "outputs": [],
   "source": [
    "wrapper.Initialize_Toolkit(SIR3S_SIRGRAF_DIR)"
   ]
  },
  {
   "cell_type": "markdown",
   "id": "ebf2c56e",
   "metadata": {},
   "source": [
    "### Additional Import/Init for Dataframes class"
   ]
  },
  {
   "cell_type": "code",
   "execution_count": null,
   "id": "88ab07a4",
   "metadata": {},
   "outputs": [],
   "source": [
    "from sir3stoolkit.extended import dataframes"
   ]
  },
  {
   "cell_type": "code",
   "execution_count": null,
   "id": "0944486d",
   "metadata": {},
   "outputs": [
    {
     "name": "stdout",
     "output_type": "stream",
     "text": [
      "Initialization complete\n"
     ]
    }
   ],
   "source": [
    "s3s = dataframes.Dataframes_SIR3S_Model()"
   ]
  },
  {
   "cell_type": "markdown",
   "id": "2007993a",
   "metadata": {},
   "source": [
    "## Additional"
   ]
  },
  {
   "cell_type": "code",
   "execution_count": 9,
   "id": "60659f01",
   "metadata": {},
   "outputs": [],
   "source": [
    "import numpy"
   ]
  },
  {
   "cell_type": "code",
   "execution_count": 10,
   "id": "ea76d320",
   "metadata": {},
   "outputs": [],
   "source": [
    "import pandas as pd"
   ]
  },
  {
   "cell_type": "code",
   "execution_count": 51,
   "id": "7551452e",
   "metadata": {},
   "outputs": [],
   "source": [
    "import folium\n",
    "from folium.plugins import HeatMap"
   ]
  },
  {
   "cell_type": "code",
   "execution_count": 61,
   "id": "3a443734",
   "metadata": {},
   "outputs": [],
   "source": [
    "import pandas as pd\n",
    "from shapely.geometry import Point\n",
    "import re"
   ]
  },
  {
   "cell_type": "markdown",
   "id": "d9a78e4d",
   "metadata": {},
   "source": [
    "# Open Model"
   ]
  },
  {
   "cell_type": "code",
   "execution_count": 11,
   "id": "20ff3c21",
   "metadata": {},
   "outputs": [
    {
     "name": "stdout",
     "output_type": "stream",
     "text": [
      "Model is open for further operation\n"
     ]
    }
   ],
   "source": [
    "s3s.OpenModel(dbName=r\"C:\\Users\\aUsername\\3S\\Quebec_PT3S\\Example1.db3\",\n",
    "              providerType=s3s.ProviderTypes.SQLite,\n",
    "              Mid=\"M-1-0-1\",\n",
    "              saveCurrentlyOpenModel=False,\n",
    "              namedInstance=\"\",\n",
    "              userID=\"\",\n",
    "              password=\"\")"
   ]
  },
  {
   "cell_type": "markdown",
   "id": "1297b929",
   "metadata": {},
   "source": [
    "# Prepare Data"
   ]
  },
  {
   "cell_type": "markdown",
   "id": "a6af11f5",
   "metadata": {},
   "source": [
    "## District Heating Consumer"
   ]
  },
  {
   "cell_type": "markdown",
   "id": "6eed41b9",
   "metadata": {},
   "source": [
    "### Metadata"
   ]
  },
  {
   "cell_type": "code",
   "execution_count": 12,
   "id": "1c60f6cc",
   "metadata": {},
   "outputs": [
    {
     "name": "stderr",
     "output_type": "stream",
     "text": [
      "[2025-09-20 20:17:51,275] INFO in sir3stoolkit.extended.Dataframes: [metadata] Generating metadata dataframe for element type: ObjectTypes.DistrictHeatingConsumer\n",
      "[2025-09-20 20:17:51,293] INFO in sir3stoolkit.extended.Dataframes: [metadata] Retrieved 337 tks.\n",
      "[2025-09-20 20:17:51,323] INFO in sir3stoolkit.extended.Dataframes: [Resolving Metadata Properties] Using 0 metadata properties.\n",
      "[2025-09-20 20:17:51,325] INFO in sir3stoolkit.extended.Dataframes: [metadata] Retrieving metadata properties [] and geometry...\n",
      "[2025-09-20 20:17:51,397] INFO in sir3stoolkit.extended.Dataframes: [metadata] Done. Shape: (337, 2)\n"
     ]
    }
   ],
   "source": [
    "df_consumer_metadata=s3s.generate_element_metadata_dataframe(element_type=s3s.ObjectTypes.DistrictHeatingConsumer, properties=[], geometry=True)"
   ]
  },
  {
   "cell_type": "markdown",
   "id": "0de616e8",
   "metadata": {},
   "source": [
    "### Result Data"
   ]
  },
  {
   "cell_type": "code",
   "execution_count": 13,
   "id": "90e7e467",
   "metadata": {},
   "outputs": [
    {
     "name": "stderr",
     "output_type": "stream",
     "text": [
      "[2025-09-20 20:17:51,417] INFO in sir3stoolkit.extended.Dataframes: [results] Generating results dataframe for element type: ObjectTypes.DistrictHeatingConsumer\n",
      "[2025-09-20 20:17:51,421] INFO in sir3stoolkit.extended.Dataframes: [Resolving Timestamps] No timestamps were given. Checking available simulation timestamps (SIR3S_Model.GetTimeStamps()).\n",
      "[2025-09-20 20:17:51,600] INFO in sir3stoolkit.extended.Dataframes: 7 simulation timestamps will be used.\n",
      "[2025-09-20 20:17:51,806] INFO in sir3stoolkit.extended.Dataframes: [Resolving Timestamps] 7 valid timestamps will be used.\n",
      "[2025-09-20 20:17:51,812] INFO in sir3stoolkit.extended.Dataframes: [results] Retrieved 337 tks.\n",
      "[2025-09-20 20:17:51,816] INFO in sir3stoolkit.extended.Dataframes: [results] Using 1 result properties.\n",
      "[2025-09-20 20:17:51,818] INFO in sir3stoolkit.extended.Dataframes: [results] Retrieving result properties...\n",
      "[2025-09-20 20:17:52,495] INFO in sir3stoolkit.extended.Dataframes: [results] Done. Shape: (2359, 3)\n"
     ]
    }
   ],
   "source": [
    "df_consumer_results=s3s.generate_element_results_dataframe(s3s.ObjectTypes.DistrictHeatingConsumer, [\"W\"])"
   ]
  },
  {
   "cell_type": "markdown",
   "id": "49290dad",
   "metadata": {},
   "source": [
    "### Merge"
   ]
  },
  {
   "cell_type": "code",
   "execution_count": 14,
   "id": "13956e25",
   "metadata": {},
   "outputs": [],
   "source": [
    "df_consumer = pd.merge(\n",
    "    df_consumer_metadata,\n",
    "    df_consumer_results,\n",
    "    on=\"tk\",\n",
    "    how=\"outer\"\n",
    ")"
   ]
  },
  {
   "cell_type": "code",
   "execution_count": 18,
   "id": "c5f3d755",
   "metadata": {},
   "outputs": [
    {
     "data": {
      "text/html": [
       "<div>\n",
       "<style scoped>\n",
       "    .dataframe tbody tr th:only-of-type {\n",
       "        vertical-align: middle;\n",
       "    }\n",
       "\n",
       "    .dataframe tbody tr th {\n",
       "        vertical-align: top;\n",
       "    }\n",
       "\n",
       "    .dataframe thead th {\n",
       "        text-align: right;\n",
       "    }\n",
       "</style>\n",
       "<table border=\"1\" class=\"dataframe\">\n",
       "  <thead>\n",
       "    <tr style=\"text-align: right;\">\n",
       "      <th></th>\n",
       "      <th>tk</th>\n",
       "      <th>geometry</th>\n",
       "      <th>timestamp</th>\n",
       "      <th>W</th>\n",
       "    </tr>\n",
       "  </thead>\n",
       "  <tbody>\n",
       "    <tr>\n",
       "      <th>0</th>\n",
       "      <td>4611752310942477664</td>\n",
       "      <td>POINT (713675.30023234 5578705.1927566)</td>\n",
       "      <td>2023-02-13 00:00:00.000 +01:00</td>\n",
       "      <td>39.36727</td>\n",
       "    </tr>\n",
       "    <tr>\n",
       "      <th>1</th>\n",
       "      <td>4611752310942477664</td>\n",
       "      <td>POINT (713675.30023234 5578705.1927566)</td>\n",
       "      <td>2023-02-13 01:00:00.000 +01:00</td>\n",
       "      <td>39.3675</td>\n",
       "    </tr>\n",
       "    <tr>\n",
       "      <th>2</th>\n",
       "      <td>4611752310942477664</td>\n",
       "      <td>POINT (713675.30023234 5578705.1927566)</td>\n",
       "      <td>2023-02-13 06:00:00.000 +01:00</td>\n",
       "      <td>77.90138</td>\n",
       "    </tr>\n",
       "  </tbody>\n",
       "</table>\n",
       "</div>"
      ],
      "text/plain": [
       "                    tk                                 geometry  \\\n",
       "0  4611752310942477664  POINT (713675.30023234 5578705.1927566)   \n",
       "1  4611752310942477664  POINT (713675.30023234 5578705.1927566)   \n",
       "2  4611752310942477664  POINT (713675.30023234 5578705.1927566)   \n",
       "\n",
       "                        timestamp         W  \n",
       "0  2023-02-13 00:00:00.000 +01:00  39.36727  \n",
       "1  2023-02-13 01:00:00.000 +01:00   39.3675  \n",
       "2  2023-02-13 06:00:00.000 +01:00  77.90138  "
      ]
     },
     "execution_count": 18,
     "metadata": {},
     "output_type": "execute_result"
    }
   ],
   "source": [
    "df_consumer.head(3)"
   ]
  },
  {
   "cell_type": "markdown",
   "id": "d494e629",
   "metadata": {},
   "source": [
    "## Pipes"
   ]
  },
  {
   "cell_type": "markdown",
   "id": "02644004",
   "metadata": {},
   "source": [
    "### Metadata"
   ]
  },
  {
   "cell_type": "code",
   "execution_count": 22,
   "id": "6d4c590a",
   "metadata": {},
   "outputs": [
    {
     "name": "stderr",
     "output_type": "stream",
     "text": [
      "[2025-09-20 20:21:21,328] INFO in sir3stoolkit.extended.Dataframes: [metadata] Generating metadata dataframe for element type: ObjectTypes.Pipe\n",
      "[2025-09-20 20:21:21,332] INFO in sir3stoolkit.extended.Dataframes: [metadata] Retrieved 524 tks.\n",
      "[2025-09-20 20:21:21,335] INFO in sir3stoolkit.extended.Dataframes: [Resolving Metadata Properties] Using 2 metadata properties.\n",
      "[2025-09-20 20:21:21,336] INFO in sir3stoolkit.extended.Dataframes: [metadata] Retrieving metadata properties ['Di', 'Kvr'] and geometry...\n",
      "[2025-09-20 20:21:21,461] INFO in sir3stoolkit.extended.Dataframes: [metadata] Done. Shape: (524, 4)\n"
     ]
    }
   ],
   "source": [
    "df_pipes_metadata=s3s.generate_element_metadata_dataframe(element_type=s3s.ObjectTypes.Pipe, properties=[\"Di\", \"Kvr\"], geometry=True)"
   ]
  },
  {
   "cell_type": "markdown",
   "id": "ef579444",
   "metadata": {},
   "source": [
    "### Result data"
   ]
  },
  {
   "cell_type": "code",
   "execution_count": 26,
   "id": "333d9c63",
   "metadata": {},
   "outputs": [
    {
     "name": "stderr",
     "output_type": "stream",
     "text": [
      "[2025-09-20 20:22:21,973] INFO in sir3stoolkit.extended.Dataframes: [results] Generating results dataframe for element type: ObjectTypes.Pipe\n",
      "[2025-09-20 20:22:21,974] INFO in sir3stoolkit.extended.Dataframes: [Resolving Timestamps] No timestamps were given. Checking available simulation timestamps (SIR3S_Model.GetTimeStamps()).\n",
      "[2025-09-20 20:22:22,074] INFO in sir3stoolkit.extended.Dataframes: 7 simulation timestamps will be used.\n",
      "[2025-09-20 20:22:22,165] INFO in sir3stoolkit.extended.Dataframes: [Resolving Timestamps] 7 valid timestamps will be used.\n",
      "[2025-09-20 20:22:22,167] INFO in sir3stoolkit.extended.Dataframes: [results] Retrieved 524 tks.\n",
      "[2025-09-20 20:22:22,170] INFO in sir3stoolkit.extended.Dataframes: [results] Using 1 result properties.\n",
      "[2025-09-20 20:22:22,172] INFO in sir3stoolkit.extended.Dataframes: [results] Retrieving result properties...\n",
      "[2025-09-20 20:22:23,046] INFO in sir3stoolkit.extended.Dataframes: [results] Done. Shape: (3668, 3)\n"
     ]
    }
   ],
   "source": [
    "df_pipes_results=s3s.generate_element_results_dataframe(s3s.ObjectTypes.Pipe, [\"QMAV\"])"
   ]
  },
  {
   "cell_type": "code",
   "execution_count": 30,
   "id": "a98578cc",
   "metadata": {},
   "outputs": [],
   "source": [
    "df_pipes_results[\"QMAV\"]=df_pipes_results[\"QMAV\"].astype(float)"
   ]
  },
  {
   "cell_type": "code",
   "execution_count": 31,
   "id": "ce63b98a",
   "metadata": {},
   "outputs": [],
   "source": [
    "df_pipes_results[\"QMAV\"]=df_pipes_results[\"QMAV\"].abs()"
   ]
  },
  {
   "cell_type": "code",
   "execution_count": 34,
   "id": "0708539c",
   "metadata": {},
   "outputs": [],
   "source": [
    "df_pipes_results=df_pipes_results.rename(columns={\"QMAV\": \"QMAVAbs\"})"
   ]
  },
  {
   "cell_type": "markdown",
   "id": "4a014cac",
   "metadata": {},
   "source": [
    "### Merge"
   ]
  },
  {
   "cell_type": "code",
   "execution_count": 47,
   "id": "49f5df10",
   "metadata": {},
   "outputs": [],
   "source": [
    "df_pipes = pd.merge(\n",
    "    df_pipes_metadata,\n",
    "    df_pipes_results,\n",
    "    on=\"tk\",\n",
    "    how=\"outer\"\n",
    ")"
   ]
  },
  {
   "cell_type": "code",
   "execution_count": 48,
   "id": "977bc8f6",
   "metadata": {},
   "outputs": [],
   "source": [
    "df_pipes=df_pipes[df_pipes[\"Kvr\"] == \"1\"]"
   ]
  },
  {
   "cell_type": "code",
   "execution_count": 49,
   "id": "818ad39e",
   "metadata": {},
   "outputs": [
    {
     "data": {
      "text/html": [
       "<div>\n",
       "<style scoped>\n",
       "    .dataframe tbody tr th:only-of-type {\n",
       "        vertical-align: middle;\n",
       "    }\n",
       "\n",
       "    .dataframe tbody tr th {\n",
       "        vertical-align: top;\n",
       "    }\n",
       "\n",
       "    .dataframe thead th {\n",
       "        text-align: right;\n",
       "    }\n",
       "</style>\n",
       "<table border=\"1\" class=\"dataframe\">\n",
       "  <thead>\n",
       "    <tr style=\"text-align: right;\">\n",
       "      <th></th>\n",
       "      <th>tk</th>\n",
       "      <th>Di</th>\n",
       "      <th>Kvr</th>\n",
       "      <th>geometry</th>\n",
       "      <th>timestamp</th>\n",
       "      <th>QMAVAbs</th>\n",
       "    </tr>\n",
       "  </thead>\n",
       "  <tbody>\n",
       "    <tr>\n",
       "      <th>7</th>\n",
       "      <td>4615723899944629797</td>\n",
       "      <td>994</td>\n",
       "      <td>1</td>\n",
       "      <td>LINESTRING (713738.296567236 5579219.90221333,...</td>\n",
       "      <td>2023-02-13 00:00:00.000 +01:00</td>\n",
       "      <td>3.667083e-10</td>\n",
       "    </tr>\n",
       "    <tr>\n",
       "      <th>8</th>\n",
       "      <td>4615723899944629797</td>\n",
       "      <td>994</td>\n",
       "      <td>1</td>\n",
       "      <td>LINESTRING (713738.296567236 5579219.90221333,...</td>\n",
       "      <td>2023-02-13 01:00:00.000 +01:00</td>\n",
       "      <td>0.000000e+00</td>\n",
       "    </tr>\n",
       "    <tr>\n",
       "      <th>9</th>\n",
       "      <td>4615723899944629797</td>\n",
       "      <td>994</td>\n",
       "      <td>1</td>\n",
       "      <td>LINESTRING (713738.296567236 5579219.90221333,...</td>\n",
       "      <td>2023-02-13 06:00:00.000 +01:00</td>\n",
       "      <td>1.047738e-09</td>\n",
       "    </tr>\n",
       "  </tbody>\n",
       "</table>\n",
       "</div>"
      ],
      "text/plain": [
       "                    tk   Di Kvr  \\\n",
       "7  4615723899944629797  994   1   \n",
       "8  4615723899944629797  994   1   \n",
       "9  4615723899944629797  994   1   \n",
       "\n",
       "                                            geometry  \\\n",
       "7  LINESTRING (713738.296567236 5579219.90221333,...   \n",
       "8  LINESTRING (713738.296567236 5579219.90221333,...   \n",
       "9  LINESTRING (713738.296567236 5579219.90221333,...   \n",
       "\n",
       "                        timestamp       QMAVAbs  \n",
       "7  2023-02-13 00:00:00.000 +01:00  3.667083e-10  \n",
       "8  2023-02-13 01:00:00.000 +01:00  0.000000e+00  \n",
       "9  2023-02-13 06:00:00.000 +01:00  1.047738e-09  "
      ]
     },
     "execution_count": 49,
     "metadata": {},
     "output_type": "execute_result"
    }
   ],
   "source": [
    "df_pipes.head(3)"
   ]
  },
  {
   "cell_type": "markdown",
   "id": "1b19e7b5",
   "metadata": {},
   "source": [
    "# Plot"
   ]
  },
  {
   "cell_type": "code",
   "execution_count": 50,
   "id": "496d88f1",
   "metadata": {},
   "outputs": [],
   "source": [
    "minRadius = 2\n",
    "maxRadius = 10 * minRadius\n",
    "facRadius = 1 / 10.\n",
    "minWidthinPixel = 1\n",
    "maxWidthinPixel = 3 * minWidthinPixel\n",
    "facWidthinPixel1DN = 1 / 200\n",
    "facWidthinPixelQMAVAbs = 1 / 10"
   ]
  },
  {
   "cell_type": "code",
   "execution_count": 57,
   "id": "38b08927",
   "metadata": {},
   "outputs": [],
   "source": [
    "def parse_point_string(s):\n",
    "    # Extract numbers from the string using regex\n",
    "    match = re.match(r'POINT\\s*\\(\\s*([-\\d\\.]+)\\s+([-\\d\\.]+)\\s*\\)', s)\n",
    "    if match:\n",
    "        x, y = float(match.group(1)), float(match.group(2))\n",
    "        return Point(x, y)\n",
    "    else:\n",
    "        return None"
   ]
  },
  {
   "cell_type": "code",
   "execution_count": 58,
   "id": "60ff9ae3",
   "metadata": {},
   "outputs": [],
   "source": [
    "df_consumer['geometry'] = df_consumer['geometry'].apply(parse_point_string)\n",
    "\n",
    "x_mean = df_consumer['geometry'].apply(lambda p: p.x if p else None).mean()\n",
    "y_mean = df_consumer['geometry'].apply(lambda p: p.y if p else None).mean()"
   ]
  },
  {
   "cell_type": "code",
   "execution_count": 60,
   "id": "c2c1abac",
   "metadata": {},
   "outputs": [
    {
     "ename": "AttributeError",
     "evalue": "'DataFrame' object has no attribute 'explore'",
     "output_type": "error",
     "traceback": [
      "\u001b[1;31m---------------------------------------------------------------------------\u001b[0m",
      "\u001b[1;31mAttributeError\u001b[0m                            Traceback (most recent call last)",
      "\u001b[1;32m~\\AppData\\Local\\Temp\\ipykernel_20528\\2403409117.py\u001b[0m in \u001b[0;36m?\u001b[1;34m()\u001b[0m\n\u001b[0;32m      1\u001b[0m \u001b[1;31m# Create a folium Map\u001b[0m\u001b[1;33m\u001b[0m\u001b[1;33m\u001b[0m\u001b[0m\n\u001b[0;32m      2\u001b[0m \u001b[0mmap\u001b[0m \u001b[1;33m=\u001b[0m \u001b[0mfolium\u001b[0m\u001b[1;33m.\u001b[0m\u001b[0mMap\u001b[0m\u001b[1;33m(\u001b[0m\u001b[0mlocation\u001b[0m\u001b[1;33m=\u001b[0m\u001b[1;33m(\u001b[0m\u001b[0my_mean\u001b[0m\u001b[1;33m,\u001b[0m \u001b[0mx_mean\u001b[0m\u001b[1;33m)\u001b[0m\u001b[1;33m,\u001b[0m \u001b[0mtitles\u001b[0m\u001b[1;33m=\u001b[0m\u001b[1;34m'CartoDB Positron'\u001b[0m\u001b[1;33m,\u001b[0m \u001b[0mzoom_start\u001b[0m\u001b[1;33m=\u001b[0m\u001b[1;36m16\u001b[0m\u001b[1;33m)\u001b[0m\u001b[1;33m\u001b[0m\u001b[1;33m\u001b[0m\u001b[0m\n\u001b[0;32m      3\u001b[0m \u001b[1;33m\u001b[0m\u001b[0m\n\u001b[0;32m      4\u001b[0m \u001b[1;31m# Add 'W' layer to the map\u001b[0m\u001b[1;33m\u001b[0m\u001b[1;33m\u001b[0m\u001b[0m\n\u001b[1;32m----> 5\u001b[1;33m df_consumer.loc[:, ['geometry', 'W']].explore(\n\u001b[0m\u001b[0;32m      6\u001b[0m     \u001b[0mcolumn\u001b[0m\u001b[1;33m=\u001b[0m\u001b[1;34m'W'\u001b[0m\u001b[1;33m,\u001b[0m\u001b[1;33m\u001b[0m\u001b[1;33m\u001b[0m\u001b[0m\n\u001b[0;32m      7\u001b[0m     \u001b[0mcmap\u001b[0m\u001b[1;33m=\u001b[0m\u001b[1;34m'autumn_r'\u001b[0m\u001b[1;33m,\u001b[0m\u001b[1;33m\u001b[0m\u001b[1;33m\u001b[0m\u001b[0m\n\u001b[0;32m      8\u001b[0m     \u001b[0mlegend\u001b[0m\u001b[1;33m=\u001b[0m\u001b[1;32mFalse\u001b[0m\u001b[1;33m,\u001b[0m\u001b[1;33m\u001b[0m\u001b[1;33m\u001b[0m\u001b[0m\n",
      "\u001b[1;32mc:\\Users\\jablonski\\AppData\\Local\\anaconda3\\Lib\\site-packages\\pandas\\core\\generic.py\u001b[0m in \u001b[0;36m?\u001b[1;34m(self, name)\u001b[0m\n\u001b[0;32m   6295\u001b[0m             \u001b[1;32mand\u001b[0m \u001b[0mname\u001b[0m \u001b[1;32mnot\u001b[0m \u001b[1;32min\u001b[0m \u001b[0mself\u001b[0m\u001b[1;33m.\u001b[0m\u001b[0m_accessors\u001b[0m\u001b[1;33m\u001b[0m\u001b[1;33m\u001b[0m\u001b[0m\n\u001b[0;32m   6296\u001b[0m             \u001b[1;32mand\u001b[0m \u001b[0mself\u001b[0m\u001b[1;33m.\u001b[0m\u001b[0m_info_axis\u001b[0m\u001b[1;33m.\u001b[0m\u001b[0m_can_hold_identifiers_and_holds_name\u001b[0m\u001b[1;33m(\u001b[0m\u001b[0mname\u001b[0m\u001b[1;33m)\u001b[0m\u001b[1;33m\u001b[0m\u001b[1;33m\u001b[0m\u001b[0m\n\u001b[0;32m   6297\u001b[0m         ):\n\u001b[0;32m   6298\u001b[0m             \u001b[1;32mreturn\u001b[0m \u001b[0mself\u001b[0m\u001b[1;33m[\u001b[0m\u001b[0mname\u001b[0m\u001b[1;33m]\u001b[0m\u001b[1;33m\u001b[0m\u001b[1;33m\u001b[0m\u001b[0m\n\u001b[1;32m-> 6299\u001b[1;33m         \u001b[1;32mreturn\u001b[0m \u001b[0mobject\u001b[0m\u001b[1;33m.\u001b[0m\u001b[0m__getattribute__\u001b[0m\u001b[1;33m(\u001b[0m\u001b[0mself\u001b[0m\u001b[1;33m,\u001b[0m \u001b[0mname\u001b[0m\u001b[1;33m)\u001b[0m\u001b[1;33m\u001b[0m\u001b[1;33m\u001b[0m\u001b[0m\n\u001b[0m",
      "\u001b[1;31mAttributeError\u001b[0m: 'DataFrame' object has no attribute 'explore'"
     ]
    }
   ],
   "source": [
    "# Create a folium Map\n",
    "map = folium.Map(location=(y_mean, x_mean), titles='CartoDB Positron', zoom_start=16)\n",
    "\n",
    "# Add 'W' layer to the map\n",
    "df_consumer.loc[:, ['geometry', 'W']].explore(\n",
    "    column='W',\n",
    "    cmap='autumn_r',\n",
    "    legend=False,\n",
    "    vmin=df_consumer['W'].quantile(.025),\n",
    "    vmax=df_consumer['W'].quantile(.975),\n",
    "    style_kwds={'style_function': lambda x: {'radius': min(max(x['properties']['W'] * facRadius, minRadius), maxRadius)}},\n",
    "    name='W',\n",
    "    show=False,\n",
    "    m=map\n",
    ")\n",
    "\n",
    "# Add 'W' HeatMap layer to the map\n",
    "#HeatMap(heatMapDataW, name='Heat Map von W', radius=10, blur=5, base=True).add_to(map)\n",
    "\n",
    "# Add 'DI' layer to the map\n",
    "df_pipes[(df_pipes['KVR'].isin([1., None])) & (df_pipes['DI'] != 994)].loc[:, ['geometry', 'DI']].explore(\n",
    "    column='DI',\n",
    "    cmap='gray',\n",
    "    legend=True,\n",
    "    vmin = df_pipes.loc[df_pipes['DI'] != 994, 'DI'].quantile(.2),\n",
    "    vmax = 1.5 * df_pipes.loc[df_pipes['DI'] != 994, 'DI'].quantile(1),\n",
    "    style_kwds={'style_function': lambda x: {'radius': min(max(x['properties']['DI'] * facWidthinPixel1DN, minWidthinPixel), maxWidthinPixel)}},\n",
    "    name='DI',\n",
    "    m=map\n",
    ")\n",
    "\n",
    "# Add 'QMAVAbs' layer to the map\n",
    "df_pipes[df_pipes['KVR'].isin([1., None])].loc[:, ['geometry', 'QMAVAbs']].explore(\n",
    "    column='QMAVAbs',\n",
    "    cmap='cool',\n",
    "    legend=True,\n",
    "    vmin=df_pipes['QMAVAbs'].quantile(.2),\n",
    "    vmax=df_pipes['QMAVAbs'].quantile(.80),\n",
    "    style_kwds={'style_function': lambda x: {'weight': min(max(x['properties']['QMAVAbs'] * facWidthinPixelQMAVAbs, minWidthinPixel), maxWidthinPixel)}},\n",
    "    name='QMAVAbs',\n",
    "    m=map\n",
    ")\n",
    "\n",
    "# Add LayerControl to the map\n",
    "folium.LayerControl().add_to(map)"
   ]
  },
  {
   "cell_type": "markdown",
   "id": "cdde386d",
   "metadata": {},
   "source": [
    "We need GeoDataFrame not Dataframe, need to think about whether to do both creation in the same function or not and how to get crs."
   ]
  }
 ],
 "metadata": {
  "kernelspec": {
   "display_name": "base",
   "language": "python",
   "name": "python3"
  },
  "language_info": {
   "codemirror_mode": {
    "name": "ipython",
    "version": 3
   },
   "file_extension": ".py",
   "mimetype": "text/x-python",
   "name": "python",
   "nbconvert_exporter": "python",
   "pygments_lexer": "ipython3",
   "version": "3.11.8"
  }
 },
 "nbformat": 4,
 "nbformat_minor": 5
}
