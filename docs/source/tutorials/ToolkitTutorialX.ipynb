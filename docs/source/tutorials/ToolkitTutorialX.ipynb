{
 "cells": [
  {
   "cell_type": "markdown",
   "id": "5556432f",
   "metadata": {},
   "source": [
    "# Tutorial X: Template"
   ]
  },
  {
   "cell_type": "markdown",
   "id": "8899e69a",
   "metadata": {},
   "source": [
    "This Tutorial demonstrates how to ..."
   ]
  },
  {
   "cell_type": "markdown",
   "id": "e2d40c36",
   "metadata": {},
   "source": [
    "# Toolkit Release"
   ]
  },
  {
   "cell_type": "code",
   "execution_count": 16,
   "id": "7fb5a07b",
   "metadata": {},
   "outputs": [],
   "source": [
    "#pip install "
   ]
  },
  {
   "cell_type": "markdown",
   "id": "d6773e12",
   "metadata": {},
   "source": [
    "# Imports"
   ]
  },
  {
   "cell_type": "markdown",
   "id": "856ffe61",
   "metadata": {},
   "source": [
    "## DLL References"
   ]
  },
  {
   "cell_type": "markdown",
   "id": "0c29ae20",
   "metadata": {},
   "source": [
    "Many Toolkit commands require the input of a native SIR 3S data types. Those can be accessed via the Sir3S_Repository.Interfaces.dll. "
   ]
  },
  {
   "cell_type": "code",
   "execution_count": 17,
   "id": "1b609e22",
   "metadata": {},
   "outputs": [],
   "source": [
    "import clr as net"
   ]
  },
  {
   "cell_type": "code",
   "execution_count": 18,
   "id": "88dd45d9",
   "metadata": {},
   "outputs": [
    {
     "data": {
      "text/plain": [
       "<System.Reflection.RuntimeAssembly object at 0x00000246C84F1FC0>"
      ]
     },
     "execution_count": 18,
     "metadata": {},
     "output_type": "execute_result"
    }
   ],
   "source": [
    "net.AddReference(r\"C:\\3S\\SIR 3S Entwicklung\\SirGraf-90-15-00-06x64\\Sir3S_Repository.Interfaces.dll\") #change to local path if necessary"
   ]
  },
  {
   "cell_type": "code",
   "execution_count": 19,
   "id": "b631dff6",
   "metadata": {},
   "outputs": [],
   "source": [
    "import Sir3S_Repository.Interfaces as Interfaces"
   ]
  },
  {
   "cell_type": "markdown",
   "id": "4c73fc05",
   "metadata": {},
   "source": [
    "## PythonWrapperToolkit"
   ]
  },
  {
   "cell_type": "code",
   "execution_count": 20,
   "id": "4552a777",
   "metadata": {},
   "outputs": [],
   "source": [
    "import PythonWrapperToolkit"
   ]
  },
  {
   "cell_type": "markdown",
   "id": "0352dd43",
   "metadata": {},
   "source": [
    "# Initialization"
   ]
  },
  {
   "cell_type": "markdown",
   "id": "e14ffe06",
   "metadata": {},
   "source": [
    "Toolkit contains two classes: SIR3S_Model(model and data) and SIR3S_View(depiction in SIR Graf). All Toolkit functionality is accessed via the methods of these classes."
   ]
  },
  {
   "cell_type": "code",
   "execution_count": 21,
   "id": "7e40a5af",
   "metadata": {},
   "outputs": [
    {
     "name": "stdout",
     "output_type": "stream",
     "text": [
      "Initialization complete\n"
     ]
    }
   ],
   "source": [
    "s3s = PythonWrapperToolkit.SIR3S_Model()"
   ]
  },
  {
   "cell_type": "code",
   "execution_count": 22,
   "id": "3770c93f",
   "metadata": {},
   "outputs": [
    {
     "name": "stdout",
     "output_type": "stream",
     "text": [
      "Initialization complete\n"
     ]
    }
   ],
   "source": [
    "s3s_view = PythonWrapperToolkit.SIR3S_View()"
   ]
  },
  {
   "cell_type": "markdown",
   "id": "b21a7ab7",
   "metadata": {},
   "source": [
    "# Create New Model"
   ]
  },
  {
   "cell_type": "markdown",
   "id": "c837828c",
   "metadata": {},
   "source": [
    "We are using the NewModel() function of SIR3S_Model() to create a new db3 file."
   ]
  },
  {
   "cell_type": "code",
   "execution_count": 23,
   "id": "28f84fbf",
   "metadata": {},
   "outputs": [],
   "source": [
    "dbFilePath=r\"C:\\Users\\jablonski\\3S\\Scrap\\Tutorial2_NewModel.db3\""
   ]
  },
  {
   "cell_type": "code",
   "execution_count": null,
   "id": "de952a07",
   "metadata": {},
   "outputs": [
    {
     "name": "stdout",
     "output_type": "stream",
     "text": [
      "New model is created with the model identifier: M-1-0-1\n"
     ]
    }
   ],
   "source": [
    "s3s.NewModel(dbName=dbFilePath,\n",
    "                           providerType=Interfaces.SirDBProviderType.SQLite, \n",
    "                           namedInstance=\"\", \n",
    "                           netType=Interfaces.NetworkType.DistrictHeating,\n",
    "                           modelDescription=\"Tutorial New Model\",\n",
    "                           userID=\"\", \n",
    "                           password=\"\")"
   ]
  },
  {
   "cell_type": "markdown",
   "id": "b9b93bdc",
   "metadata": {},
   "source": [
    "Now the Model has been created and is opened. All Toolkit commands now apply to this model until another one is opened."
   ]
  },
  {
   "cell_type": "code",
   "execution_count": 32,
   "id": "4de889e5",
   "metadata": {},
   "outputs": [
    {
     "name": "stdout",
     "output_type": "stream",
     "text": [
      "Undefined\n"
     ]
    }
   ],
   "source": [
    "print(s3s.GetNetworkType()) # to check that the model is responsive"
   ]
  },
  {
   "cell_type": "markdown",
   "id": "34309a14",
   "metadata": {},
   "source": [
    "# Open Model"
   ]
  },
  {
   "cell_type": "code",
   "execution_count": 33,
   "id": "0918738e",
   "metadata": {},
   "outputs": [],
   "source": [
    "dbFilePath=r\"C:\\Users\\jablonski\\3S\\Scrap\\Tutorial2_OpenModel.db3\""
   ]
  },
  {
   "cell_type": "code",
   "execution_count": 34,
   "id": "e984b61e",
   "metadata": {},
   "outputs": [
    {
     "name": "stdout",
     "output_type": "stream",
     "text": [
      "Model is open for further operation\n"
     ]
    }
   ],
   "source": [
    "s3s.OpenModel(dbName=dbFilePath, \n",
    "                            providerType=Interfaces.SirDBProviderType.SQLite, \n",
    "                            Mid=\"M-1-0-1\", \n",
    "                            saveCurrentlyOpenModel=False, \n",
    "                            namedInstance=\"\", \n",
    "                            userID=\"\", \n",
    "                            password=\"\")"
   ]
  },
  {
   "cell_type": "markdown",
   "id": "e2490549",
   "metadata": {},
   "source": [
    "Now the Model has been opened the previous one was close without saving it. All Toolkit commands now apply to this model until another one is opened."
   ]
  },
  {
   "cell_type": "code",
   "execution_count": null,
   "id": "8e3adb92",
   "metadata": {},
   "outputs": [
    {
     "name": "stdout",
     "output_type": "stream",
     "text": [
      "DistrictHeating\n"
     ]
    }
   ],
   "source": [
    "print(s3s.GetNetworkType()) # to check that the correct model is responsive"
   ]
  }
 ],
 "metadata": {
  "kernelspec": {
   "display_name": "base",
   "language": "python",
   "name": "python3"
  },
  "language_info": {
   "codemirror_mode": {
    "name": "ipython",
    "version": 3
   },
   "file_extension": ".py",
   "mimetype": "text/x-python",
   "name": "python",
   "nbconvert_exporter": "python",
   "pygments_lexer": "ipython3",
   "version": "3.11.8"
  }
 },
 "nbformat": 4,
 "nbformat_minor": 5
}
