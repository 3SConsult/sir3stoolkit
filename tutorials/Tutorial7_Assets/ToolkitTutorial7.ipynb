{
 "cells": [
  {
   "cell_type": "markdown",
   "id": "5556432f",
   "metadata": {},
   "source": [
    "# WORK IN PROGRESS"
   ]
  },
  {
   "cell_type": "markdown",
   "id": "558c4be7",
   "metadata": {},
   "source": [
    "# Tutorial 7: Miscellaneous"
   ]
  },
  {
   "cell_type": "markdown",
   "id": "8899e69a",
   "metadata": {},
   "source": [
    "This Tutorial demonstrates miscellaneaous funcions of the SIR3S_Model() class that cannot be assigned to one of the previous Tutorial topics."
   ]
  },
  {
   "cell_type": "markdown",
   "id": "a271e499-a4e8-4cf5-a510-7008fc501fa9",
   "metadata": {},
   "source": [
    "## SIR 3S Installation"
   ]
  },
  {
   "cell_type": "code",
   "execution_count": 1,
   "id": "9241d47b-641e-4c68-b8f8-adad4806d086",
   "metadata": {},
   "outputs": [],
   "source": [
    "SIR3S_SIRGRAF_DIR = r\"C:\\3S\\SIR 3S Entwicklung\\SirGraf-90-15-00-16_Quebec_x64\" #change to local path"
   ]
  },
  {
   "cell_type": "markdown",
   "id": "7887be8d",
   "metadata": {},
   "source": [
    "## Imports"
   ]
  },
  {
   "cell_type": "markdown",
   "id": "bbfb80b5",
   "metadata": {},
   "source": [
    "Note: The SIR 3S Toolkit requires the Sir3S_Toolkit.dll included in SIR 3S installations (version Quebec and higher)."
   ]
  },
  {
   "cell_type": "code",
   "execution_count": 2,
   "id": "48372080",
   "metadata": {},
   "outputs": [],
   "source": [
    "import sir3stoolkit"
   ]
  },
  {
   "cell_type": "markdown",
   "id": "e12d61e9",
   "metadata": {},
   "source": [
    "The core of sir3stoolkit is a Python wrapper around basic functionality of SIR 3S, offering a low-level access to the creation, modification and simulation of SIR 3S models. In the future pure python subpackages may be added."
   ]
  },
  {
   "cell_type": "code",
   "execution_count": 3,
   "id": "f1baf699",
   "metadata": {},
   "outputs": [],
   "source": [
    "from sir3stoolkit.core import wrapper"
   ]
  },
  {
   "cell_type": "code",
   "execution_count": 4,
   "id": "89da1276",
   "metadata": {},
   "outputs": [
    {
     "data": {
      "text/plain": [
       "<module 'sir3stoolkit' from 'C:\\\\Users\\\\aUsername\\\\3S\\\\sir3stoolkit\\\\src\\\\sir3stoolkit\\\\__init__.py'>"
      ]
     },
     "execution_count": 4,
     "metadata": {},
     "output_type": "execute_result"
    }
   ],
   "source": [
    "sir3stoolkit"
   ]
  },
  {
   "cell_type": "markdown",
   "id": "6d982834",
   "metadata": {},
   "source": [
    "The [wrapper package](https://3sconsult.github.io/sir3stoolkit/references/sir3stoolkit.core.html#sir3stoolkit.core.wrapper.Initialize_Toolkit) has to be initialized with reference to a SIR 3S (SirGraf) installation."
   ]
  },
  {
   "cell_type": "code",
   "execution_count": 5,
   "id": "817b0ebf",
   "metadata": {},
   "outputs": [],
   "source": [
    "wrapper.Initialize_Toolkit(SIR3S_SIRGRAF_DIR)"
   ]
  },
  {
   "cell_type": "markdown",
   "id": "0352dd43",
   "metadata": {},
   "source": [
    "## Initialization"
   ]
  },
  {
   "cell_type": "markdown",
   "id": "e14ffe06",
   "metadata": {},
   "source": [
    "The SIR 3S Toolkit contains two classes: [SIR3S_Model](https://3sconsult.github.io/sir3stoolkit/references/sir3stoolkit.core.html#sir3stoolkit.core.wrapper.SIR3S_Model) (model and data) and [SIR3S_View](https://3sconsult.github.io/sir3stoolkit/references/sir3stoolkit.core.html#sir3stoolkit.core.wrapper.SIR3S_View) (depiction in SIR Graf). All SIR 3S Toolkit functionality is accessed via the methods of these classes."
   ]
  },
  {
   "cell_type": "code",
   "execution_count": 6,
   "id": "7e40a5af",
   "metadata": {},
   "outputs": [
    {
     "name": "stdout",
     "output_type": "stream",
     "text": [
      "Initialization complete\n"
     ]
    }
   ],
   "source": [
    "s3s = wrapper.SIR3S_Model()"
   ]
  },
  {
   "cell_type": "code",
   "execution_count": 7,
   "id": "3770c93f",
   "metadata": {},
   "outputs": [
    {
     "name": "stdout",
     "output_type": "stream",
     "text": [
      "Initialization complete\n"
     ]
    }
   ],
   "source": [
    "s3s_view = wrapper.SIR3S_View()"
   ]
  },
  {
   "cell_type": "markdown",
   "id": "34309a14",
   "metadata": {},
   "source": [
    "## Open Model"
   ]
  },
  {
   "cell_type": "code",
   "execution_count": 8,
   "id": "0918738e",
   "metadata": {},
   "outputs": [],
   "source": [
    "dbFilePath=r\"Toolkit_Tutorial7_Model.db3\""
   ]
  },
  {
   "cell_type": "code",
   "execution_count": 9,
   "id": "e984b61e",
   "metadata": {},
   "outputs": [
    {
     "name": "stdout",
     "output_type": "stream",
     "text": [
      "Model is open for further operation\n"
     ]
    }
   ],
   "source": [
    "s3s.OpenModel(dbName=dbFilePath, \n",
    "              providerType=s3s.ProviderTypes.SQLite, \n",
    "              Mid=\"M-1-0-1\", \n",
    "              saveCurrentlyOpenModel=False, \n",
    "              namedInstance=\"\", \n",
    "              userID=\"\", \n",
    "              password=\"\")"
   ]
  },
  {
   "cell_type": "markdown",
   "id": "e2490549",
   "metadata": {},
   "source": [
    "Now the model has been opened and the previous one has been closed without saving it. All SIR 3S Toolkit commands now apply to this model until another one is opened."
   ]
  },
  {
   "cell_type": "code",
   "execution_count": 10,
   "id": "8e3adb92",
   "metadata": {},
   "outputs": [
    {
     "name": "stdout",
     "output_type": "stream",
     "text": [
      "NetworkType.DistrictHeating\n"
     ]
    }
   ],
   "source": [
    "print(s3s.GetNetworkType()) # to check that the model is responsive"
   ]
  },
  {
   "cell_type": "markdown",
   "id": "13b01e64",
   "metadata": {},
   "source": [
    "# Tables"
   ]
  },
  {
   "cell_type": "markdown",
   "id": "f82b025a",
   "metadata": {},
   "source": [
    "## GetTableRows()"
   ]
  },
  {
   "cell_type": "markdown",
   "id": "57658e32",
   "metadata": {},
   "source": [
    "We can use the [GetTableRows()](https://3sconsult.github.io/sir3stoolkit/references/sir3stoolkit.core.html#sir3stoolkit.core.wrapper.SIR3S_Model.GetTableRows) function ..."
   ]
  },
  {
   "cell_type": "code",
   "execution_count": 35,
   "id": "33dd8a3a",
   "metadata": {},
   "outputs": [],
   "source": [
    "rows=s3s.GetTableRows(tablePkTk=\"5207173582970272729\")"
   ]
  },
  {
   "cell_type": "code",
   "execution_count": 36,
   "id": "eea93e09",
   "metadata": {},
   "outputs": [],
   "source": [
    "column_names = list(rows[0])  "
   ]
  },
  {
   "cell_type": "code",
   "execution_count": 37,
   "id": "79e976e6",
   "metadata": {},
   "outputs": [],
   "source": [
    "data_row = rows[1]"
   ]
  },
  {
   "cell_type": "code",
   "execution_count": 38,
   "id": "f0c9fde6",
   "metadata": {},
   "outputs": [],
   "source": [
    "result = (column_names, data_row)"
   ]
  },
  {
   "cell_type": "code",
   "execution_count": 39,
   "id": "5c758173",
   "metadata": {},
   "outputs": [
    {
     "data": {
      "text/plain": [
       "(['5297765239286495285',\n",
       "  '5505405016038766837',\n",
       "  '5657435971461916784',\n",
       "  '4731961744650959242',\n",
       "  '4654778941431515587',\n",
       "  '4972106905750615640',\n",
       "  '5306467440979393171',\n",
       "  '5601428605019135559',\n",
       "  '4688972552604402319',\n",
       "  '5566973724189050747',\n",
       "  '4800688165183110551',\n",
       "  '5759402558880615483',\n",
       "  '5747406601278383726',\n",
       "  '4955753481431579638',\n",
       "  '4767993928193269478',\n",
       "  '5578432997313514963',\n",
       "  '4900931631562346599',\n",
       "  '4927707872220944575',\n",
       "  '5519887127081422895',\n",
       "  '4962453701239067026'],\n",
       " <ObjectTypes.PipeTable_Row: 68>)"
      ]
     },
     "execution_count": 39,
     "metadata": {},
     "output_type": "execute_result"
    }
   ],
   "source": [
    "result"
   ]
  },
  {
   "cell_type": "markdown",
   "id": "c6b7fa25",
   "metadata": {},
   "source": [
    "## AddTableRows()"
   ]
  },
  {
   "cell_type": "markdown",
   "id": "8283d261",
   "metadata": {},
   "source": [
    "We can use the [AddTableRows()](https://3sconsult.github.io/sir3stoolkit/references/sir3stoolkit.core.html#sir3stoolkit.core.wrapper.SIR3S_Model.AddTableRow) function ..."
   ]
  },
  {
   "cell_type": "code",
   "execution_count": null,
   "id": "5bdec3c0",
   "metadata": {},
   "outputs": [],
   "source": []
  },
  {
   "cell_type": "code",
   "execution_count": null,
   "id": "b3d082dd",
   "metadata": {},
   "outputs": [],
   "source": []
  },
  {
   "cell_type": "code",
   "execution_count": null,
   "id": "dceee907",
   "metadata": {},
   "outputs": [],
   "source": []
  },
  {
   "cell_type": "code",
   "execution_count": null,
   "id": "04293582",
   "metadata": {},
   "outputs": [],
   "source": []
  },
  {
   "cell_type": "markdown",
   "id": "d08444fe",
   "metadata": {},
   "source": [
    "## EnableOrDisableOutputComments()"
   ]
  },
  {
   "cell_type": "markdown",
   "id": "c7aff6c4",
   "metadata": {},
   "source": [
    "We can use the function [EnableOrDisableOutputComments()](https://3sconsult.github.io/sir3stoolkit/references/sir3stoolkit.core.html#sir3stoolkit.core.wrapper.SIR3S_Model.EnableOrDisableOutputComments) to turn output comments on or off. Default is True."
   ]
  },
  {
   "cell_type": "code",
   "execution_count": 11,
   "id": "292cbed0",
   "metadata": {},
   "outputs": [],
   "source": [
    "s3s.EnableOrDisableOutputComments(outputComments=True)"
   ]
  },
  {
   "cell_type": "code",
   "execution_count": 12,
   "id": "78d1923b",
   "metadata": {},
   "outputs": [
    {
     "name": "stdout",
     "output_type": "stream",
     "text": [
      "Element inserted successfully into the model with Tk: 5709290878034830258\n",
      "5709290878034830258\n"
     ]
    }
   ],
   "source": [
    "print(s3s.InsertElement(s3s.ObjectTypes.Node, \"-1\"))"
   ]
  },
  {
   "cell_type": "code",
   "execution_count": 13,
   "id": "cc901d57",
   "metadata": {},
   "outputs": [],
   "source": [
    "s3s.EnableOrDisableOutputComments(outputComments=False)"
   ]
  },
  {
   "cell_type": "code",
   "execution_count": 14,
   "id": "d3cb83bc",
   "metadata": {},
   "outputs": [
    {
     "name": "stdout",
     "output_type": "stream",
     "text": [
      "5278629219424807412\n"
     ]
    }
   ],
   "source": [
    "print(s3s.InsertElement(s3s.ObjectTypes.Node, \"-1\"))"
   ]
  },
  {
   "cell_type": "markdown",
   "id": "31e744e2",
   "metadata": {},
   "source": [
    "As you can see, after the output comments were disabled the function does not print an output. The printed tk is the return value of the function that is displayed in Jupyter Notebooks."
   ]
  },
  {
   "cell_type": "code",
   "execution_count": 15,
   "id": "a943a8a2",
   "metadata": {},
   "outputs": [],
   "source": [
    "s3s.EnableOrDisableOutputComments(outputComments=True)"
   ]
  },
  {
   "cell_type": "code",
   "execution_count": 16,
   "id": "1aa56b0e",
   "metadata": {},
   "outputs": [
    {
     "ename": "ZeroDivisionError",
     "evalue": "division by zero",
     "output_type": "error",
     "traceback": [
      "\u001b[1;31m---------------------------------------------------------------------------\u001b[0m",
      "\u001b[1;31mZeroDivisionError\u001b[0m                         Traceback (most recent call last)",
      "Cell \u001b[1;32mIn[16], line 1\u001b[0m\n\u001b[1;32m----> 1\u001b[0m \u001b[38;5;241m1\u001b[39m\u001b[38;5;241m/\u001b[39m\u001b[38;5;241m0\u001b[39m\n",
      "\u001b[1;31mZeroDivisionError\u001b[0m: division by zero"
     ]
    }
   ],
   "source": [
    "1/0"
   ]
  },
  {
   "cell_type": "markdown",
   "id": "295abfa0",
   "metadata": {},
   "source": [
    "## AllowSirMessageBox()"
   ]
  },
  {
   "cell_type": "markdown",
   "id": "8815c86f",
   "metadata": {},
   "source": [
    "We can use the function [AllowSirMessageBox()](https://3sconsult.github.io/sir3stoolkit/references/sir3stoolkit.core.html#sir3stoolkit.core.wrapper.SIR3S_Model.AllowSirMessageBox) to allow or diallow SIR DB Messages to pop up. Default is True."
   ]
  },
  {
   "cell_type": "code",
   "execution_count": null,
   "id": "71684fb3",
   "metadata": {},
   "outputs": [],
   "source": [
    "s3s.AllowSirMessageBox(bAllow=True)"
   ]
  },
  {
   "cell_type": "code",
   "execution_count": null,
   "id": "4bf17754",
   "metadata": {},
   "outputs": [],
   "source": [
    "dbFilePath2=r\"Toolkit_Tutorial7_PotsdamVersionModel.db3\""
   ]
  },
  {
   "cell_type": "markdown",
   "id": "4e5cdeb8",
   "metadata": {},
   "source": [
    "We will try to open a model created in Potsdam Version of SIR 3S. A message window should pop up that asks whether you want the model to be migrated to your current SIR 3S version. Please choose to not migrate. The cell will fail to execute."
   ]
  },
  {
   "cell_type": "code",
   "execution_count": null,
   "id": "2abe89ed",
   "metadata": {},
   "outputs": [
    {
     "ename": "SQLiteException",
     "evalue": "code = Error (1), message = System.Data.SQLite.SQLiteException (0x800007BF): SQL logic error\r\nno such table: USCH\r\n   bei System.Data.SQLite.SQLite3.Prepare(SQLiteConnection cnn, String strSql, SQLiteStatement previous, UInt32 timeoutMS, String& strRemain)\r\n   bei System.Data.SQLite.SQLiteCommand.BuildNextCommand()\r\n   bei System.Data.SQLite.SQLiteDataReader.NextResult()\r\n   bei System.Data.SQLite.SQLiteDataReader..ctor(SQLiteCommand cmd, CommandBehavior behave)\r\n   bei System.Data.SQLite.SQLiteCommand.ExecuteReader(CommandBehavior behavior)\r\n   bei System.Data.Common.DbDataAdapter.FillInternal(DataSet dataset, DataTable[] datatables, Int32 startRecord, Int32 maxRecords, String srcTable, IDbCommand command, CommandBehavior behavior)\r\n   bei System.Data.Common.DbDataAdapter.Fill(DataSet dataSet, Int32 startRecord, Int32 maxRecords, String srcTable, IDbCommand command, CommandBehavior behavior)\r\n   bei System.Data.Common.DbDataAdapter.Fill(DataSet dataSet, String srcTable)\r\n   bei Sir3S_Repository.DataBaseModel.CDbTableTypeA.FillDataSet(DbDataAdapter dbDataAdapter, String fkBa, String fkVa, String fkBz, Int32& iTables)\r\n   bei Sir3S_Repository.DataBaseModel.CDataBase.FillDataSet(DbDataAdapter dbDataAdapter, IModel iModel)\r\n   bei Sir3S_Repository.DataSetModel.CModelDs.Open(IModel iModel, Boolean& modelWasInUse)\r\n   bei Sir3S_Repository.ModelManager.CModelManagerModelListEvents.OpenModel(IDialog iDialog, IModelInfo iModelInfo, Boolean& modelWasInUse)\r\n   bei Sir3S_Repository.ModelManager.CModelManager.OpenModel(IModel Model, Boolean& modelWasInUse)\r\n   bei Sir3S_Toolkit.Model.CSir3SToolkitModel.OpenModel(String dbName, SirDBProviderType providerType, String Mid, Boolean saveCurrentlyOpenModel, String namedInstance, String userID, String password, String& error)",
     "output_type": "error",
     "traceback": [
      "\u001b[1;31m---------------------------------------------------------------------------\u001b[0m",
      "\u001b[1;31mSQLiteException\u001b[0m                           Traceback (most recent call last)",
      "Cell \u001b[1;32mIn[17], line 1\u001b[0m\n\u001b[1;32m----> 1\u001b[0m s3s\u001b[38;5;241m.\u001b[39mOpenModel(dbName\u001b[38;5;241m=\u001b[39mdbFilePath2,\n\u001b[0;32m      2\u001b[0m               providerType\u001b[38;5;241m=\u001b[39ms3s\u001b[38;5;241m.\u001b[39mProviderTypes\u001b[38;5;241m.\u001b[39mSQLite,\n\u001b[0;32m      3\u001b[0m               Mid\u001b[38;5;241m=\u001b[39m\u001b[38;5;124m\"\u001b[39m\u001b[38;5;124mM-1-0-1\u001b[39m\u001b[38;5;124m\"\u001b[39m,\n\u001b[0;32m      4\u001b[0m               saveCurrentlyOpenModel\u001b[38;5;241m=\u001b[39m\u001b[38;5;28;01mFalse\u001b[39;00m,\n\u001b[0;32m      5\u001b[0m               namedInstance\u001b[38;5;241m=\u001b[39m\u001b[38;5;124m\"\u001b[39m\u001b[38;5;124m\"\u001b[39m,\n\u001b[0;32m      6\u001b[0m               userID\u001b[38;5;241m=\u001b[39m\u001b[38;5;124m\"\u001b[39m\u001b[38;5;124m\"\u001b[39m,\n\u001b[0;32m      7\u001b[0m               password\u001b[38;5;241m=\u001b[39m\u001b[38;5;124m\"\u001b[39m\u001b[38;5;124m\"\u001b[39m)\n",
      "File \u001b[1;32m~\\3S\\sir3stoolkit\\src\\sir3stoolkit\\core\\wrapper.py:363\u001b[0m, in \u001b[0;36mSIR3S_Model.OpenModel\u001b[1;34m(self, dbName, providerType, Mid, saveCurrentlyOpenModel, namedInstance, userID, password)\u001b[0m\n\u001b[0;32m    339\u001b[0m \u001b[38;5;250m\u001b[39m\u001b[38;5;124;03m\"\"\"\u001b[39;00m\n\u001b[0;32m    340\u001b[0m \u001b[38;5;124;03mOpens a model from a database file.\u001b[39;00m\n\u001b[0;32m    341\u001b[0m \n\u001b[1;32m   (...)\u001b[0m\n\u001b[0;32m    360\u001b[0m \u001b[38;5;124;03m:description: This is a wrapper method for OpenModel() from toolkit; Watch out for errors for more information.\u001b[39;00m\n\u001b[0;32m    361\u001b[0m \u001b[38;5;124;03m\"\"\"\u001b[39;00m\n\u001b[0;32m    362\u001b[0m providerType_net \u001b[38;5;241m=\u001b[39m \u001b[38;5;28mself\u001b[39m\u001b[38;5;241m.\u001b[39mto_dotnet_enum(providerType, \u001b[38;5;28mself\u001b[39m\u001b[38;5;241m.\u001b[39mProviderTypes)\n\u001b[1;32m--> 363\u001b[0m result, error \u001b[38;5;241m=\u001b[39m \u001b[38;5;28mself\u001b[39m\u001b[38;5;241m.\u001b[39mtoolkit\u001b[38;5;241m.\u001b[39mOpenModel(dbName, providerType_net, Mid, saveCurrentlyOpenModel,\n\u001b[0;32m    364\u001b[0m                                        namedInstance, userID, password)\n\u001b[0;32m    365\u001b[0m \u001b[38;5;28;01mif\u001b[39;00m result:\n\u001b[0;32m    366\u001b[0m     \u001b[38;5;28;01mif\u001b[39;00m \u001b[38;5;28mself\u001b[39m\u001b[38;5;241m.\u001b[39moutputComments:\n",
      "\u001b[1;31mSQLiteException\u001b[0m: code = Error (1), message = System.Data.SQLite.SQLiteException (0x800007BF): SQL logic error\r\nno such table: USCH\r\n   bei System.Data.SQLite.SQLite3.Prepare(SQLiteConnection cnn, String strSql, SQLiteStatement previous, UInt32 timeoutMS, String& strRemain)\r\n   bei System.Data.SQLite.SQLiteCommand.BuildNextCommand()\r\n   bei System.Data.SQLite.SQLiteDataReader.NextResult()\r\n   bei System.Data.SQLite.SQLiteDataReader..ctor(SQLiteCommand cmd, CommandBehavior behave)\r\n   bei System.Data.SQLite.SQLiteCommand.ExecuteReader(CommandBehavior behavior)\r\n   bei System.Data.Common.DbDataAdapter.FillInternal(DataSet dataset, DataTable[] datatables, Int32 startRecord, Int32 maxRecords, String srcTable, IDbCommand command, CommandBehavior behavior)\r\n   bei System.Data.Common.DbDataAdapter.Fill(DataSet dataSet, Int32 startRecord, Int32 maxRecords, String srcTable, IDbCommand command, CommandBehavior behavior)\r\n   bei System.Data.Common.DbDataAdapter.Fill(DataSet dataSet, String srcTable)\r\n   bei Sir3S_Repository.DataBaseModel.CDbTableTypeA.FillDataSet(DbDataAdapter dbDataAdapter, String fkBa, String fkVa, String fkBz, Int32& iTables)\r\n   bei Sir3S_Repository.DataBaseModel.CDataBase.FillDataSet(DbDataAdapter dbDataAdapter, IModel iModel)\r\n   bei Sir3S_Repository.DataSetModel.CModelDs.Open(IModel iModel, Boolean& modelWasInUse)\r\n   bei Sir3S_Repository.ModelManager.CModelManagerModelListEvents.OpenModel(IDialog iDialog, IModelInfo iModelInfo, Boolean& modelWasInUse)\r\n   bei Sir3S_Repository.ModelManager.CModelManager.OpenModel(IModel Model, Boolean& modelWasInUse)\r\n   bei Sir3S_Toolkit.Model.CSir3SToolkitModel.OpenModel(String dbName, SirDBProviderType providerType, String Mid, Boolean saveCurrentlyOpenModel, String namedInstance, String userID, String password, String& error)"
     ]
    }
   ],
   "source": [
    "s3s.OpenModel(dbName=dbFilePath2,\n",
    "              providerType=s3s.ProviderTypes.SQLite,\n",
    "              Mid=\"M-1-0-1\",\n",
    "              saveCurrentlyOpenModel=False,\n",
    "              namedInstance=\"\",\n",
    "              userID=\"\",\n",
    "              password=\"\")"
   ]
  },
  {
   "cell_type": "markdown",
   "id": "efbbb21b",
   "metadata": {},
   "source": [
    "Now we will attempt the same but with message boxes turned off."
   ]
  },
  {
   "cell_type": "code",
   "execution_count": null,
   "id": "1bd52eff",
   "metadata": {},
   "outputs": [],
   "source": [
    "s3s.AllowSirMessageBox(bAllow=False)"
   ]
  },
  {
   "cell_type": "code",
   "execution_count": null,
   "id": "105e433d",
   "metadata": {},
   "outputs": [],
   "source": [
    "s3s.OpenModel(dbName=dbFilePath2,\n",
    "              providerType=s3s.ProviderTypes.SQLite,\n",
    "              Mid=\"M-1-0-1\",\n",
    "              saveCurrentlyOpenModel=False,\n",
    "              namedInstance=\"\",\n",
    "              userID=\"\",\n",
    "              password=\"\")"
   ]
  },
  {
   "cell_type": "markdown",
   "id": "fd7ed537",
   "metadata": {},
   "source": [
    "As you can see in your file explorer this time the model was migrated without asking. In general during model creation/opening the message boxes should be left on. "
   ]
  },
  {
   "cell_type": "markdown",
   "id": "6fb4de39-a405-4741-92ae-4613320b93f4",
   "metadata": {},
   "source": [
    "__...__"
   ]
  }
 ],
 "metadata": {
  "kernelspec": {
   "display_name": "base",
   "language": "python",
   "name": "python3"
  },
  "language_info": {
   "codemirror_mode": {
    "name": "ipython",
    "version": 3
   },
   "file_extension": ".py",
   "mimetype": "text/x-python",
   "name": "python",
   "nbconvert_exporter": "python",
   "pygments_lexer": "ipython3",
   "version": "3.11.8"
  }
 },
 "nbformat": 4,
 "nbformat_minor": 5
}
