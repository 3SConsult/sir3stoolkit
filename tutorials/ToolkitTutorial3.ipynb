{
 "cells": [
  {
   "cell_type": "markdown",
   "id": "5556432f",
   "metadata": {},
   "source": [
    "# Tutorial 3: Getting and Setting Values"
   ]
  },
  {
   "cell_type": "markdown",
   "id": "8899e69a",
   "metadata": {},
   "source": [
    "This Tutorial demonstrates how to get and set values of object based on their tk."
   ]
  },
  {
   "cell_type": "markdown",
   "id": "aa6fc9ab",
   "metadata": {},
   "source": [
    "# Toolkit Release"
   ]
  },
  {
   "cell_type": "code",
   "execution_count": 15,
   "id": "044539c5",
   "metadata": {},
   "outputs": [],
   "source": [
    "#pip install sir3stoolkit"
   ]
  },
  {
   "cell_type": "markdown",
   "id": "2ec45128",
   "metadata": {},
   "source": [
    "# Imports"
   ]
  },
  {
   "cell_type": "markdown",
   "id": "5ae3d26b",
   "metadata": {},
   "source": [
    "The Toolkit requires the Sir3S_Toolkit.dll included in SIR 3S installations (from Quebec and Up). Furthermore the Sir3S_Repository.Interfaces.dll is required to input native SIR 3S datatypes into some Toolkit functions."
   ]
  },
  {
   "cell_type": "code",
   "execution_count": 16,
   "id": "f91c11de",
   "metadata": {},
   "outputs": [],
   "source": [
    "import clr as clr"
   ]
  },
  {
   "cell_type": "code",
   "execution_count": 17,
   "id": "c53876e7",
   "metadata": {},
   "outputs": [],
   "source": [
    "SIR3S_SIRGRAF_DIR = r\"C:\\3S\\SIR 3S Entwicklung\\SirGraf-90-15-00-11_Quebec_x64\""
   ]
  },
  {
   "cell_type": "code",
   "execution_count": 18,
   "id": "115b8015",
   "metadata": {},
   "outputs": [],
   "source": [
    "clr.AddReference(SIR3S_SIRGRAF_DIR+r\"\\Sir3S_Repository.Interfaces\")\n",
    "import Sir3S_Repository.Interfaces as Interfaces"
   ]
  },
  {
   "cell_type": "code",
   "execution_count": 19,
   "id": "b5e997d5",
   "metadata": {},
   "outputs": [],
   "source": [
    "clr.AddReference(SIR3S_SIRGRAF_DIR+r\"\\Sir3S_Toolkit\")\n",
    "import Sir3S_Toolkit"
   ]
  },
  {
   "cell_type": "markdown",
   "id": "1bac2bff",
   "metadata": {},
   "source": [
    "## PythonWrapperToolkit"
   ]
  },
  {
   "cell_type": "code",
   "execution_count": 20,
   "id": "3ea16e3d",
   "metadata": {},
   "outputs": [],
   "source": [
    "import sir3stoolkit"
   ]
  },
  {
   "cell_type": "markdown",
   "id": "5fb318de",
   "metadata": {},
   "source": [
    "The core of sir3stoolkit is a Python Wrapper around C#, that can be used to read, write, etc. to a SIR 3S Model. In the future pure python subpackages may be added."
   ]
  },
  {
   "cell_type": "code",
   "execution_count": 21,
   "id": "e1cad8f6",
   "metadata": {},
   "outputs": [],
   "source": [
    "from sir3stoolkit.core import wrapper"
   ]
  },
  {
   "cell_type": "code",
   "execution_count": 22,
   "id": "ee9b4080",
   "metadata": {},
   "outputs": [
    {
     "data": {
      "text/plain": [
       "<module 'sir3stoolkit' from 'c:\\\\Users\\\\jablonski\\\\AppData\\\\Local\\\\anaconda3\\\\Lib\\\\site-packages\\\\sir3stoolkit\\\\__init__.py'>"
      ]
     },
     "execution_count": 22,
     "metadata": {},
     "output_type": "execute_result"
    }
   ],
   "source": [
    "sir3stoolkit"
   ]
  },
  {
   "cell_type": "markdown",
   "id": "e3acc1e7",
   "metadata": {},
   "source": [
    "An instance of the wrapper package has to be created with reference to a SIR Graf installation."
   ]
  },
  {
   "cell_type": "code",
   "execution_count": 23,
   "id": "3d4e829d",
   "metadata": {},
   "outputs": [],
   "source": [
    "wrapper.Initialize_Toolkit(SIR3S_SIRGRAF_DIR)"
   ]
  },
  {
   "cell_type": "markdown",
   "id": "37f67f8f",
   "metadata": {},
   "source": [
    "# Initialization"
   ]
  },
  {
   "cell_type": "markdown",
   "id": "49b21e98",
   "metadata": {},
   "source": [
    "Toolkit contains two classes: SIR3S_Model(model and data) and SIR3S_View(depiction in SIR Graf). All Toolkit functionality is accessed via the methods of these classes."
   ]
  },
  {
   "cell_type": "code",
   "execution_count": 24,
   "id": "a6ffe9da",
   "metadata": {},
   "outputs": [
    {
     "name": "stdout",
     "output_type": "stream",
     "text": [
      "Initialization complete\n"
     ]
    }
   ],
   "source": [
    "s3s = wrapper.SIR3S_Model()"
   ]
  },
  {
   "cell_type": "code",
   "execution_count": 25,
   "id": "4d9d92b5",
   "metadata": {},
   "outputs": [
    {
     "name": "stdout",
     "output_type": "stream",
     "text": [
      "Initialization complete\n"
     ]
    }
   ],
   "source": [
    "s3s_view = wrapper.SIR3S_View()"
   ]
  },
  {
   "cell_type": "markdown",
   "id": "b21a7ab7",
   "metadata": {},
   "source": [
    "# Create New Model"
   ]
  },
  {
   "cell_type": "markdown",
   "id": "c837828c",
   "metadata": {},
   "source": [
    "We are using the NewModel() function of SIR3S_Model() to create a new db3 file."
   ]
  },
  {
   "cell_type": "code",
   "execution_count": 26,
   "id": "28f84fbf",
   "metadata": {},
   "outputs": [],
   "source": [
    "dbFilePath=r\"Tutorial_3_NewModel\""
   ]
  },
  {
   "cell_type": "code",
   "execution_count": 27,
   "id": "6cc9584b",
   "metadata": {},
   "outputs": [
    {
     "name": "stdout",
     "output_type": "stream",
     "text": [
      "New model is created with the model identifier: M-1-0-1\n"
     ]
    }
   ],
   "source": [
    "s3s.NewModel(dbName=dbFilePath,\n",
    "                           providerType=Interfaces.SirDBProviderType.SQLite, \n",
    "                           namedInstance=\"\", \n",
    "                           netType=Interfaces.NetworkType.DistrictHeating,\n",
    "                           modelDescription=\"Tutorial New Model\",\n",
    "                           userID=\"\", \n",
    "                           password=\"\")"
   ]
  },
  {
   "cell_type": "code",
   "execution_count": 29,
   "id": "58fe4a13",
   "metadata": {},
   "outputs": [
    {
     "name": "stdout",
     "output_type": "stream",
     "text": [
      "Changes saved successfully\n"
     ]
    }
   ],
   "source": [
    "s3s.SaveChanges()"
   ]
  },
  {
   "cell_type": "markdown",
   "id": "d700646d",
   "metadata": {},
   "source": [
    "WORK IN PROGRESS"
   ]
  },
  {
   "cell_type": "code",
   "execution_count": 28,
   "id": "29ed359e",
   "metadata": {},
   "outputs": [
    {
     "ename": "ZeroDivisionError",
     "evalue": "division by zero",
     "output_type": "error",
     "traceback": [
      "\u001b[1;31m---------------------------------------------------------------------------\u001b[0m",
      "\u001b[1;31mZeroDivisionError\u001b[0m                         Traceback (most recent call last)",
      "Cell \u001b[1;32mIn[28], line 1\u001b[0m\n\u001b[1;32m----> 1\u001b[0m \u001b[38;5;241m1\u001b[39m\u001b[38;5;241m/\u001b[39m\u001b[38;5;241m0\u001b[39m\n",
      "\u001b[1;31mZeroDivisionError\u001b[0m: division by zero"
     ]
    }
   ],
   "source": [
    "1/0"
   ]
  },
  {
   "cell_type": "markdown",
   "id": "b9b93bdc",
   "metadata": {},
   "source": [
    "Now the Model has been created and is opened. All Toolkit commands now apply to this model until another one is opened."
   ]
  },
  {
   "cell_type": "code",
   "execution_count": null,
   "id": "4de889e5",
   "metadata": {},
   "outputs": [
    {
     "name": "stdout",
     "output_type": "stream",
     "text": [
      "DistrictHeating\n"
     ]
    }
   ],
   "source": [
    "print(s3s.GetNetworkType()) # to check that the model is responsive"
   ]
  },
  {
   "cell_type": "code",
   "execution_count": null,
   "id": "09df1d66",
   "metadata": {},
   "outputs": [
    {
     "name": "stdout",
     "output_type": "stream",
     "text": [
      "New node added\n"
     ]
    }
   ],
   "source": [
    "nodeA=s3s.AddNewNode(\"-1\", \"Node A\", \"PKON\", 0.0, 0.0, 0.0, 10.0, 5.0, \"Node A Description\", \"A\", 1)"
   ]
  },
  {
   "cell_type": "code",
   "execution_count": null,
   "id": "a555352f",
   "metadata": {},
   "outputs": [
    {
     "name": "stdout",
     "output_type": "stream",
     "text": [
      "New node added\n"
     ]
    }
   ],
   "source": [
    "nodeB=s3s.AddNewNode(\"-1\", \"Node B\", \"PKON\", 10.0, 10.0, 0.0, 5.0, 5.0, \"Node B Description\", \"B\", 1)"
   ]
  },
  {
   "cell_type": "code",
   "execution_count": null,
   "id": "7e5c94ec",
   "metadata": {},
   "outputs": [
    {
     "name": "stdout",
     "output_type": "stream",
     "text": [
      "New pipe added\n"
     ]
    },
    {
     "data": {
      "text/plain": [
       "'5104267775420185097'"
      ]
     },
     "execution_count": 28,
     "metadata": {},
     "output_type": "execute_result"
    }
   ],
   "source": [
    "s3s.AddNewPipe(\"-1\", nodeA, nodeB, 5.0, \"LINESTRING (120 76, 500 300, 620 480)\", \"ST\", \"50\", 3.0, \"Pipe from A to B\", \"AB\", 1)"
   ]
  },
  {
   "cell_type": "code",
   "execution_count": null,
   "id": "a3c26b64",
   "metadata": {},
   "outputs": [
    {
     "name": "stdout",
     "output_type": "stream",
     "text": [
      "Changes saved successfully\n"
     ]
    }
   ],
   "source": [
    "s3s.SaveChanges()"
   ]
  },
  {
   "cell_type": "code",
   "execution_count": null,
   "id": "bd5097e2",
   "metadata": {},
   "outputs": [
    {
     "ename": "ZeroDivisionError",
     "evalue": "division by zero",
     "output_type": "error",
     "traceback": [
      "\u001b[1;31m---------------------------------------------------------------------------\u001b[0m",
      "\u001b[1;31mZeroDivisionError\u001b[0m                         Traceback (most recent call last)",
      "Cell \u001b[1;32mIn[30], line 1\u001b[0m\n\u001b[1;32m----> 1\u001b[0m \u001b[38;5;241m1\u001b[39m\u001b[38;5;241m/\u001b[39m\u001b[38;5;241m0\u001b[39m\n",
      "\u001b[1;31mZeroDivisionError\u001b[0m: division by zero"
     ]
    }
   ],
   "source": [
    "1/0"
   ]
  },
  {
   "cell_type": "markdown",
   "id": "34309a14",
   "metadata": {},
   "source": [
    "# Open Model"
   ]
  },
  {
   "cell_type": "code",
   "execution_count": null,
   "id": "0918738e",
   "metadata": {},
   "outputs": [],
   "source": [
    "dbFilePath=r\"C:\\Users\\jablonski\\3S\\Scrap\\Tutorial3_Prep.db3\""
   ]
  },
  {
   "cell_type": "code",
   "execution_count": null,
   "id": "e984b61e",
   "metadata": {},
   "outputs": [
    {
     "name": "stdout",
     "output_type": "stream",
     "text": [
      "Model is open for further operation\n"
     ]
    }
   ],
   "source": [
    "s3s.OpenModel(dbName=dbFilePath, \n",
    "                            providerType=Interfaces.SirDBProviderType.SQLite, \n",
    "                            Mid=\"M-1-0-1\", \n",
    "                            saveCurrentlyOpenModel=False, \n",
    "                            namedInstance=\"\", \n",
    "                            userID=\"\", \n",
    "                            password=\"\")"
   ]
  },
  {
   "cell_type": "markdown",
   "id": "e2490549",
   "metadata": {},
   "source": [
    "Now the Model has been opened the previous one was close without saving it. All Toolkit commands now apply to this model until another one is opened."
   ]
  },
  {
   "cell_type": "markdown",
   "id": "59002c02",
   "metadata": {},
   "source": [
    "This model has been prepared and contains two nodes connected by a pipe."
   ]
  },
  {
   "cell_type": "markdown",
   "id": "8862300c",
   "metadata": {},
   "source": [
    "# Getting Values"
   ]
  },
  {
   "cell_type": "markdown",
   "id": "720e5b9f",
   "metadata": {},
   "source": [
    "Our goal is to find out what the typ of the nodes is (PKON, QKON, etc.) and what length and material the pipe has."
   ]
  },
  {
   "cell_type": "markdown",
   "id": "438d38a1",
   "metadata": {},
   "source": [
    "## Obtain tk"
   ]
  },
  {
   "cell_type": "markdown",
   "id": "c8826bee",
   "metadata": {},
   "source": [
    "First, we obtain the tks of these elements."
   ]
  },
  {
   "cell_type": "markdown",
   "id": "fc0778a1",
   "metadata": {},
   "source": [
    "We use GetTksofElementType() to create a list of all node tks in the model."
   ]
  },
  {
   "cell_type": "code",
   "execution_count": null,
   "id": "f7379f50",
   "metadata": {},
   "outputs": [],
   "source": [
    "nodes=s3s.GetTksofElementType(ElementType=Interfaces.Sir3SObjectTypes.Node)"
   ]
  },
  {
   "cell_type": "code",
   "execution_count": null,
   "id": "5f4efeca",
   "metadata": {},
   "outputs": [
    {
     "name": "stdout",
     "output_type": "stream",
     "text": [
      "[]\n"
     ]
    }
   ],
   "source": [
    "print(nodes)"
   ]
  },
  {
   "cell_type": "code",
   "execution_count": null,
   "id": "a7cb998e",
   "metadata": {},
   "outputs": [],
   "source": []
  }
 ],
 "metadata": {
  "kernelspec": {
   "display_name": "base",
   "language": "python",
   "name": "python3"
  },
  "language_info": {
   "codemirror_mode": {
    "name": "ipython",
    "version": 3
   },
   "file_extension": ".py",
   "mimetype": "text/x-python",
   "name": "python",
   "nbconvert_exporter": "python",
   "pygments_lexer": "ipython3",
   "version": "3.11.8"
  }
 },
 "nbformat": 4,
 "nbformat_minor": 5
}
