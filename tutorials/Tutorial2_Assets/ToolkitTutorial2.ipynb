{
 "cells": [
  {
   "cell_type": "markdown",
   "id": "5556432f",
   "metadata": {},
   "source": [
    "# Tutorial 2: Creating a new or opening an existing SIR 3S model"
   ]
  },
  {
   "cell_type": "markdown",
   "id": "8899e69a",
   "metadata": {},
   "source": [
    "This tutorial demonstrates how to create new SIR 3S models or open already existing ones."
   ]
  },
  {
   "cell_type": "markdown",
   "id": "77ac1cdf-540c-4d8c-96b6-0ee06321129a",
   "metadata": {},
   "source": [
    "## SIR 3S Installation"
   ]
  },
  {
   "cell_type": "code",
   "execution_count": 3,
   "id": "8d723092-c5fb-4b72-8ce1-28b9d5b5cc3c",
   "metadata": {},
   "outputs": [],
   "source": [
    "SIR3S_SIRGRAF_DIR = r\"C:\\3S\\SIR 3S Entwicklung\\SirGraf-90-15-00-16_Quebec_x64\" #change to local path"
   ]
  },
  {
   "cell_type": "markdown",
   "id": "7887be8d",
   "metadata": {},
   "source": [
    "## Imports"
   ]
  },
  {
   "cell_type": "markdown",
   "id": "bbfb80b5",
   "metadata": {},
   "source": [
    "Note: The SIR 3S Toolkit requires the Sir3S_Toolkit.dll included in SIR 3S installations (version Quebec and higher)."
   ]
  },
  {
   "cell_type": "code",
   "execution_count": 4,
   "id": "48372080",
   "metadata": {},
   "outputs": [],
   "source": [
    "import sir3stoolkit"
   ]
  },
  {
   "cell_type": "markdown",
   "id": "e12d61e9",
   "metadata": {},
   "source": [
    "The core of sir3stoolkit is a Python wrapper around basic functionality of SIR 3S, offering a low-level access to the creation, modification and simulation of SIR 3S models. In the future pure python subpackages may be added."
   ]
  },
  {
   "cell_type": "code",
   "execution_count": 5,
   "id": "f1baf699",
   "metadata": {},
   "outputs": [],
   "source": [
    "from sir3stoolkit.core import wrapper"
   ]
  },
  {
   "cell_type": "code",
   "execution_count": 6,
   "id": "89da1276",
   "metadata": {},
   "outputs": [
    {
     "data": {
      "text/plain": [
       "<module 'sir3stoolkit' from 'C:\\\\Users\\\\aUsername\\\\3S\\\\sir3stoolkit\\\\src\\\\sir3stoolkit\\\\__init__.py'>"
      ]
     },
     "execution_count": 6,
     "metadata": {},
     "output_type": "execute_result"
    }
   ],
   "source": [
    "sir3stoolkit"
   ]
  },
  {
   "cell_type": "markdown",
   "id": "6d982834",
   "metadata": {},
   "source": [
    "The [wrapper package](https://3sconsult.github.io/sir3stoolkit/references/sir3stoolkit.core.html#sir3stoolkit.core.wrapper.Initialize_Toolkit) has to be initialized with reference to a SIR 3S (SirGraf) installation."
   ]
  },
  {
   "cell_type": "code",
   "execution_count": 7,
   "id": "817b0ebf",
   "metadata": {},
   "outputs": [],
   "source": [
    "wrapper.Initialize_Toolkit(SIR3S_SIRGRAF_DIR)"
   ]
  },
  {
   "cell_type": "markdown",
   "id": "0352dd43",
   "metadata": {},
   "source": [
    "## Initialization"
   ]
  },
  {
   "cell_type": "markdown",
   "id": "e14ffe06",
   "metadata": {},
   "source": [
    "The SIR 3S Toolkit contains two classes: [SIR3S_Model](https://3sconsult.github.io/sir3stoolkit/references/sir3stoolkit.core.html#sir3stoolkit.core.wrapper.SIR3S_Model) (model and data) and [SIR3S_View](https://3sconsult.github.io/sir3stoolkit/references/sir3stoolkit.core.html#sir3stoolkit.core.wrapper.SIR3S_View) (depiction in SIR Graf). All SIR 3S Toolkit functionality is accessed via the methods of these classes."
   ]
  },
  {
   "cell_type": "code",
   "execution_count": 8,
   "id": "7e40a5af",
   "metadata": {},
   "outputs": [
    {
     "name": "stdout",
     "output_type": "stream",
     "text": [
      "Initialization complete\n"
     ]
    }
   ],
   "source": [
    "s3s = wrapper.SIR3S_Model()"
   ]
  },
  {
   "cell_type": "code",
   "execution_count": 9,
   "id": "3770c93f",
   "metadata": {},
   "outputs": [
    {
     "name": "stdout",
     "output_type": "stream",
     "text": [
      "Initialization complete\n"
     ]
    }
   ],
   "source": [
    "s3s_view = wrapper.SIR3S_View()"
   ]
  },
  {
   "cell_type": "markdown",
   "id": "b21a7ab7",
   "metadata": {},
   "source": [
    "## Create a new model"
   ]
  },
  {
   "cell_type": "markdown",
   "id": "c837828c",
   "metadata": {},
   "source": [
    "We are using the [NewModel()](https://3sconsult.github.io/sir3stoolkit/references/sir3stoolkit.core.html#sir3stoolkit.core.wrapper.SIR3S_Model.NewModel) function of SIR3S_Model() to create a new db3 file."
   ]
  },
  {
   "cell_type": "code",
   "execution_count": 8,
   "id": "28f84fbf",
   "metadata": {},
   "outputs": [],
   "source": [
    "dbFilePath=r\"Toolkit_Tutorial2_NewModel.db3\""
   ]
  },
  {
   "cell_type": "code",
   "execution_count": 9,
   "id": "de952a07",
   "metadata": {},
   "outputs": [
    {
     "name": "stdout",
     "output_type": "stream",
     "text": [
      "New model is created with the model identifier: M-1-0-1\n"
     ]
    }
   ],
   "source": [
    "s3s.NewModel(dbName=dbFilePath,\n",
    "             providerType=s3s.ProviderTypes.SQLite, \n",
    "             namedInstance=\"\", \n",
    "             netType=s3s.NetworkType.Undefined,\n",
    "             modelDescription=\"Tutorial New Model\",\n",
    "             userID=\"\", \n",
    "             password=\"\")"
   ]
  },
  {
   "cell_type": "markdown",
   "id": "b9b93bdc",
   "metadata": {},
   "source": [
    "Now the model has been created and is opened. All SIR 3S Toolkit operations now apply to this model until the model is closed or another one is opened. If there already existed a model file with this path and name, a new model with the same name but incremented model identifier is created."
   ]
  },
  {
   "cell_type": "markdown",
   "id": "4935b83e",
   "metadata": {},
   "source": [
    "To check whether the modle is responsive, we can use the [GetNetworkType()](https://3sconsult.github.io/sir3stoolkit/references/sir3stoolkit.core.html#sir3stoolkit.core.wrapper.SIR3S_Model.GetNetworkType) function."
   ]
  },
  {
   "cell_type": "code",
   "execution_count": 10,
   "id": "4de889e5",
   "metadata": {},
   "outputs": [
    {
     "name": "stdout",
     "output_type": "stream",
     "text": [
      "NetworkType.Undefined\n"
     ]
    }
   ],
   "source": [
    "print(s3s.GetNetworkType()) "
   ]
  },
  {
   "cell_type": "markdown",
   "id": "33901161-eb2e-4fe5-b762-fdb75e379b65",
   "metadata": {},
   "source": [
    "As no changes have been made, we close the model without saving changes using the [CloseModel()](https://3sconsult.github.io/sir3stoolkit/references/sir3stoolkit.core.html#sir3stoolkit.core.wrapper.SIR3S_View.CloseModel) function."
   ]
  },
  {
   "cell_type": "code",
   "execution_count": 11,
   "id": "d5309d04-4b75-4988-b42c-d49b65aea840",
   "metadata": {},
   "outputs": [
    {
     "data": {
      "text/plain": [
       "True"
      ]
     },
     "execution_count": 11,
     "metadata": {},
     "output_type": "execute_result"
    }
   ],
   "source": [
    "s3s.CloseModel(saveChangesBeforeClosing=False)"
   ]
  },
  {
   "cell_type": "markdown",
   "id": "34309a14",
   "metadata": {},
   "source": [
    "## Open an exisiting model"
   ]
  },
  {
   "cell_type": "markdown",
   "id": "f69fa9d5",
   "metadata": {},
   "source": [
    "We use the function [OpenModel()](https://3sconsult.github.io/sir3stoolkit/references/sir3stoolkit.core.html#sir3stoolkit.core.wrapper.SIR3S_Model.OpenModel) to open an existing SIR 3S model via the SIR 3S Toolkit."
   ]
  },
  {
   "cell_type": "code",
   "execution_count": 10,
   "id": "0918738e",
   "metadata": {},
   "outputs": [],
   "source": [
    "dbFilePath=r\"Toolkit_Tutorial2_OpenModel.db3\""
   ]
  },
  {
   "cell_type": "code",
   "execution_count": 11,
   "id": "e984b61e",
   "metadata": {},
   "outputs": [
    {
     "name": "stdout",
     "output_type": "stream",
     "text": [
      "Model is open for further operation\n"
     ]
    }
   ],
   "source": [
    "s3s.OpenModel(dbName=dbFilePath, \n",
    "              providerType=s3s.ProviderTypes.SQLite, \n",
    "              Mid=\"M-1-0-1\", \n",
    "              saveCurrentlyOpenModel=False, \n",
    "              namedInstance=\"\", \n",
    "              userID=\"\", \n",
    "              password=\"\")"
   ]
  },
  {
   "cell_type": "markdown",
   "id": "e2490549",
   "metadata": {},
   "source": [
    "Now the model has been opened and the previous one has been closed without saving it. All SIR 3S Toolkit operations now apply to this model until another one is opened."
   ]
  },
  {
   "cell_type": "code",
   "execution_count": 12,
   "id": "8e3adb92",
   "metadata": {},
   "outputs": [
    {
     "name": "stdout",
     "output_type": "stream",
     "text": [
      "NetworkType.DistrictHeating\n"
     ]
    }
   ],
   "source": [
    "print(s3s.GetNetworkType()) # to check that the correct model is responsive, model we are trying to open was created with type District Heating"
   ]
  },
  {
   "cell_type": "markdown",
   "id": "304b4f0e-7104-41aa-8aca-70d7e65fcda0",
   "metadata": {},
   "source": [
    "As no changes have been made, we close the model without saving changes using the [CloseModel()](https://3sconsult.github.io/sir3stoolkit/references/sir3stoolkit.core.html#sir3stoolkit.core.wrapper.SIR3S_View.CloseModel) function."
   ]
  },
  {
   "cell_type": "code",
   "execution_count": 13,
   "id": "b95d1305-ec1f-4eec-bcac-3ae4855c1aca",
   "metadata": {},
   "outputs": [
    {
     "data": {
      "text/plain": [
       "True"
      ]
     },
     "execution_count": 13,
     "metadata": {},
     "output_type": "execute_result"
    }
   ],
   "source": [
    "s3s.CloseModel(saveChangesBeforeClosing=False)"
   ]
  },
  {
   "cell_type": "markdown",
   "id": "66e594c8",
   "metadata": {},
   "source": [
    "## Open an existing XML Model"
   ]
  },
  {
   "cell_type": "markdown",
   "id": "d68fccff",
   "metadata": {},
   "source": [
    "We use the function [OpenModelXml](https://3sconsult.github.io/sir3stoolkit/references/sir3stoolkit.core.html#sir3stoolkit.core.wrapper.SIR3S_Model.OpenModelXml) to open an existing SIR 3S model in XML format via the SIR 3S Toolkit."
   ]
  },
  {
   "cell_type": "markdown",
   "id": "2d82f984",
   "metadata": {},
   "source": [
    "This XML SIR 3S file was exported via SIR 3S based on the .db3 file opened above."
   ]
  },
  {
   "cell_type": "code",
   "execution_count": null,
   "id": "840d3323",
   "metadata": {},
   "outputs": [],
   "source": [
    "dbFilePath=r\"Toolkit_Tutorial2_OpenModel.xml\""
   ]
  },
  {
   "cell_type": "code",
   "execution_count": 25,
   "id": "7341b853",
   "metadata": {},
   "outputs": [
    {
     "name": "stdout",
     "output_type": "stream",
     "text": [
      "Model is open for further operation\n"
     ]
    }
   ],
   "source": [
    "s3s.OpenModelXml(dbFilePath, False)"
   ]
  },
  {
   "cell_type": "code",
   "execution_count": 26,
   "id": "03150b87",
   "metadata": {},
   "outputs": [
    {
     "name": "stdout",
     "output_type": "stream",
     "text": [
      "NetworkType.DistrictHeating\n"
     ]
    }
   ],
   "source": [
    "print(s3s.GetNetworkType()) # to check that the correct model is responsive, model we are trying to open was created with type District Heating"
   ]
  },
  {
   "cell_type": "code",
   "execution_count": 27,
   "id": "edb49eb3",
   "metadata": {},
   "outputs": [
    {
     "data": {
      "text/plain": [
       "True"
      ]
     },
     "execution_count": 27,
     "metadata": {},
     "output_type": "execute_result"
    }
   ],
   "source": [
    "s3s.CloseModel(saveChangesBeforeClosing=False)"
   ]
  },
  {
   "cell_type": "markdown",
   "id": "f6b99294-84ba-4c38-a1fe-a7e4c49a6ac5",
   "metadata": {},
   "source": [
    "__Next:__ Tutorial 3: Accessing and modifying model data"
   ]
  }
 ],
 "metadata": {
  "kernelspec": {
   "display_name": "base",
   "language": "python",
   "name": "python3"
  },
  "language_info": {
   "codemirror_mode": {
    "name": "ipython",
    "version": 3
   },
   "file_extension": ".py",
   "mimetype": "text/x-python",
   "name": "python",
   "nbconvert_exporter": "python",
   "pygments_lexer": "ipython3",
   "version": "3.11.8"
  }
 },
 "nbformat": 4,
 "nbformat_minor": 5
}
