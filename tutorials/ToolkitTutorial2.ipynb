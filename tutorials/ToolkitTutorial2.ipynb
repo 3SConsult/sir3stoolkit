{
 "cells": [
  {
   "cell_type": "markdown",
   "id": "5556432f",
   "metadata": {},
   "source": [
    "# Tutorial 2: Creating or Opening a SIR 3S Model"
   ]
  },
  {
   "cell_type": "markdown",
   "id": "8899e69a",
   "metadata": {},
   "source": [
    "This Tutorial demonstrates how to create new SIR 3S Models or open already existing ones."
   ]
  },
  {
   "cell_type": "markdown",
   "id": "e2d40c36",
   "metadata": {},
   "source": [
    "# Toolkit Release"
   ]
  },
  {
   "cell_type": "code",
   "execution_count": 1,
   "id": "7fb5a07b",
   "metadata": {},
   "outputs": [],
   "source": [
    "#pip install sir3stoolkit"
   ]
  },
  {
   "cell_type": "markdown",
   "id": "7887be8d",
   "metadata": {},
   "source": [
    "# Imports"
   ]
  },
  {
   "cell_type": "markdown",
   "id": "529d4ff7",
   "metadata": {},
   "source": [
    "## DLL References"
   ]
  },
  {
   "cell_type": "markdown",
   "id": "bbfb80b5",
   "metadata": {},
   "source": [
    "The Toolkit requires the Sir3S_Toolkit.dll included in SIR 3S installations (from Quebec and Up). Furthermore the Sir3S_Repository.Interfaces.dll is required to input native SIR 3S datatypes into some Toolkit functions."
   ]
  },
  {
   "cell_type": "code",
   "execution_count": 2,
   "id": "6ddc5056",
   "metadata": {},
   "outputs": [],
   "source": [
    "import clr as clr"
   ]
  },
  {
   "cell_type": "code",
   "execution_count": 3,
   "id": "0f91d207",
   "metadata": {},
   "outputs": [],
   "source": [
    "SIR3S_SIRGRAF_DIR = r\"C:\\3S\\SIR 3S Entwicklung\\SirGraf-90-15-00-10_Quebec.beta_x64\""
   ]
  },
  {
   "cell_type": "code",
   "execution_count": 4,
   "id": "ae3916b9",
   "metadata": {},
   "outputs": [],
   "source": [
    "clr.AddReference(SIR3S_SIRGRAF_DIR+r\"\\Sir3S_Repository.Interfaces\")\n",
    "import Sir3S_Repository.Interfaces as Interfaces"
   ]
  },
  {
   "cell_type": "code",
   "execution_count": 5,
   "id": "d5f592be",
   "metadata": {},
   "outputs": [],
   "source": [
    "clr.AddReference(SIR3S_SIRGRAF_DIR+r\"\\Sir3S_Toolkit\")\n",
    "import Sir3S_Toolkit"
   ]
  },
  {
   "cell_type": "markdown",
   "id": "13085702",
   "metadata": {},
   "source": [
    "## PythonWrapperToolkit"
   ]
  },
  {
   "cell_type": "code",
   "execution_count": 6,
   "id": "48372080",
   "metadata": {},
   "outputs": [],
   "source": [
    "import sir3stoolkit"
   ]
  },
  {
   "cell_type": "markdown",
   "id": "e12d61e9",
   "metadata": {},
   "source": [
    "The core of sir3stoolkit is a Python Wrapper around C#, that can be used to read, write, etc. to a SIR 3S Model. In the future pure python subpackages may be added."
   ]
  },
  {
   "cell_type": "code",
   "execution_count": 7,
   "id": "f1baf699",
   "metadata": {},
   "outputs": [],
   "source": [
    "from sir3stoolkit.core import wrapper"
   ]
  },
  {
   "cell_type": "code",
   "execution_count": 8,
   "id": "89da1276",
   "metadata": {},
   "outputs": [
    {
     "data": {
      "text/plain": [
       "<module 'sir3stoolkit' from 'c:\\\\Users\\\\jablonski\\\\AppData\\\\Local\\\\anaconda3\\\\Lib\\\\site-packages\\\\sir3stoolkit\\\\__init__.py'>"
      ]
     },
     "execution_count": 8,
     "metadata": {},
     "output_type": "execute_result"
    }
   ],
   "source": [
    "sir3stoolkit"
   ]
  },
  {
   "cell_type": "code",
   "execution_count": 9,
   "id": "82f7d1dc",
   "metadata": {},
   "outputs": [
    {
     "data": {
      "text/plain": [
       "<module 'sir3stoolkit' from 'c:\\\\Users\\\\jablonski\\\\AppData\\\\Local\\\\anaconda3\\\\Lib\\\\site-packages\\\\sir3stoolkit\\\\__init__.py'>"
      ]
     },
     "execution_count": 9,
     "metadata": {},
     "output_type": "execute_result"
    }
   ],
   "source": [
    "sir3stoolkit"
   ]
  },
  {
   "cell_type": "markdown",
   "id": "6d982834",
   "metadata": {},
   "source": [
    "An instance of the wrapper package has to be created with reference to a SIR Graf installation."
   ]
  },
  {
   "cell_type": "code",
   "execution_count": 10,
   "id": "817b0ebf",
   "metadata": {},
   "outputs": [],
   "source": [
    "wrapper.Initialize_Toolkit(SIR3S_SIRGRAF_DIR)"
   ]
  },
  {
   "cell_type": "markdown",
   "id": "c7492e31",
   "metadata": {},
   "source": [
    "## Addtiontional"
   ]
  },
  {
   "cell_type": "code",
   "execution_count": 11,
   "id": "67572fde",
   "metadata": {},
   "outputs": [],
   "source": [
    "import os"
   ]
  },
  {
   "cell_type": "code",
   "execution_count": 12,
   "id": "0c46f391",
   "metadata": {},
   "outputs": [],
   "source": [
    "import requests"
   ]
  },
  {
   "cell_type": "markdown",
   "id": "0352dd43",
   "metadata": {},
   "source": [
    "# Initialization"
   ]
  },
  {
   "cell_type": "markdown",
   "id": "e14ffe06",
   "metadata": {},
   "source": [
    "Toolkit contains two classes: SIR3S_Model(model and data) and SIR3S_View(depiction in SIR Graf). All Toolkit functionality is accessed via the methods of these classes."
   ]
  },
  {
   "cell_type": "code",
   "execution_count": 13,
   "id": "7e40a5af",
   "metadata": {},
   "outputs": [
    {
     "name": "stdout",
     "output_type": "stream",
     "text": [
      "Initialization complete\n"
     ]
    }
   ],
   "source": [
    "s3s = wrapper.SIR3S_Model()"
   ]
  },
  {
   "cell_type": "code",
   "execution_count": 14,
   "id": "3770c93f",
   "metadata": {},
   "outputs": [
    {
     "name": "stdout",
     "output_type": "stream",
     "text": [
      "Initialization complete\n"
     ]
    }
   ],
   "source": [
    "s3s_view = wrapper.SIR3S_View()"
   ]
  },
  {
   "cell_type": "markdown",
   "id": "2c5cae47",
   "metadata": {},
   "source": [
    "# Get Data"
   ]
  },
  {
   "cell_type": "markdown",
   "id": "08700ff7",
   "metadata": {},
   "source": [
    "A local folder next to the notebook will be created. That contains the model that will be opened later."
   ]
  },
  {
   "cell_type": "code",
   "execution_count": 15,
   "id": "4a98d4c2",
   "metadata": {},
   "outputs": [],
   "source": [
    "def download_directory(owner, repo, directory, local_dir, branch=\"master\", headers=None):\n",
    "    \"\"\"\n",
    "    Recursively download a directory from a GitHub repository.\n",
    "    \"\"\"\n",
    "    if headers is None:\n",
    "        headers = {}\n",
    "\n",
    "    # GitHub API URL for the directory\n",
    "    api_url = f\"https://api.github.com/repos/{owner}/{repo}/contents/{directory}?ref={branch}\"\n",
    "\n",
    "    # Get directory contents\n",
    "    response = requests.get(api_url, headers=headers)\n",
    "    response.raise_for_status()\n",
    "    items = response.json()\n",
    "\n",
    "    # Create local directory if it doesn't exist\n",
    "    os.makedirs(local_dir, exist_ok=True)\n",
    "\n",
    "    for item in items:\n",
    "        item_path = item[\"path\"]\n",
    "        item_type = item[\"type\"]\n",
    "        item_name = item[\"name\"]\n",
    "        local_path = os.path.join(local_dir, item_name)\n",
    "\n",
    "        if item_type == \"file\":\n",
    "            file_url = item[\"download_url\"]\n",
    "            file_data = requests.get(file_url)\n",
    "            with open(local_path, \"wb\") as f:\n",
    "                f.write(file_data.content)\n",
    "        elif item_type == \"dir\":\n",
    "            # Recursively download subdirectory\n",
    "            download_directory(owner, repo, item_path, local_path, branch, headers)"
   ]
  },
  {
   "cell_type": "code",
   "execution_count": 16,
   "id": "b8b44923",
   "metadata": {},
   "outputs": [],
   "source": [
    "# Configuration\n",
    "owner = \"mj3s\"\n",
    "repo = \"SIR-3S_Example_Data\"\n",
    "directory = \"sir3stoolkit/tutorials/Toolkit_Tutorial_2\"\n",
    "branch = \"master\"\n",
    "local_dir = \"Toolkit_Tutorial_2\"\n",
    "headers = {}  # Add token here if needed\n",
    "\n",
    "# Start downloading\n",
    "download_directory(owner, repo, directory, local_dir, branch, headers)"
   ]
  },
  {
   "cell_type": "markdown",
   "id": "b21a7ab7",
   "metadata": {},
   "source": [
    "# Create New Model"
   ]
  },
  {
   "cell_type": "markdown",
   "id": "c837828c",
   "metadata": {},
   "source": [
    "We are using the NewModel() function of SIR3S_Model() to create a new db3 file."
   ]
  },
  {
   "cell_type": "code",
   "execution_count": 17,
   "id": "28f84fbf",
   "metadata": {},
   "outputs": [],
   "source": [
    "dbFilePath=r\"Tutorial_2_NewModel.db3\""
   ]
  },
  {
   "cell_type": "code",
   "execution_count": 18,
   "id": "de952a07",
   "metadata": {},
   "outputs": [
    {
     "name": "stdout",
     "output_type": "stream",
     "text": [
      "New model is created with the model identifier: M-1-0-1\n"
     ]
    }
   ],
   "source": [
    "s3s.NewModel(dbName=dbFilePath,\n",
    "                           providerType=Interfaces.SirDBProviderType.SQLite, \n",
    "                           namedInstance=\"\", \n",
    "                           netType=Interfaces.NetworkType.Undefined,\n",
    "                           modelDescription=\"Tutorial New Model\",\n",
    "                           userID=\"\", \n",
    "                           password=\"\")"
   ]
  },
  {
   "cell_type": "markdown",
   "id": "b9b93bdc",
   "metadata": {},
   "source": [
    "Now the Model has been created and is opened. All Toolkit commands now apply to this model until another one is opened. If there already existed a model file with this path and name, a new model with the same name but incremented model identifier is created."
   ]
  },
  {
   "cell_type": "code",
   "execution_count": 19,
   "id": "4de889e5",
   "metadata": {},
   "outputs": [
    {
     "name": "stdout",
     "output_type": "stream",
     "text": [
      "Undefined\n"
     ]
    }
   ],
   "source": [
    "print(s3s.GetNetworkType()) # to check that the model is responsive"
   ]
  },
  {
   "cell_type": "markdown",
   "id": "34309a14",
   "metadata": {},
   "source": [
    "# Open Model"
   ]
  },
  {
   "cell_type": "code",
   "execution_count": 20,
   "id": "0918738e",
   "metadata": {},
   "outputs": [],
   "source": [
    "dbFilePath=r\"Tutorial_2_OpenModel.db3\""
   ]
  },
  {
   "cell_type": "code",
   "execution_count": 21,
   "id": "e984b61e",
   "metadata": {},
   "outputs": [
    {
     "name": "stdout",
     "output_type": "stream",
     "text": [
      "Error while opening the model, Could not open Database using Connection String 'Provider=System.Data.SQLite;Data Source=\"Tutorial_2_OpenModel.db3\";Version=3;'\n"
     ]
    }
   ],
   "source": [
    "s3s.OpenModel(dbName=dbFilePath, \n",
    "                            providerType=Interfaces.SirDBProviderType.SQLite, \n",
    "                            Mid=\"M-1-0-1\", \n",
    "                            saveCurrentlyOpenModel=False, \n",
    "                            namedInstance=\"\", \n",
    "                            userID=\"\", \n",
    "                            password=\"\")"
   ]
  },
  {
   "cell_type": "markdown",
   "id": "e2490549",
   "metadata": {},
   "source": [
    "Now the Model has been opened the previous one was close without saving it. All Toolkit commands now apply to this model until another one is opened."
   ]
  },
  {
   "cell_type": "code",
   "execution_count": 22,
   "id": "8e3adb92",
   "metadata": {},
   "outputs": [
    {
     "name": "stdout",
     "output_type": "stream",
     "text": [
      "Undefined\n"
     ]
    }
   ],
   "source": [
    "print(s3s.GetNetworkType()) # to check that the correct model is responsive"
   ]
  }
 ],
 "metadata": {
  "kernelspec": {
   "display_name": "base",
   "language": "python",
   "name": "python3"
  },
  "language_info": {
   "codemirror_mode": {
    "name": "ipython",
    "version": 3
   },
   "file_extension": ".py",
   "mimetype": "text/x-python",
   "name": "python",
   "nbconvert_exporter": "python",
   "pygments_lexer": "ipython3",
   "version": "3.11.8"
  }
 },
 "nbformat": 4,
 "nbformat_minor": 5
}
