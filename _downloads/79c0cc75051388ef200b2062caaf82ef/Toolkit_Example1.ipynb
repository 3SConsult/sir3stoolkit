{
  "cells": [
    {
      "cell_type": "markdown",
      "id": "5556432f",
      "metadata": {},
      "source": [
        "# Example 1: Shape Import"
      ]
    },
    {
      "cell_type": "markdown",
      "id": "8899e69a",
      "metadata": {},
      "source": [
        "This Tutorial demonstrates how to create a connected topological network of nodes and pipes in SIR 3S via the SIR 3S Toolkit based on shape data. The data used comes from 'SIR 3S\\Modelle\\Beispiele\\Wasser\\Manual\\Projektdaten\\01 Shape-Dateien'."
      ]
    },
    {
      "cell_type": "markdown",
      "id": "5571a633",
      "metadata": {},
      "source": [
        "## SIR 3S Installation"
      ]
    },
    {
      "cell_type": "code",
      "execution_count": 4,
      "id": "94054444",
      "metadata": {},
      "outputs": [],
      "source": [
        "SIR3S_SIRGRAF_DIR = r\"C:\\3S Consult\\Sir3S-90 Entwicklerversionen\\SirGraf-90-15-00-12_Quebec_x64\""
      ]
    },
    {
      "cell_type": "markdown",
      "id": "17583a76",
      "metadata": {},
      "source": [
        "## Imports"
      ]
    },
    {
      "cell_type": "markdown",
      "id": "1f0406d8",
      "metadata": {},
      "source": [
        "Note: The SIR 3S Toolkit requires the Sir3S_Toolkit.dll included in SIR 3S installations (version Quebec and higher)."
      ]
    },
    {
      "cell_type": "code",
      "execution_count": 7,
      "id": "03bf0973",
      "metadata": {},
      "outputs": [],
      "source": [
        "import sir3stoolkit"
      ]
    },
    {
      "cell_type": "markdown",
      "id": "64c11922",
      "metadata": {},
      "source": [
        "The core of sir3stoolkit is a Python wrapper around basic functionality of SIR 3S, offering a low-level access to the creation, modification and simulation of SIR 3S models. In the future pure python subpackages may be added."
      ]
    },
    {
      "cell_type": "code",
      "execution_count": 9,
      "id": "039a00ff",
      "metadata": {},
      "outputs": [],
      "source": [
        "from sir3stoolkit.core import wrapper"
      ]
    },
    {
      "cell_type": "code",
      "execution_count": 10,
      "id": "e54c9f45",
      "metadata": {},
      "outputs": [
        {
          "data": {
            "text/plain": [
              "<module 'sir3stoolkit' from 'C:\\\\Users\\\\aUsername.3S.000\\\\AppData\\\\Local\\\\anaconda3\\\\Lib\\\\site-packages\\\\sir3stoolkit\\\\__init__.py'>"
            ]
          },
          "execution_count": 10,
          "metadata": {},
          "output_type": "execute_result"
        }
      ],
      "source": [
        "sir3stoolkit"
      ]
    },
    {
      "cell_type": "markdown",
      "id": "2fae5d6a",
      "metadata": {},
      "source": [
        "The wrapper package has to be initialized with reference to a SIR 3S (SirGraf) installation."
      ]
    },
    {
      "cell_type": "code",
      "execution_count": 12,
      "id": "4bcc7659",
      "metadata": {},
      "outputs": [],
      "source": [
        "wrapper.Initialize_Toolkit(SIR3S_SIRGRAF_DIR)"
      ]
    },
    {
      "cell_type": "markdown",
      "id": "6380a433",
      "metadata": {},
      "source": [
        "#### Additional imports"
      ]
    },
    {
      "cell_type": "code",
      "execution_count": 14,
      "id": "a9c9474e",
      "metadata": {},
      "outputs": [],
      "source": [
        "from datetime import datetime\n",
        "import geopandas as gpd\n",
        "import os\n",
        "from shapely.geometry import LineString\n",
        "import shutil"
      ]
    },
    {
      "cell_type": "markdown",
      "id": "4551acd2",
      "metadata": {},
      "source": [
        "## Initialization"
      ]
    },
    {
      "cell_type": "markdown",
      "id": "c75cc1f5",
      "metadata": {},
      "source": [
        "The SIR 3S Toolkit contains two classes: SIR3S_Model (model and data) and SIR3S_View (depiction in SIR Graf). All SIR 3S Toolkit functionality is accessed via the methods of these classes."
      ]
    },
    {
      "cell_type": "code",
      "execution_count": 17,
      "id": "39042e6f",
      "metadata": {},
      "outputs": [
        {
          "name": "stdout",
          "output_type": "stream",
          "text": [
            "Initialization complete\n"
          ]
        }
      ],
      "source": [
        "s3s = wrapper.SIR3S_Model()"
      ]
    },
    {
      "cell_type": "code",
      "execution_count": 18,
      "id": "00254572",
      "metadata": {},
      "outputs": [
        {
          "name": "stdout",
          "output_type": "stream",
          "text": [
            "Initialization complete\n"
          ]
        }
      ],
      "source": [
        "s3s_view = wrapper.SIR3S_View()"
      ]
    },
    {
      "cell_type": "markdown",
      "id": "efdd4bb3-7b18-45f6-affb-b4c4a5b5cf9b",
      "metadata": {},
      "source": [
        "Disable additional output comments of SIR 3S Toolkit methods:"
      ]
    },
    {
      "cell_type": "code",
      "execution_count": 20,
      "id": "00c82d38-7e74-424f-bf70-a1c41a167793",
      "metadata": {},
      "outputs": [],
      "source": [
        "s3s.EnableOrDisableOutputComments(outputComments=False)\n",
        "s3s_view.EnableOrDisableOutputComments(outputComments=False)"
      ]
    },
    {
      "cell_type": "markdown",
      "id": "2d0f6dc9",
      "metadata": {},
      "source": [
        "## Open empty model"
      ]
    },
    {
      "cell_type": "markdown",
      "id": "8dd834b5",
      "metadata": {},
      "source": [
        "### Create new empty model file"
      ]
    },
    {
      "cell_type": "code",
      "execution_count": 23,
      "id": "989eb4c4",
      "metadata": {},
      "outputs": [],
      "source": [
        "src = r\"C:\\DevOps\\Github_Direct_sir3stoolkit\\Test\\Examples\\EmptyModel.XML\""
      ]
    },
    {
      "cell_type": "code",
      "execution_count": 24,
      "id": "2013640a",
      "metadata": {},
      "outputs": [],
      "source": [
        "# Generate a unique filename with timestamp\n",
        "timestamp = datetime.now().strftime(\"%Y%m%d_%H%M%S\")\n",
        "dst_folder = r\"C:\\DevOps\\Github_Direct_sir3stoolkit\\Test\\Examples\"\n",
        "dst_filename = f\"EmptyModelCopy_{timestamp}.XML\"\n",
        "dst = os.path.join(dst_folder, dst_filename)"
      ]
    },
    {
      "cell_type": "code",
      "execution_count": 25,
      "id": "e677e778",
      "metadata": {},
      "outputs": [
        {
          "data": {
            "text/plain": [
              "'C:\\\\DevOps\\\\Github_Direct_sir3stoolkit\\\\Test\\\\Examples\\\\EmptyModelCopy_20250728_141218.XML'"
            ]
          },
          "execution_count": 25,
          "metadata": {},
          "output_type": "execute_result"
        }
      ],
      "source": [
        "# Copy the file\n",
        "shutil.copy2(src, dst)"
      ]
    },
    {
      "cell_type": "markdown",
      "id": "84f5f3f6",
      "metadata": {},
      "source": [
        "### Open new file"
      ]
    },
    {
      "cell_type": "code",
      "execution_count": 27,
      "id": "49adf19c",
      "metadata": {},
      "outputs": [],
      "source": [
        "# Open the copied file\n",
        "s3s.OpenModelXml(dst, True)"
      ]
    },
    {
      "cell_type": "markdown",
      "id": "b21a7ab7",
      "metadata": {},
      "source": [
        "### Python Shape Import"
      ]
    },
    {
      "cell_type": "code",
      "execution_count": 29,
      "id": "78adc87b",
      "metadata": {},
      "outputs": [],
      "source": [
        "fp = r\"C:\\3S\\Modelle\\Beispiele\\Wasser\\Manual\\Projektdaten\\01 Shape-Dateien\\Wassernetz_Leitungen.shp\""
      ]
    },
    {
      "cell_type": "code",
      "execution_count": 30,
      "id": "5e211607",
      "metadata": {},
      "outputs": [],
      "source": [
        "gdf = gpd.read_file(fp) # Read file using gpd.read_file()"
      ]
    },
    {
      "cell_type": "code",
      "execution_count": 31,
      "id": "718062a1",
      "metadata": {},
      "outputs": [
        {
          "name": "stdout",
          "output_type": "stream",
          "text": [
            "<class 'geopandas.geodataframe.GeoDataFrame'>\n",
            "RangeIndex: 619 entries, 0 to 618\n",
            "Data columns (total 9 columns):\n",
            " #   Column      Non-Null Count  Dtype   \n",
            "---  ------      --------------  -----   \n",
            " 0   3SPK        619 non-null    object  \n",
            " 1   TYPE        619 non-null    object  \n",
            " 2   _FROM       619 non-null    object  \n",
            " 3   _TO         619 non-null    object  \n",
            " 4   IDREFERENZ  619 non-null    object  \n",
            " 5   DN          619 non-null    object  \n",
            " 6   L           619 non-null    float64 \n",
            " 7   MAT         619 non-null    object  \n",
            " 8   geometry    619 non-null    geometry\n",
            "dtypes: float64(1), geometry(1), object(7)\n",
            "memory usage: 43.7+ KB\n",
            "None\n"
          ]
        }
      ],
      "source": [
        "print(gdf.info())"
      ]
    },
    {
      "cell_type": "code",
      "execution_count": 32,
      "id": "b6277e24",
      "metadata": {},
      "outputs": [
        {
          "data": {
            "text/plain": [
              "<Axes: >"
            ]
          },
          "execution_count": 32,
          "metadata": {},
          "output_type": "execute_result"
        },
        {
          "data": {
            "image/png": "[encoded data removed]",
            "text/plain": [
              "<Figure size 640x480 with 1 Axes>"
            ]
          },
          "metadata": {},
          "output_type": "display_data"
        }
      ],
      "source": [
        "gdf.plot()"
      ]
    },
    {
      "cell_type": "markdown",
      "id": "78ff017e",
      "metadata": {},
      "source": [
        "## Add Topology to SIR 3S"
      ]
    },
    {
      "cell_type": "markdown",
      "id": "506f0d4e",
      "metadata": {},
      "source": [
        "### Write node coords to dictionary"
      ]
    },
    {
      "cell_type": "code",
      "execution_count": 35,
      "id": "68dfb392",
      "metadata": {},
      "outputs": [],
      "source": [
        "dictionaryNodes = {}"
      ]
    },
    {
      "cell_type": "code",
      "execution_count": 36,
      "id": "581f3a78",
      "metadata": {},
      "outputs": [],
      "source": [
        "count = 0"
      ]
    },
    {
      "cell_type": "code",
      "execution_count": 37,
      "id": "6b25d3d0",
      "metadata": {},
      "outputs": [],
      "source": [
        "for index, row in gdf.iterrows(): \n",
        "    geometry = row['geometry']\n",
        "    coords = [(coords) for coords in list(row['geometry'].coords)]\n",
        "    first_coord, last_coord = [ coords[i] for i in (0, -1) ]\n",
        "    key = first_coord\n",
        "    if not key in dictionaryNodes:\n",
        "        count = count +1 \n",
        "        dictionaryNodes[key] = count\n",
        "        \n",
        "    key = last_coord\n",
        "    if not key in dictionaryNodes:\n",
        "        count = count +1 \n",
        "        dictionaryNodes[key] = count"
      ]
    },
    {
      "cell_type": "markdown",
      "id": "292920b4",
      "metadata": {},
      "source": [
        "### Insert nodes into SIR 3S"
      ]
    },
    {
      "cell_type": "code",
      "execution_count": 39,
      "id": "559fccee",
      "metadata": {},
      "outputs": [],
      "source": [
        "dicNodes2 = {}  "
      ]
    },
    {
      "cell_type": "code",
      "execution_count": 40,
      "id": "59480015",
      "metadata": {},
      "outputs": [],
      "source": [
        "s3s.StartTransaction(\"Add Nodes\")"
      ]
    },
    {
      "cell_type": "code",
      "execution_count": 41,
      "id": "38968d26",
      "metadata": {},
      "outputs": [],
      "source": [
        "for key in dictionaryNodes:\n",
        "    Id = str(dictionaryNodes[key])\n",
        "    text = str(key)\n",
        "    coor = text.split(',')\n",
        "    x = float(coor[0].replace('(',''))\n",
        "    y = float(coor[1])\n",
        "    z = float(coor[2].replace(')',''))\n",
        "    Tk = s3s.AddNewNode(\"-1\", Id, \"QKON\", x, y,z,0, 1, Id, Id, 0) \n",
        "    dicNodes2[key] = Tk  "
      ]
    },
    {
      "cell_type": "code",
      "execution_count": 42,
      "id": "9358ac43",
      "metadata": {},
      "outputs": [],
      "source": [
        "s3s.EndTransaction()"
      ]
    },
    {
      "cell_type": "markdown",
      "id": "7ae60e3f",
      "metadata": {},
      "source": [
        "### Insert Pipes into SIR 3S"
      ]
    },
    {
      "cell_type": "code",
      "execution_count": 44,
      "id": "362a0eb0",
      "metadata": {},
      "outputs": [],
      "source": [
        "s3s.StartTransaction(\"Add Pipes\")"
      ]
    },
    {
      "cell_type": "code",
      "execution_count": 45,
      "id": "28fc4127",
      "metadata": {},
      "outputs": [],
      "source": [
        "for index, row in gdf.iterrows(): \n",
        "    geometry = row['geometry']\n",
        "    coords = [(coords) for coords in list(row['geometry'].coords)]\n",
        "    first_coord, last_coord = [ coords[i] for i in (0, -1) ]\n",
        "    fromNode = toNode = \"-1\" \n",
        "    mat = str(row[\"MAT\"])\n",
        "    DN = str(row[\"DN\"])\n",
        "    IdRef = row[\"IDREFERENZ\"]\n",
        "    \n",
        "    if first_coord in dicNodes2:\n",
        "        fromNode = dicNodes2[first_coord]\n",
        "    if last_coord in dicNodes2:\n",
        "        toNode = dicNodes2[last_coord]  \n",
        "    \n",
        "    lines = [xy[:2] for xy in list(geometry.coords)]\n",
        "    new_p = LineString(lines)    \n",
        "    \n",
        "    s3s.AddNewPipe(\"-1\", fromNode, toNode, float(row[\"L\"]), str(new_p), mat, DN, 0.25, IdRef, row[\"TYPE\"], 0)"
      ]
    },
    {
      "cell_type": "code",
      "execution_count": 46,
      "id": "233b54a2",
      "metadata": {},
      "outputs": [],
      "source": [
        "s3s.EndTransaction()"
      ]
    },
    {
      "cell_type": "markdown",
      "id": "956e61e0",
      "metadata": {},
      "source": [
        "## Save changes"
      ]
    },
    {
      "cell_type": "code",
      "execution_count": 48,
      "id": "8d1019d4",
      "metadata": {},
      "outputs": [],
      "source": [
        "s3s.SaveChanges()"
      ]
    },
    {
      "cell_type": "markdown",
      "id": "07c61d8a-5b45-4d7b-a0fc-09b240f604d2",
      "metadata": {},
      "source": [
        "..."
      ]
    }
  ],
  "metadata": {
    "kernelspec": {
      "display_name": "Python 3 (ipykernel)",
      "language": "python",
      "name": "python3"
    },
    "language_info": {
      "codemirror_mode": {
        "name": "ipython",
        "version": 3
      },
      "file_extension": ".py",
      "mimetype": "text/x-python",
      "name": "python",
      "nbconvert_exporter": "python",
      "pygments_lexer": "ipython3",
      "version": "3.12.3"
    }
  },
  "nbformat": 4,
  "nbformat_minor": 5
}