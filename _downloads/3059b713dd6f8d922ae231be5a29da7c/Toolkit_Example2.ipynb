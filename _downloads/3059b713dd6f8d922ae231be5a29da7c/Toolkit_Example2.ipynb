{
 "cells": [
  {
   "cell_type": "markdown",
   "id": "5556432f",
   "metadata": {},
   "source": [
    "# Example 2: Dataframes"
   ]
  },
  {
   "cell_type": "markdown",
   "id": "8899e69a",
   "metadata": {},
   "source": [
    "This Example demonstrates the capabilities of the class Dataframes_SIR3S_Model that extends SIR3S_Model be abilities to work directley with pandas dataframes.  "
   ]
  },
  {
   "cell_type": "markdown",
   "id": "e2d40c36",
   "metadata": {},
   "source": [
    "# Toolkit Release"
   ]
  },
  {
   "cell_type": "code",
   "execution_count": 1,
   "id": "7fb5a07b",
   "metadata": {},
   "outputs": [],
   "source": [
    "#pip install "
   ]
  },
  {
   "cell_type": "markdown",
   "id": "d6773e12",
   "metadata": {},
   "source": [
    "# Imports"
   ]
  },
  {
   "cell_type": "markdown",
   "id": "134689cf",
   "metadata": {},
   "source": [
    "## SIR 3S Toolkit"
   ]
  },
  {
   "cell_type": "markdown",
   "id": "69665f68",
   "metadata": {},
   "source": [
    "### Regular Import/Init"
   ]
  },
  {
   "cell_type": "code",
   "execution_count": 2,
   "id": "79d0fb2c",
   "metadata": {},
   "outputs": [],
   "source": [
    "SIR3S_SIRGRAF_DIR = r\"C:\\3S\\SIR 3S Entwicklung\\SirGraf-90-15-00-19_x64\" #change to local path"
   ]
  },
  {
   "cell_type": "code",
   "execution_count": 3,
   "id": "0f41d17a",
   "metadata": {},
   "outputs": [],
   "source": [
    "from sir3stoolkit.core import wrapper"
   ]
  },
  {
   "cell_type": "code",
   "execution_count": 4,
   "id": "d539c981",
   "metadata": {},
   "outputs": [
    {
     "data": {
      "text/plain": [
       "<module 'sir3stoolkit.core.wrapper' from 'C:\\\\Users\\\\aUsername\\\\3S\\\\sir3stoolkit\\\\src\\\\sir3stoolkit\\\\core\\\\wrapper.py'>"
      ]
     },
     "execution_count": 4,
     "metadata": {},
     "output_type": "execute_result"
    }
   ],
   "source": [
    "wrapper"
   ]
  },
  {
   "cell_type": "code",
   "execution_count": 5,
   "id": "37d59df0",
   "metadata": {},
   "outputs": [],
   "source": [
    "wrapper.Initialize_Toolkit(SIR3S_SIRGRAF_DIR)"
   ]
  },
  {
   "cell_type": "markdown",
   "id": "ebf2c56e",
   "metadata": {},
   "source": [
    "### Additional Import/Init for Dataframes class"
   ]
  },
  {
   "cell_type": "markdown",
   "id": "ea003338",
   "metadata": {},
   "source": [
    "from sir3stoolkit.mantle import dataframe"
   ]
  },
  {
   "cell_type": "markdown",
   "id": "08da19eb",
   "metadata": {},
   "source": [
    "We can just import the whole mantle to get all higher level modeling functions."
   ]
  },
  {
   "cell_type": "code",
   "execution_count": 6,
   "id": "893f889e",
   "metadata": {},
   "outputs": [],
   "source": [
    "from sir3stoolkit.mantle import mantle"
   ]
  },
  {
   "cell_type": "code",
   "execution_count": 7,
   "id": "4b65297f",
   "metadata": {},
   "outputs": [
    {
     "name": "stdout",
     "output_type": "stream",
     "text": [
      "Initialization complete\n"
     ]
    }
   ],
   "source": [
    "s3s = mantle.Mantle_SIR3S_Model()"
   ]
  },
  {
   "cell_type": "code",
   "execution_count": 8,
   "id": "d814ca8f",
   "metadata": {},
   "outputs": [],
   "source": [
    "from sir3stoolkit.mantle import mantle"
   ]
  },
  {
   "cell_type": "code",
   "execution_count": 9,
   "id": "567bcae1",
   "metadata": {},
   "outputs": [
    {
     "name": "stdout",
     "output_type": "stream",
     "text": [
      "Initialization complete\n"
     ]
    }
   ],
   "source": [
    "s3s = mantle.Mantle_SIR3S_Model()"
   ]
  },
  {
   "cell_type": "markdown",
   "id": "2007993a",
   "metadata": {},
   "source": [
    "## Additional"
   ]
  },
  {
   "cell_type": "code",
   "execution_count": null,
   "id": "3a443734",
   "metadata": {},
   "outputs": [],
   "source": [
    "import pandas as pd\n",
    "from shapely.geometry import Point\n",
    "import re\n",
    "import folium\n",
    "from folium.plugins import HeatMap\n",
    "import numpy as np\n",
    "import geopandas as gpd\n",
    "from shapely import wkt\n",
    "import matplotlib.pyplot as plt\n",
    "import contextily as cx"
   ]
  },
  {
   "cell_type": "markdown",
   "id": "d9a78e4d",
   "metadata": {},
   "source": [
    "# Open Model"
   ]
  },
  {
   "cell_type": "code",
   "execution_count": 11,
   "id": "20ff3c21",
   "metadata": {},
   "outputs": [
    {
     "name": "stdout",
     "output_type": "stream",
     "text": [
      "Model is open for further operation\n"
     ]
    }
   ],
   "source": [
    "s3s.OpenModel(dbName=r\"C:\\Users\\aUsername\\3S\\PT3S\\PT3S\\Examples\\Example3.db3\",\n              providerType=s3s.ProviderTypes.SQLite,\n              Mid=\"M-1-0-1\",\n              saveCurrentlyOpenModel=False,\n              namedInstance=\"\",\n              userID=\"\",\n              password=\"\")"
   ]
  },
  {
   "cell_type": "markdown",
   "id": "1297b929",
   "metadata": {},
   "source": [
    "# Prepare Data"
   ]
  },
  {
   "cell_type": "markdown",
   "id": "a6af11f5",
   "metadata": {},
   "source": [
    "## District Heating Consumer"
   ]
  },
  {
   "cell_type": "markdown",
   "id": "6eed41b9",
   "metadata": {},
   "source": [
    "### Metadata"
   ]
  },
  {
   "cell_type": "code",
   "execution_count": 12,
   "id": "1c60f6cc",
   "metadata": {},
   "outputs": [
    {
     "name": "stderr",
     "output_type": "stream",
     "text": [
      "[2025-10-17 13:22:33,659] INFO in sir3stoolkit.mantle.dataframes: [metadata] Generating metadata dataframe for element type: ObjectTypes.DistrictHeatingConsumer\n",
      "[2025-10-17 13:22:33,667] INFO in sir3stoolkit.mantle.dataframes: [metadata] Retrieved 337 element(s) of element type ObjectTypes.DistrictHeatingConsumer.\n",
      "[2025-10-17 13:22:33,691] DEBUG in sir3stoolkit.mantle.dataframes: [Resolving Metadata Properties] Using 0 metadata properties.\n",
      "[2025-10-17 13:22:33,692] INFO in sir3stoolkit.mantle.dataframes: [metadata] Retrieving geometry...\n",
      "[2025-10-17 13:22:33,724] INFO in sir3stoolkit.mantle.dataframes: [metadata] 0 non-empty end node columns were created)\n",
      "[2025-10-17 13:22:33,726] INFO in sir3stoolkit.mantle.dataframes: [metadata] Done. Shape: (337, 2)\n"
     ]
    }
   ],
   "source": [
    "df_consumer_metadata=s3s.generate_element_metadata_dataframe(element_type=s3s.ObjectTypes.DistrictHeatingConsumer, properties=[], geometry=True)"
   ]
  },
  {
   "cell_type": "code",
   "execution_count": 13,
   "id": "08c6c586",
   "metadata": {},
   "outputs": [
    {
     "data": {
      "text/html": [
       "<div>\n",
       "<style scoped>\n",
       "    .dataframe tbody tr th:only-of-type {\n",
       "        vertical-align: middle;\n",
       "    }\n",
       "\n",
       "    .dataframe tbody tr th {\n",
       "        vertical-align: top;\n",
       "    }\n",
       "\n",
       "    .dataframe thead th {\n",
       "        text-align: right;\n",
       "    }\n",
       "</style>\n",
       "<table border=\"1\" class=\"dataframe\">\n",
       "  <thead>\n",
       "    <tr style=\"text-align: right;\">\n",
       "      <th></th>\n",
       "      <th>tk</th>\n",
       "      <th>geometry</th>\n",
       "    </tr>\n",
       "  </thead>\n",
       "  <tbody>\n",
       "    <tr>\n",
       "      <th>0</th>\n",
       "      <td>4743997951091160959</td>\n",
       "      <td>POINT (713181.847468032 5578489.9250612)</td>\n",
       "    </tr>\n",
       "    <tr>\n",
       "      <th>1</th>\n",
       "      <td>5014209100699808035</td>\n",
       "      <td>POINT (713369.326806115 5578395.12330167)</td>\n",
       "    </tr>\n",
       "    <tr>\n",
       "      <th>2</th>\n",
       "      <td>4627580049017248376</td>\n",
       "      <td>POINT (713251.536184149 5578455.25247764)</td>\n",
       "    </tr>\n",
       "  </tbody>\n",
       "</table>\n",
       "</div>"
      ],
      "text/plain": [
       "                    tk                                   geometry\n",
       "0  4743997951091160959   POINT (713181.847468032 5578489.9250612)\n",
       "1  5014209100699808035  POINT (713369.326806115 5578395.12330167)\n",
       "2  4627580049017248376  POINT (713251.536184149 5578455.25247764)"
      ]
     },
     "execution_count": 13,
     "metadata": {},
     "output_type": "execute_result"
    }
   ],
   "source": [
    "df_consumer_metadata.head(3)"
   ]
  },
  {
   "cell_type": "markdown",
   "id": "0de616e8",
   "metadata": {},
   "source": [
    "### Result Data"
   ]
  },
  {
   "cell_type": "code",
   "execution_count": 14,
   "id": "90e7e467",
   "metadata": {},
   "outputs": [
    {
     "name": "stderr",
     "output_type": "stream",
     "text": [
      "[2025-10-17 13:22:33,759] INFO in sir3stoolkit.mantle.dataframes: [results] Generating results dataframe for element type: ObjectTypes.DistrictHeatingConsumer\n",
      "[2025-10-17 13:22:33,760] INFO in sir3stoolkit.mantle.dataframes: [Resolving Timestamps] No timestamps were given. Checking available simulation timestamps (SIR3S_Model.GetTimeStamps()).\n",
      "[2025-10-17 13:22:33,868] INFO in sir3stoolkit.mantle.dataframes: 25 simulation timestamps will be used.\n",
      "[2025-10-17 13:22:33,938] INFO in sir3stoolkit.mantle.dataframes: [Resolving Timestamps] 25 valid timestamps will be used.\n",
      "[2025-10-17 13:22:33,938] INFO in sir3stoolkit.mantle.dataframes: [results] Retrieved 337 tks.\n",
      "[2025-10-17 13:22:33,942] INFO in sir3stoolkit.mantle.dataframes: [results] Using 1 result properties.\n",
      "[2025-10-17 13:22:33,943] INFO in sir3stoolkit.mantle.dataframes: [results] Retrieving result properties...\n",
      "[2025-10-17 13:22:34,704] INFO in sir3stoolkit.mantle.dataframes: [results] Done. Shape: (8425, 3)\n"
     ]
    }
   ],
   "source": [
    "df_consumer_results=s3s.generate_element_results_dataframe(s3s.ObjectTypes.DistrictHeatingConsumer, [\"W\"])"
   ]
  },
  {
   "cell_type": "code",
   "execution_count": 15,
   "id": "8e8db479",
   "metadata": {},
   "outputs": [
    {
     "data": {
      "text/html": [
       "<div>\n",
       "<style scoped>\n",
       "    .dataframe tbody tr th:only-of-type {\n",
       "        vertical-align: middle;\n",
       "    }\n",
       "\n",
       "    .dataframe tbody tr th {\n",
       "        vertical-align: top;\n",
       "    }\n",
       "\n",
       "    .dataframe thead th {\n",
       "        text-align: right;\n",
       "    }\n",
       "</style>\n",
       "<table border=\"1\" class=\"dataframe\">\n",
       "  <thead>\n",
       "    <tr style=\"text-align: right;\">\n",
       "      <th></th>\n",
       "      <th>timestamp</th>\n",
       "      <th>tk</th>\n",
       "      <th>W</th>\n",
       "    </tr>\n",
       "  </thead>\n",
       "  <tbody>\n",
       "    <tr>\n",
       "      <th>0</th>\n",
       "      <td>2023-02-13 00:00:00.000 +01:00</td>\n",
       "      <td>4743997951091160959</td>\n",
       "      <td>0</td>\n",
       "    </tr>\n",
       "    <tr>\n",
       "      <th>1</th>\n",
       "      <td>2023-02-13 00:00:00.000 +01:00</td>\n",
       "      <td>5014209100699808035</td>\n",
       "      <td>0</td>\n",
       "    </tr>\n",
       "    <tr>\n",
       "      <th>2</th>\n",
       "      <td>2023-02-13 00:00:00.000 +01:00</td>\n",
       "      <td>4627580049017248376</td>\n",
       "      <td>0</td>\n",
       "    </tr>\n",
       "  </tbody>\n",
       "</table>\n",
       "</div>"
      ],
      "text/plain": [
       "                        timestamp                   tk  W\n",
       "0  2023-02-13 00:00:00.000 +01:00  4743997951091160959  0\n",
       "1  2023-02-13 00:00:00.000 +01:00  5014209100699808035  0\n",
       "2  2023-02-13 00:00:00.000 +01:00  4627580049017248376  0"
      ]
     },
     "execution_count": 15,
     "metadata": {},
     "output_type": "execute_result"
    }
   ],
   "source": [
    "df_consumer_results.head(3)"
   ]
  },
  {
   "cell_type": "markdown",
   "id": "49290dad",
   "metadata": {},
   "source": [
    "### Merge"
   ]
  },
  {
   "cell_type": "code",
   "execution_count": 16,
   "id": "13956e25",
   "metadata": {},
   "outputs": [],
   "source": [
    "df_consumer = pd.merge(\n",
    "    df_consumer_metadata,\n",
    "    df_consumer_results,\n",
    "    on=\"tk\",\n",
    "    how=\"outer\"\n",
    ")"
   ]
  },
  {
   "cell_type": "code",
   "execution_count": 17,
   "id": "c5f3d755",
   "metadata": {},
   "outputs": [
    {
     "data": {
      "text/html": [
       "<div>\n",
       "<style scoped>\n",
       "    .dataframe tbody tr th:only-of-type {\n",
       "        vertical-align: middle;\n",
       "    }\n",
       "\n",
       "    .dataframe tbody tr th {\n",
       "        vertical-align: top;\n",
       "    }\n",
       "\n",
       "    .dataframe thead th {\n",
       "        text-align: right;\n",
       "    }\n",
       "</style>\n",
       "<table border=\"1\" class=\"dataframe\">\n",
       "  <thead>\n",
       "    <tr style=\"text-align: right;\">\n",
       "      <th></th>\n",
       "      <th>tk</th>\n",
       "      <th>geometry</th>\n",
       "      <th>timestamp</th>\n",
       "      <th>W</th>\n",
       "    </tr>\n",
       "  </thead>\n",
       "  <tbody>\n",
       "    <tr>\n",
       "      <th>0</th>\n",
       "      <td>4611752310942477664</td>\n",
       "      <td>POINT (713675.30023234 5578705.1927566)</td>\n",
       "      <td>2023-02-13 00:00:00.000 +01:00</td>\n",
       "      <td>39.3675</td>\n",
       "    </tr>\n",
       "    <tr>\n",
       "      <th>1</th>\n",
       "      <td>4611752310942477664</td>\n",
       "      <td>POINT (713675.30023234 5578705.1927566)</td>\n",
       "      <td>2023-02-13 01:00:00.000 +01:00</td>\n",
       "      <td>39.83363</td>\n",
       "    </tr>\n",
       "    <tr>\n",
       "      <th>2</th>\n",
       "      <td>4611752310942477664</td>\n",
       "      <td>POINT (713675.30023234 5578705.1927566)</td>\n",
       "      <td>2023-02-13 02:00:00.000 +01:00</td>\n",
       "      <td>40.48209</td>\n",
       "    </tr>\n",
       "  </tbody>\n",
       "</table>\n",
       "</div>"
      ],
      "text/plain": [
       "                    tk                                 geometry  \\\n",
       "0  4611752310942477664  POINT (713675.30023234 5578705.1927566)   \n",
       "1  4611752310942477664  POINT (713675.30023234 5578705.1927566)   \n",
       "2  4611752310942477664  POINT (713675.30023234 5578705.1927566)   \n",
       "\n",
       "                        timestamp         W  \n",
       "0  2023-02-13 00:00:00.000 +01:00   39.3675  \n",
       "1  2023-02-13 01:00:00.000 +01:00  39.83363  \n",
       "2  2023-02-13 02:00:00.000 +01:00  40.48209  "
      ]
     },
     "execution_count": 17,
     "metadata": {},
     "output_type": "execute_result"
    }
   ],
   "source": [
    "df_consumer.head(3)"
   ]
  },
  {
   "cell_type": "markdown",
   "id": "d494e629",
   "metadata": {},
   "source": [
    "## Pipes"
   ]
  },
  {
   "cell_type": "markdown",
   "id": "02644004",
   "metadata": {},
   "source": [
    "### Metadata"
   ]
  },
  {
   "cell_type": "code",
   "execution_count": 18,
   "id": "6d4c590a",
   "metadata": {},
   "outputs": [
    {
     "name": "stderr",
     "output_type": "stream",
     "text": [
      "[2025-10-17 13:22:34,775] INFO in sir3stoolkit.mantle.dataframes: [metadata] Generating metadata dataframe for element type: ObjectTypes.Pipe\n",
      "[2025-10-17 13:22:34,784] INFO in sir3stoolkit.mantle.dataframes: [metadata] Retrieved 524 element(s) of element type ObjectTypes.Pipe.\n",
      "[2025-10-17 13:22:34,786] DEBUG in sir3stoolkit.mantle.dataframes: [Resolving Metadata Properties] Using 2 metadata properties.\n",
      "[2025-10-17 13:22:34,787] INFO in sir3stoolkit.mantle.dataframes: [metadata] Retrieving metadata properties ['DN', 'Kvr'], geometry, end nodes...\n",
      "[2025-10-17 13:22:34,979] INFO in sir3stoolkit.mantle.dataframes: [metadata] 2 non-empty end node columns were created)\n",
      "[2025-10-17 13:22:34,979] INFO in sir3stoolkit.mantle.dataframes: [metadata] Done. Shape: (524, 6)\n"
     ]
    }
   ],
   "source": [
    "df_pipes_metadata=s3s.generate_element_metadata_dataframe(element_type=s3s.ObjectTypes.Pipe, properties=[\"DN\", \"Kvr\"], geometry=True, end_nodes=True)"
   ]
  },
  {
   "cell_type": "code",
   "execution_count": 19,
   "id": "411c7eb0",
   "metadata": {},
   "outputs": [
    {
     "data": {
      "text/html": [
       "<div>\n",
       "<style scoped>\n",
       "    .dataframe tbody tr th:only-of-type {\n",
       "        vertical-align: middle;\n",
       "    }\n",
       "\n",
       "    .dataframe tbody tr th {\n",
       "        vertical-align: top;\n",
       "    }\n",
       "\n",
       "    .dataframe thead th {\n",
       "        text-align: right;\n",
       "    }\n",
       "</style>\n",
       "<table border=\"1\" class=\"dataframe\">\n",
       "  <thead>\n",
       "    <tr style=\"text-align: right;\">\n",
       "      <th></th>\n",
       "      <th>tk</th>\n",
       "      <th>DN</th>\n",
       "      <th>Kvr</th>\n",
       "      <th>geometry</th>\n",
       "      <th>fkKI</th>\n",
       "      <th>fkKK</th>\n",
       "    </tr>\n",
       "  </thead>\n",
       "  <tbody>\n",
       "    <tr>\n",
       "      <th>0</th>\n",
       "      <td>5442010239090746007</td>\n",
       "      <td>150</td>\n",
       "      <td>1</td>\n",
       "      <td>LINESTRING (713620.267807079 5578828.41875394,...</td>\n",
       "      <td>5669301360686511351</td>\n",
       "      <td>5397948523091900401</td>\n",
       "    </tr>\n",
       "    <tr>\n",
       "      <th>1</th>\n",
       "      <td>4917786378639043296</td>\n",
       "      <td>125</td>\n",
       "      <td>1</td>\n",
       "      <td>LINESTRING (713602.294599536 5578860.10567987,...</td>\n",
       "      <td>5397948523091900401</td>\n",
       "      <td>5239335112004772156</td>\n",
       "    </tr>\n",
       "    <tr>\n",
       "      <th>2</th>\n",
       "      <td>4762482310382009633</td>\n",
       "      <td>125</td>\n",
       "      <td>1</td>\n",
       "      <td>LINESTRING (713574.061626605 5578909.87290685,...</td>\n",
       "      <td>5239335112004772156</td>\n",
       "      <td>5298886695042021307</td>\n",
       "    </tr>\n",
       "  </tbody>\n",
       "</table>\n",
       "</div>"
      ],
      "text/plain": [
       "                    tk   DN Kvr  \\\n",
       "0  5442010239090746007  150   1   \n",
       "1  4917786378639043296  125   1   \n",
       "2  4762482310382009633  125   1   \n",
       "\n",
       "                                            geometry                 fkKI  \\\n",
       "0  LINESTRING (713620.267807079 5578828.41875394,...  5669301360686511351   \n",
       "1  LINESTRING (713602.294599536 5578860.10567987,...  5397948523091900401   \n",
       "2  LINESTRING (713574.061626605 5578909.87290685,...  5239335112004772156   \n",
       "\n",
       "                  fkKK  \n",
       "0  5397948523091900401  \n",
       "1  5239335112004772156  \n",
       "2  5298886695042021307  "
      ]
     },
     "execution_count": 19,
     "metadata": {},
     "output_type": "execute_result"
    }
   ],
   "source": [
    "df_pipes_metadata.head(3)"
   ]
  },
  {
   "cell_type": "markdown",
   "id": "ef579444",
   "metadata": {},
   "source": [
    "### Result data"
   ]
  },
  {
   "cell_type": "code",
   "execution_count": 20,
   "id": "333d9c63",
   "metadata": {},
   "outputs": [
    {
     "name": "stderr",
     "output_type": "stream",
     "text": [
      "[2025-10-17 13:22:35,016] INFO in sir3stoolkit.mantle.dataframes: [results] Generating results dataframe for element type: ObjectTypes.Pipe\n",
      "[2025-10-17 13:22:35,018] INFO in sir3stoolkit.mantle.dataframes: [Resolving Timestamps] No timestamps were given. Checking available simulation timestamps (SIR3S_Model.GetTimeStamps()).\n",
      "[2025-10-17 13:22:35,189] INFO in sir3stoolkit.mantle.dataframes: 25 simulation timestamps will be used.\n",
      "[2025-10-17 13:22:35,287] INFO in sir3stoolkit.mantle.dataframes: [Resolving Timestamps] 25 valid timestamps will be used.\n",
      "[2025-10-17 13:22:35,315] INFO in sir3stoolkit.mantle.dataframes: [results] Retrieved 524 tks.\n",
      "[2025-10-17 13:22:35,319] INFO in sir3stoolkit.mantle.dataframes: [results] Using 1 result properties.\n",
      "[2025-10-17 13:22:35,319] INFO in sir3stoolkit.mantle.dataframes: [results] Retrieving result properties...\n",
      "[2025-10-17 13:22:37,094] INFO in sir3stoolkit.mantle.dataframes: [results] Done. Shape: (13100, 3)\n"
     ]
    }
   ],
   "source": [
    "df_pipes_results=s3s.generate_element_results_dataframe(s3s.ObjectTypes.Pipe, [\"QMAV\"])"
   ]
  },
  {
   "cell_type": "code",
   "execution_count": 21,
   "id": "f24edb04",
   "metadata": {},
   "outputs": [
    {
     "data": {
      "text/html": [
       "<div>\n",
       "<style scoped>\n",
       "    .dataframe tbody tr th:only-of-type {\n",
       "        vertical-align: middle;\n",
       "    }\n",
       "\n",
       "    .dataframe tbody tr th {\n",
       "        vertical-align: top;\n",
       "    }\n",
       "\n",
       "    .dataframe thead th {\n",
       "        text-align: right;\n",
       "    }\n",
       "</style>\n",
       "<table border=\"1\" class=\"dataframe\">\n",
       "  <thead>\n",
       "    <tr style=\"text-align: right;\">\n",
       "      <th></th>\n",
       "      <th>timestamp</th>\n",
       "      <th>tk</th>\n",
       "      <th>QMAV</th>\n",
       "    </tr>\n",
       "  </thead>\n",
       "  <tbody>\n",
       "    <tr>\n",
       "      <th>0</th>\n",
       "      <td>2023-02-13 00:00:00.000 +01:00</td>\n",
       "      <td>5442010239090746007</td>\n",
       "      <td>52.84819</td>\n",
       "    </tr>\n",
       "    <tr>\n",
       "      <th>1</th>\n",
       "      <td>2023-02-13 00:00:00.000 +01:00</td>\n",
       "      <td>4917786378639043296</td>\n",
       "      <td>29.67386</td>\n",
       "    </tr>\n",
       "    <tr>\n",
       "      <th>2</th>\n",
       "      <td>2023-02-13 00:00:00.000 +01:00</td>\n",
       "      <td>4762482310382009633</td>\n",
       "      <td>30.2523</td>\n",
       "    </tr>\n",
       "  </tbody>\n",
       "</table>\n",
       "</div>"
      ],
      "text/plain": [
       "                        timestamp                   tk      QMAV\n",
       "0  2023-02-13 00:00:00.000 +01:00  5442010239090746007  52.84819\n",
       "1  2023-02-13 00:00:00.000 +01:00  4917786378639043296  29.67386\n",
       "2  2023-02-13 00:00:00.000 +01:00  4762482310382009633   30.2523"
      ]
     },
     "execution_count": 21,
     "metadata": {},
     "output_type": "execute_result"
    }
   ],
   "source": [
    "df_pipes_results.head(3)"
   ]
  },
  {
   "cell_type": "code",
   "execution_count": 22,
   "id": "a98578cc",
   "metadata": {},
   "outputs": [],
   "source": [
    "df_pipes_results[\"QMAV\"]=df_pipes_results[\"QMAV\"].astype(float)"
   ]
  },
  {
   "cell_type": "code",
   "execution_count": 23,
   "id": "ce63b98a",
   "metadata": {},
   "outputs": [],
   "source": [
    "df_pipes_results[\"QMAV\"]=df_pipes_results[\"QMAV\"].abs()"
   ]
  },
  {
   "cell_type": "code",
   "execution_count": 24,
   "id": "0708539c",
   "metadata": {},
   "outputs": [],
   "source": [
    "df_pipes_results=df_pipes_results.rename(columns={\"QMAV\": \"QMAVAbs\"})"
   ]
  },
  {
   "cell_type": "markdown",
   "id": "4a014cac",
   "metadata": {},
   "source": [
    "### Merge"
   ]
  },
  {
   "cell_type": "code",
   "execution_count": 25,
   "id": "49f5df10",
   "metadata": {},
   "outputs": [],
   "source": [
    "df_pipes = pd.merge(\n",
    "    df_pipes_metadata,\n",
    "    df_pipes_results,\n",
    "    on=\"tk\",\n",
    "    how=\"outer\"\n",
    ")"
   ]
  },
  {
   "cell_type": "code",
   "execution_count": 26,
   "id": "977bc8f6",
   "metadata": {},
   "outputs": [],
   "source": [
    "df_pipes=df_pipes[df_pipes[\"Kvr\"] == \"1\"]"
   ]
  },
  {
   "cell_type": "code",
   "execution_count": 27,
   "id": "b038e191",
   "metadata": {},
   "outputs": [
    {
     "data": {
      "text/html": [
       "<div>\n",
       "<style scoped>\n",
       "    .dataframe tbody tr th:only-of-type {\n",
       "        vertical-align: middle;\n",
       "    }\n",
       "\n",
       "    .dataframe tbody tr th {\n",
       "        vertical-align: top;\n",
       "    }\n",
       "\n",
       "    .dataframe thead th {\n",
       "        text-align: right;\n",
       "    }\n",
       "</style>\n",
       "<table border=\"1\" class=\"dataframe\">\n",
       "  <thead>\n",
       "    <tr style=\"text-align: right;\">\n",
       "      <th></th>\n",
       "      <th>tk</th>\n",
       "      <th>DN</th>\n",
       "      <th>Kvr</th>\n",
       "      <th>geometry</th>\n",
       "      <th>fkKI</th>\n",
       "      <th>fkKK</th>\n",
       "      <th>timestamp</th>\n",
       "      <th>QMAVAbs</th>\n",
       "    </tr>\n",
       "  </thead>\n",
       "  <tbody>\n",
       "    <tr>\n",
       "      <th>25</th>\n",
       "      <td>4615723899944629797</td>\n",
       "      <td>999</td>\n",
       "      <td>1</td>\n",
       "      <td>LINESTRING (713738.296567236 5579219.90221333,...</td>\n",
       "      <td>5129584372458662150</td>\n",
       "      <td>5332825919690090061</td>\n",
       "      <td>2023-02-13 00:00:00.000 +01:00</td>\n",
       "      <td>3.667083e-10</td>\n",
       "    </tr>\n",
       "    <tr>\n",
       "      <th>26</th>\n",
       "      <td>4615723899944629797</td>\n",
       "      <td>999</td>\n",
       "      <td>1</td>\n",
       "      <td>LINESTRING (713738.296567236 5579219.90221333,...</td>\n",
       "      <td>5129584372458662150</td>\n",
       "      <td>5332825919690090061</td>\n",
       "      <td>2023-02-13 01:00:00.000 +01:00</td>\n",
       "      <td>1.440640e-09</td>\n",
       "    </tr>\n",
       "    <tr>\n",
       "      <th>27</th>\n",
       "      <td>4615723899944629797</td>\n",
       "      <td>999</td>\n",
       "      <td>1</td>\n",
       "      <td>LINESTRING (713738.296567236 5579219.90221333,...</td>\n",
       "      <td>5129584372458662150</td>\n",
       "      <td>5332825919690090061</td>\n",
       "      <td>2023-02-13 02:00:00.000 +01:00</td>\n",
       "      <td>1.414446e-09</td>\n",
       "    </tr>\n",
       "  </tbody>\n",
       "</table>\n",
       "</div>"
      ],
      "text/plain": [
       "                     tk   DN Kvr  \\\n",
       "25  4615723899944629797  999   1   \n",
       "26  4615723899944629797  999   1   \n",
       "27  4615723899944629797  999   1   \n",
       "\n",
       "                                             geometry                 fkKI  \\\n",
       "25  LINESTRING (713738.296567236 5579219.90221333,...  5129584372458662150   \n",
       "26  LINESTRING (713738.296567236 5579219.90221333,...  5129584372458662150   \n",
       "27  LINESTRING (713738.296567236 5579219.90221333,...  5129584372458662150   \n",
       "\n",
       "                   fkKK                       timestamp       QMAVAbs  \n",
       "25  5332825919690090061  2023-02-13 00:00:00.000 +01:00  3.667083e-10  \n",
       "26  5332825919690090061  2023-02-13 01:00:00.000 +01:00  1.440640e-09  \n",
       "27  5332825919690090061  2023-02-13 02:00:00.000 +01:00  1.414446e-09  "
      ]
     },
     "execution_count": 27,
     "metadata": {},
     "output_type": "execute_result"
    }
   ],
   "source": [
    "df_pipes.head(3)"
   ]
  },
  {
   "cell_type": "markdown",
   "id": "6d94dcf9",
   "metadata": {},
   "source": [
    "### Plotting Constants"
   ]
  },
  {
   "cell_type": "code",
   "execution_count": 28,
   "id": "9fbad0d8",
   "metadata": {},
   "outputs": [],
   "source": [
    "def parse_point_string(s):\n",
    "    # Extract numbers from the string using regex\n",
    "    match = re.match(r'POINT\\s*\\(\\s*([-\\d\\.]+)\\s+([-\\d\\.]+)\\s*\\)', s)\n",
    "    if match:\n",
    "        x, y = float(match.group(1)), float(match.group(2))\n",
    "        return Point(x, y)\n",
    "    else:\n",
    "        return None"
   ]
  },
  {
   "cell_type": "code",
   "execution_count": 29,
   "id": "8c4e2229",
   "metadata": {},
   "outputs": [],
   "source": [
    "df_consumer['geometry'] = df_consumer['geometry'].apply(parse_point_string)\n",
    "\n",
    "x_mean = df_consumer['geometry'].apply(lambda p: p.x if p else None).mean()\n",
    "y_mean = df_consumer['geometry'].apply(lambda p: p.y if p else None).mean()"
   ]
  },
  {
   "cell_type": "markdown",
   "id": "afd0dbcd",
   "metadata": {},
   "source": [
    "### Change datatypes"
   ]
  },
  {
   "cell_type": "code",
   "execution_count": 30,
   "id": "641a4835",
   "metadata": {},
   "outputs": [],
   "source": [
    "\n",
    "df_pipes['DN'] = pd.to_numeric(df_pipes['DN'], errors='coerce')\n",
    "df_pipes['QMAVAbs'] = pd.to_numeric(df_pipes['QMAVAbs'], errors='coerce')\n"
   ]
  },
  {
   "cell_type": "markdown",
   "id": "f1f12a79",
   "metadata": {},
   "source": [
    "### Filter rows"
   ]
  },
  {
   "cell_type": "code",
   "execution_count": 31,
   "id": "078de081",
   "metadata": {},
   "outputs": [],
   "source": [
    "df_pipes = df_pipes[df_pipes['DN'] != 999]"
   ]
  },
  {
   "cell_type": "markdown",
   "id": "de4ba784",
   "metadata": {},
   "source": [
    "### Turn into gdf"
   ]
  },
  {
   "cell_type": "code",
   "execution_count": 32,
   "id": "8766534c",
   "metadata": {},
   "outputs": [],
   "source": [
    "df_pipes['geometry'] = df_pipes['geometry'].apply(wkt.loads)"
   ]
  },
  {
   "cell_type": "code",
   "execution_count": 33,
   "id": "3b207191",
   "metadata": {},
   "outputs": [],
   "source": [
    "gdf_pipes = gpd.GeoDataFrame(df_pipes, geometry='geometry')"
   ]
  },
  {
   "cell_type": "code",
   "execution_count": 34,
   "id": "c9ff7006",
   "metadata": {},
   "outputs": [],
   "source": [
    "gdf_pipes=gdf_pipes.set_crs(epsg=4326, inplace=True)"
   ]
  },
  {
   "cell_type": "code",
   "execution_count": 35,
   "id": "3b5b2a7c",
   "metadata": {},
   "outputs": [
    {
     "data": {
      "text/html": [
       "<div>\n",
       "<style scoped>\n",
       "    .dataframe tbody tr th:only-of-type {\n",
       "        vertical-align: middle;\n",
       "    }\n",
       "\n",
       "    .dataframe tbody tr th {\n",
       "        vertical-align: top;\n",
       "    }\n",
       "\n",
       "    .dataframe thead th {\n",
       "        text-align: right;\n",
       "    }\n",
       "</style>\n",
       "<table border=\"1\" class=\"dataframe\">\n",
       "  <thead>\n",
       "    <tr style=\"text-align: right;\">\n",
       "      <th></th>\n",
       "      <th>tk</th>\n",
       "      <th>DN</th>\n",
       "      <th>Kvr</th>\n",
       "      <th>geometry</th>\n",
       "      <th>fkKI</th>\n",
       "      <th>fkKK</th>\n",
       "      <th>timestamp</th>\n",
       "      <th>QMAVAbs</th>\n",
       "    </tr>\n",
       "  </thead>\n",
       "  <tbody>\n",
       "    <tr>\n",
       "      <th>75</th>\n",
       "      <td>4621904482639719098</td>\n",
       "      <td>200</td>\n",
       "      <td>1</td>\n",
       "      <td>LINESTRING (713283.93228 5578718.12301, 713299...</td>\n",
       "      <td>5106194195554624313</td>\n",
       "      <td>5416743601805578486</td>\n",
       "      <td>2023-02-13 00:00:00.000 +01:00</td>\n",
       "      <td>86.89403</td>\n",
       "    </tr>\n",
       "    <tr>\n",
       "      <th>76</th>\n",
       "      <td>4621904482639719098</td>\n",
       "      <td>200</td>\n",
       "      <td>1</td>\n",
       "      <td>LINESTRING (713283.93228 5578718.12301, 713299...</td>\n",
       "      <td>5106194195554624313</td>\n",
       "      <td>5416743601805578486</td>\n",
       "      <td>2023-02-13 01:00:00.000 +01:00</td>\n",
       "      <td>87.91040</td>\n",
       "    </tr>\n",
       "    <tr>\n",
       "      <th>77</th>\n",
       "      <td>4621904482639719098</td>\n",
       "      <td>200</td>\n",
       "      <td>1</td>\n",
       "      <td>LINESTRING (713283.93228 5578718.12301, 713299...</td>\n",
       "      <td>5106194195554624313</td>\n",
       "      <td>5416743601805578486</td>\n",
       "      <td>2023-02-13 02:00:00.000 +01:00</td>\n",
       "      <td>89.32416</td>\n",
       "    </tr>\n",
       "  </tbody>\n",
       "</table>\n",
       "</div>"
      ],
      "text/plain": [
       "                     tk   DN Kvr  \\\n",
       "75  4621904482639719098  200   1   \n",
       "76  4621904482639719098  200   1   \n",
       "77  4621904482639719098  200   1   \n",
       "\n",
       "                                             geometry                 fkKI  \\\n",
       "75  LINESTRING (713283.93228 5578718.12301, 713299...  5106194195554624313   \n",
       "76  LINESTRING (713283.93228 5578718.12301, 713299...  5106194195554624313   \n",
       "77  LINESTRING (713283.93228 5578718.12301, 713299...  5106194195554624313   \n",
       "\n",
       "                   fkKK                       timestamp   QMAVAbs  \n",
       "75  5416743601805578486  2023-02-13 00:00:00.000 +01:00  86.89403  \n",
       "76  5416743601805578486  2023-02-13 01:00:00.000 +01:00  87.91040  \n",
       "77  5416743601805578486  2023-02-13 02:00:00.000 +01:00  89.32416  "
      ]
     },
     "execution_count": 35,
     "metadata": {},
     "output_type": "execute_result"
    }
   ],
   "source": [
    "gdf_pipes.head(3)"
   ]
  },
  {
   "cell_type": "markdown",
   "id": "ea1504ac",
   "metadata": {},
   "source": [
    "# Plotting (WORK IN PROGRESS)"
   ]
  },
  {
   "cell_type": "markdown",
   "id": "7bdf20e4",
   "metadata": {},
   "source": [
    "The function used below is not yet released."
   ]
  },
  {
   "cell_type": "code",
   "execution_count": 48,
   "id": "73f88ea3",
   "metadata": {},
   "outputs": [
    {
     "data": {
      "image/png": "[encoded data removed]",
      "text/plain": [
       "<Figure size 1169.29x1653.54 with 1 Axes>"
      ]
     },
     "metadata": {},
     "output_type": "display_data"
    }
   ],
   "source": [
    "import matplotlib.pyplot as plt\n",
    "\n",
    "fig, ax = plt.subplots(figsize=s3s.din_figsize(\"A3\", orientation=\"portrait\"))\n",
    "\n",
    "\n",
    "# 1) Create the first layer (no color mixing)\n",
    "layer1 = s3s.create_pipe_layer(\n",
    "    gdf=gdf_pipes,\n",
    "    geometry_col=\"geometry\",\n",
    "    cmap=\"viridis\",\n",
    "    width_scaling_col=\"DN\",\n",
    "    #color_mixing_col=\"QMAVAbs\",\n",
    "    min_width = 10,\n",
    "    max_width = 30,\n",
    "    default_color = (0.5, 0.5, 0.5, 1)\n",
    ")\n",
    "\n",
    "ax = layer1[\"axes\"]  # grab axes from the first layer\n",
    "\n",
    "layer2 = s3s.create_pipe_layer(\n",
    "    gdf=gdf_pipes,\n",
    "    ax=ax,\n",
    "    geometry_col=\"geometry\",\n",
    "    cmap=\"viridis\",\n",
    "    width_scaling_col=\"QMAVAbs\",\n",
    "    color_mixing_col=\"QMAVAbs\",\n",
    "    min_width = 5,\n",
    "    max_width = 10,\n",
    ")\n",
    "\n",
    "layer1[\"artist\"].set_zorder(1)  \n",
    "layer2[\"artist\"].set_zorder(10)  \n",
    "\n",
    "ax.set_title(\"Network Pipes\")\n",
    "plt.show()"
   ]
  }
 ],
 "metadata": {
  "kernelspec": {
   "display_name": "base",
   "language": "python",
   "name": "python3"
  },
  "language_info": {
   "codemirror_mode": {
    "name": "ipython",
    "version": 3
   },
   "file_extension": ".py",
   "mimetype": "text/x-python",
   "name": "python",
   "nbconvert_exporter": "python",
   "pygments_lexer": "ipython3",
   "version": "3.11.8"
  }
 },
 "nbformat": 4,
 "nbformat_minor": 5
}